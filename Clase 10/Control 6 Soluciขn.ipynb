{
 "cells": [
  {
   "cell_type": "markdown",
   "metadata": {},
   "source": [
    "# Control 6\n",
    "\n",
    "Considere la tabla winequality.csv, la cual contiene más de 6000 registros de vinos. Se requiere limpiar los datos de anomalías, sin embargo algunos métodos como el de tukey o puntaje Z pueden tener poca validéz para datos multivariados pues asumen que los datos son independientes.\n",
    "Explique como podría usted usar la metodología DBSCAN para filtrar las anomalías ¿Cómo eligiría el parámetro $\\epsilon$?. Asuma que los vecinos son 15.\n",
    "Implemente lo explicado y diga cuantos outliers hay. (DBSCAN marca los ruidos como -1)"
   ]
  },
  {
   "cell_type": "markdown",
   "metadata": {},
   "source": [
    "*Solución: Se puede usar el DBSCAN de tal forma que los datos pertenencientes al conjunto serán asignados a clusters, mientras que los no asignados suelen ser clasificados como ruido. El $\\epsilon$ se elige de a acuerdo al punto de quiebre el vecino más cercano de los 15 vecinos más cercanos*"
   ]
  },
  {
   "cell_type": "code",
   "execution_count": null,
   "metadata": {},
   "outputs": [],
   "source": [
    "import numpy as np\n",
    "import pandas as pd\n",
    "from sklearn import cluster as cl\n",
    "from sklearn.preprocessing import RobustScaler\n",
    "from sklearn.neighbors import NearestNeighbors\n",
    "import matplotlib.pyplot as plt\n",
    "\n",
    "wine = pd.read_csv('winequality.csv')\n",
    "scaler = RobustScaler().fit(wine[wine.columns[:11]])\n",
    "X = scaler.transform(wine[wine.columns[:11]])"
   ]
  },
  {
   "cell_type": "code",
   "execution_count": null,
   "metadata": {},
   "outputs": [],
   "source": [
    "wine.head()"
   ]
  },
  {
   "cell_type": "code",
   "execution_count": null,
   "metadata": {},
   "outputs": [],
   "source": [
    "nbrs = NearestNeighbors(n_neighbors = 15).fit(X)\n",
    "distances, indices = nbrs.kneighbors(X)"
   ]
  },
  {
   "cell_type": "code",
   "execution_count": null,
   "metadata": {},
   "outputs": [],
   "source": [
    "plt.plot(np.sort(distances[:,14]))"
   ]
  },
  {
   "cell_type": "code",
   "execution_count": null,
   "metadata": {},
   "outputs": [],
   "source": [
    "db = cl.DBSCAN(eps = 3, min_samples = 15)\n",
    "ft1 = db.fit_predict(X) \n",
    "ft1[ft1 != 0]\n",
    "len(ft1[ft1 != 0])"
   ]
  }
 ],
 "metadata": {
  "kernelspec": {
   "display_name": "Python 3",
   "language": "python",
   "name": "python3"
  },
  "language_info": {
   "codemirror_mode": {
    "name": "ipython",
    "version": 3
   },
   "file_extension": ".py",
   "mimetype": "text/x-python",
   "name": "python",
   "nbconvert_exporter": "python",
   "pygments_lexer": "ipython3",
   "version": "3.7.1"
  }
 },
 "nbformat": 4,
 "nbformat_minor": 2
}
