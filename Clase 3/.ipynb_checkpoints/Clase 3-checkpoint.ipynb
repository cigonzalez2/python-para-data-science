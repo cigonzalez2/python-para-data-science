{
 "cells": [
  {
   "cell_type": "markdown",
   "metadata": {},
   "source": [
    "## Clase 3: Más de Pandas\n",
    "\n",
    "En la clase anterior se vió el manejo básico de pandas, hoy repasaremos los conceptos e introduciremos mecanicas más avanzadas para el uso de esta herramienta. En esta clase usaremos los datos Futbol.csv, los cuales contienen los resultados de partidos de Fútbol de más de 38.000\n",
    " partidos internacionales desde 1872 hasta el 2018."
   ]
  },
  {
   "cell_type": "code",
   "execution_count": null,
   "metadata": {},
   "outputs": [],
   "source": [
    "import pandas as pd\n",
    "import numpy as np"
   ]
  },
  {
   "cell_type": "code",
   "execution_count": null,
   "metadata": {},
   "outputs": [],
   "source": [
    "futbol = pd.read_csv('Futbol.csv')"
   ]
  },
  {
   "cell_type": "code",
   "execution_count": null,
   "metadata": {},
   "outputs": [],
   "source": [
    "futbol.head()"
   ]
  },
  {
   "cell_type": "markdown",
   "metadata": {},
   "source": [
    "Cuando se trabaja con datos, hay operaciones que nos gusta ver apenas comienza la lectura de datos. Una de estas es ver cuantos datos faltantes tenemos.\n",
    "\n",
    "Para esto usaremos parte de los conceptos de orientación a objetos. \n",
    "Lo que hay que notar es que varias operaciones sobre un objeto data frame, retornan otro objeto data frame, por lo cual varias operaciones pueden ser encadenadas. Por ejemplo, la función isnull() retorna un dataframe idéntico al original, pero en lugar de valores tiene True o False (1 o 0 para la máquina) a este resultado se le puede encadenar la operación de suma."
   ]
  },
  {
   "cell_type": "code",
   "execution_count": null,
   "metadata": {},
   "outputs": [],
   "source": [
    "futbol.isnull().head()"
   ]
  },
  {
   "cell_type": "markdown",
   "metadata": {},
   "source": [
    "Lo mismo lo podemos obtener en porcentajes usando algo de ingenio."
   ]
  },
  {
   "cell_type": "code",
   "execution_count": null,
   "metadata": {},
   "outputs": [],
   "source": [
    "null_percent = futbol.isnull().mean() * 100"
   ]
  },
  {
   "cell_type": "code",
   "execution_count": null,
   "metadata": {},
   "outputs": [],
   "source": [
    "null_percent"
   ]
  },
  {
   "cell_type": "markdown",
   "metadata": {},
   "source": [
    "Cuando se encadena una operación a un data frame, este aplicará la operación para todos los elementos de la columna."
   ]
  },
  {
   "cell_type": "markdown",
   "metadata": {},
   "source": [
    "A pesar que no sea el caso, para ilustar se puede ver que aplicando lo anterior con un filtro sencillo, se pueden obtener los datos tal que las columnas no presenten cierto porcentaje de valores nulos."
   ]
  },
  {
   "cell_type": "code",
   "execution_count": null,
   "metadata": {},
   "outputs": [],
   "source": [
    "futbol = futbol[null_percent[null_percent < 50].index]"
   ]
  },
  {
   "cell_type": "code",
   "execution_count": null,
   "metadata": {},
   "outputs": [],
   "source": [
    "null_percent[null_percent < 50].index"
   ]
  },
  {
   "cell_type": "markdown",
   "metadata": {},
   "source": [
    "En caso que quisieramos eliminar los possibles datos faltantes, la función dropna los elimina. Una vez los datos limpios quizas lo primero que nos gustaría obtener es un resumen de los datos. la función describe entrega esa información"
   ]
  },
  {
   "cell_type": "code",
   "execution_count": null,
   "metadata": {},
   "outputs": [],
   "source": [
    "futbol.describe()"
   ]
  },
  {
   "cell_type": "markdown",
   "metadata": {},
   "source": [
    "### Transformaciones Básicas\n",
    "\n",
    "Para aplicar transformaciones, pandas tiene para ello la función assign, la cual permite aplicar cálculos a las variables. Su uso es el siguiente:\n",
    "\n",
    "``` pd.assing(column_x = f(column_y, column_z, ...)) ```\n",
    "\n",
    "donde ```f``` corresponde a una función.\n",
    "\n",
    "**Ejemplo:** Los datos indican los resultados obtenidos. Genere un flag que sea 2 si es que el equipo local ganó, 1 si es empate y 0 si perdió"
   ]
  },
  {
   "cell_type": "code",
   "execution_count": null,
   "metadata": {},
   "outputs": [],
   "source": [
    "futbol = futbol.assign(home_winner = lambda x: (x.home_score > x.away_score) * 2 + (x.home_score == x.away_score))"
   ]
  },
  {
   "cell_type": "code",
   "execution_count": null,
   "metadata": {},
   "outputs": [],
   "source": [
    "futbol.head(5)"
   ]
  },
  {
   "cell_type": "markdown",
   "metadata": {},
   "source": [
    "**Ejercicio:** Genere una nueva columna \"was_friendly\" que tome el valor 1 si el partido fue amistoso (Friendly) y 0 en otro caso. Genere otra columna que sea la diferencia de goles."
   ]
  },
  {
   "cell_type": "code",
   "execution_count": null,
   "metadata": {},
   "outputs": [],
   "source": [
    "futbol = (futbol.\n",
    " assign(was_friendly = lambda x: (x.tournament == 'Friendly') * 1).\n",
    " assign(dif_goal = lambda x: (x.home_score - x.away_score)))"
   ]
  },
  {
   "cell_type": "code",
   "execution_count": null,
   "metadata": {},
   "outputs": [],
   "source": [
    "futbol.head()"
   ]
  },
  {
   "cell_type": "markdown",
   "metadata": {},
   "source": [
    "Otra familia de transformaciones importante es para el tipo de variables. Esto se logra con la función ```astype('tipo')```\n",
    "\n",
    "**Ejemplo:** Transforme el home_score y el away_score a un int de 8 bits, vea como cambia el uso de memoria."
   ]
  },
  {
   "cell_type": "code",
   "execution_count": null,
   "metadata": {},
   "outputs": [],
   "source": [
    "futbol.memory_usage()"
   ]
  },
  {
   "cell_type": "markdown",
   "metadata": {},
   "source": [
    "Los tipos no se han definifo previamente, como vemos Python está ocupando la memoria de la forma más ineficiente posible, al definir un tipo global que puede englobar valores que puede tomar. Por ejemplo asigando números como enteros de 64 bits o decimales como floats de 64 bit. Em nuestro caso sabemos que algunos números no requieren tanto uso de memoria. Por ejemplo un entero de 8 bits aguanta valores desde -128 a 128"
   ]
  },
  {
   "cell_type": "code",
   "execution_count": null,
   "metadata": {},
   "outputs": [],
   "source": [
    "futbol.home_score = futbol.home_score.astype('int8')\n",
    "futbol.away_score = futbol.away_score.astype('int8')\n",
    "futbol.dif_goal = futbol.dif_goal.astype('int8')\n",
    "futbol.home_winner = futbol.dif_goal.astype('int8')\n",
    "futbol.was_friendly = futbol.was_friendly.astype('bool')\n",
    "futbol.head()"
   ]
  },
  {
   "cell_type": "code",
   "execution_count": null,
   "metadata": {},
   "outputs": [],
   "source": [
    "futbol.memory_usage()"
   ]
  },
  {
   "cell_type": "markdown",
   "metadata": {},
   "source": [
    "El uso de memoria se reduce en un factor de 8, esto es pues al leer datos, a las columnas se les asigna un tipo genérico, el cual ocupa los 64 bits de la máquina. Como cada byte usa 8 bits, el tamaño de cada dato es de 8 bytes, lo que hicimos fue asignar un entero de 8 bits para asi cada uno de esos datos sólo pese un byte en lugar de 8.\n",
    "\n",
    "La moraleja es que se puede ahorrar bastante RAM asignando correctamente los tipos de variables."
   ]
  },
  {
   "cell_type": "markdown",
   "metadata": {},
   "source": [
    "### Más acerca del groupby\n",
    "\n",
    "Si bien la clase pasada vimos el funcionamiento básico del groupby, ahora veremos una forma más general de uso. Consideremos la siguiente estructura:\n",
    "\n",
    "```groupby([key_1, key2,..]).agg({'ag_1': ['function_1', 'function_2', ...], 'ag_2': ['function_1', 'function_2', ...]}) ```\n",
    "\n",
    "Esta es la forma más general de agregación usando group_by. Se aplican las funciones de resumen a los campos indicados, de acuerdo a como se indica en el diccionario.\n",
    "\n",
    "**Ejemplo:** Vamos a calcular el promedio y la mediana de los resultados del equipo local y el equipo de visita, todo esto por el torneo que se jugó. Aquí la llave es el torneo, las variables objetivos son los resultados y las funciones objetivo son la media y la mediana. Indique los campeonatos con más goles promedio de local\n"
   ]
  },
  {
   "cell_type": "code",
   "execution_count": null,
   "metadata": {},
   "outputs": [],
   "source": [
    "f = (futbol.groupby(['tournament']).\n",
    "agg({'home_score': [np.mean, np.median], 'away_score': [np.mean, np.median]}).\n",
    "reset_index().\n",
    "sort_values([('home_score', 'mean')], ascending = False))"
   ]
  },
  {
   "cell_type": "code",
   "execution_count": null,
   "metadata": {},
   "outputs": [],
   "source": [
    "(futbol.groupby(['tournament']).\n",
    "agg({'home_score': [np.mean, np.median], 'away_score': [np.mean, np.median]}).\n",
    "head(5))"
   ]
  },
  {
   "cell_type": "markdown",
   "metadata": {},
   "source": [
    "**Ejercicio:** Obtenga un resumen por pais jugando de local. Este resumen debe tener el promedio de goles de local, el número de partido jugados y la proporción de amistosos jugados."
   ]
  },
  {
   "cell_type": "code",
   "execution_count": null,
   "metadata": {},
   "outputs": [],
   "source": [
    "(futbol.groupby(['home_team']).\n",
    "agg({'home_score': [np.mean, len], 'was_friendly': [np.mean]}).\n",
    "reset_index().\n",
    "head(5))"
   ]
  },
  {
   "cell_type": "markdown",
   "metadata": {},
   "source": [
    "Muchas veces nos interesa realizar operaciones dentro de un grupo, pero no necesariamente todas tienen que colapsar en un solo valor.\n",
    "Un ejemplo de esto puede ser cualquier cálculo que retorne varios valores. Esto puede ser logrado con el apply, el cual aplica una función sin necesariamente agregar los valores. La estructura básica de uso es la siguiente\n",
    "\n",
    "```groupby([key_1, key2,..]).apply(f(x)) ```\n",
    "\n",
    "Esta estrucura es probablemente la más general, aquí sólo se indica una función, la cual recibe como argumento la data agrupada, el retorno puede ser cualquier cosa, pero la mejor práctica es que retorne otra data frame. En el caso de agg, estas son todas funciones reciben un array y retornan un valor. En este caso las funciones no necesariamente retornan un puro valor.\n",
    "\n",
    "**Ejemplo:** Calcule el orden temporal del partido según pais jugado. Por ejemplo el primero de la tabla es en escocia, ese es el 1, el del registro 2 es el segundo de escocia, ese sería el 2 para el. "
   ]
  },
  {
   "cell_type": "code",
   "execution_count": null,
   "metadata": {},
   "outputs": [],
   "source": [
    "(futbol.sort_values(['date']).\n",
    " assign(orden = 1).\n",
    "groupby(['country']).\n",
    "apply(lambda x: np.cumsum(x.orden)).\n",
    "reset_index().\n",
    "head(5))"
   ]
  },
  {
   "cell_type": "code",
   "execution_count": null,
   "metadata": {},
   "outputs": [],
   "source": []
  },
  {
   "cell_type": "markdown",
   "metadata": {},
   "source": [
    "Es el resultado, pero sería más útil con la fecha. Una opción es hacer un merge por el índice y la otra es aplicar dos o más funciones en el apply, una con el orden, otra que copie la misma fecha y otra que copie el pais."
   ]
  },
  {
   "cell_type": "code",
   "execution_count": null,
   "metadata": {},
   "outputs": [],
   "source": [
    "(futbol.sort_values(['date']).\n",
    " assign(orden = 1).\n",
    "groupby(['country']).\n",
    "apply(lambda x: pd.DataFrame({'order': np.cumsum(x.orden), 'date': x.date, 'country': x.country})).\n",
    "head())"
   ]
  },
  {
   "cell_type": "markdown",
   "metadata": {},
   "source": [
    "**Ejercicio:** Obtenga la serie del acumulado de diferencia de goles por cada pais en partidos de local. ¿Cómo va Chile?"
   ]
  },
  {
   "cell_type": "code",
   "execution_count": null,
   "metadata": {},
   "outputs": [],
   "source": [
    "diferencia_chile = (futbol.sort_values(['date']).\n",
    " assign(diferencia = lambda x: x.home_score - x.away_score).\n",
    "groupby(['home_team']).\n",
    "apply(lambda x: pd.DataFrame({'diferencia': np.cumsum(x.diferencia), 'date': x.date, 'country': x.home_team})).\n",
    "sort_values(['country', 'date']).\n",
    "query('country == \"Chile\"'))"
   ]
  },
  {
   "cell_type": "code",
   "execution_count": null,
   "metadata": {},
   "outputs": [],
   "source": [
    "diferencia_chile.head()"
   ]
  },
  {
   "cell_type": "markdown",
   "metadata": {},
   "source": [
    "## Gráficos Sencillos \n",
    "\n",
    "La librería usual para graficar es la matplotlib, la cual produce unos gráficos bastante similares a los de R por default, si bien es la alternativa más flexible, pandas también trae incorporado un módulo para generar gráficos, este es el módulo .plot el cual trae una librería con los gráficos más comunes que solemos hacer. \n",
    "\n",
    "A pesar que ya se cargan las funciones necesarias de matplotlib, es necesario importar la librería para visualizar el gráfico."
   ]
  },
  {
   "cell_type": "markdown",
   "metadata": {},
   "source": [
    "### Histogramas\n",
    "\n",
    "Los histogramas tienen la siguiente estructura básica:\n",
    "\n",
    "``` df.hist(column, bins = 10, by = None, range = (x.min(), x.max()), color = None)```\n",
    "\n",
    "**Ejemplo:** Genere un histograma rojo con los goles anotados por Chile de visita\n"
   ]
  },
  {
   "cell_type": "code",
   "execution_count": null,
   "metadata": {},
   "outputs": [],
   "source": [
    "import matplotlib.pyplot as plt\n",
    "futbol.query('away_team == \"Chile\"').hist(column = 'away_score', color = '#FF0000')\n",
    "plt.show()"
   ]
  },
  {
   "cell_type": "markdown",
   "metadata": {},
   "source": [
    "### Colores"
   ]
  },
  {
   "cell_type": "markdown",
   "metadata": {},
   "source": [
    "El color se puede indicar de varias formas. La del ejemplo es mediante el código en hexadecimal, para leerlo:\n",
    "\n",
    "- El # es gratuito, siempre va.\n",
    "- Los dos primeros números indican la intensidad del rojo, siendo 00 nada de rojo y FF 255 de rojo. Los números se pueden obtener traduciendo el hexadecimal a decimal así\n",
    "$$N_1 \\cdot 16^1 + N_2 \\cdot 16^0$$\n",
    "Así se consideran los números y $A = 10$, $B = 11$, $C = 12$, $D = 13$, $E = 14$ y $F = 15$ en el ejemplo es 255 pues reemplazando las F\n",
    "\n",
    "$$15 \\cdot 16 + 15 \\cdot 1 = 255$$\n",
    "\n",
    "- Los dos segundos números son la intensidad de verde y los últimos dos la intensidad de azul.\n",
    "- El `#000000` indica el color negro (ningún color) mientras `#FFFFFF` el blanco (todos los colores). Por último los numeros iguales darán un color en escala de gris\n",
    "- Ahora ustedes ¿Cómo haría el morado?"
   ]
  },
  {
   "cell_type": "markdown",
   "metadata": {},
   "source": [
    "Otra forma más sencilla de indicar el color es indicar directamente el RGB, indicando en una tupla cuanto de cada color, donde 1 es todo y 0 es nada."
   ]
  },
  {
   "cell_type": "code",
   "execution_count": null,
   "metadata": {},
   "outputs": [],
   "source": [
    "futbol.query('away_team == \"Chile\"').hist(column = 'away_score', color = (1, 0, 0, 0.6))\n",
    "plt.show()"
   ]
  },
  {
   "cell_type": "markdown",
   "metadata": {},
   "source": [
    "La forma más intuitiva (pero a mi gusto la menos recomendada) es utilizar el nombre de fantasía del color"
   ]
  },
  {
   "cell_type": "code",
   "execution_count": null,
   "metadata": {},
   "outputs": [],
   "source": [
    "futbol.query('away_team == \"Chile\"').hist(column = 'away_score', color = 'red')\n",
    "plt.show()"
   ]
  },
  {
   "cell_type": "markdown",
   "metadata": {},
   "source": [
    "Para manipulación avanzada de colores se puede importar el módulo colors de matplotlib. \n",
    "Por ejemplo en caso que quisieran el RGB de algún color, la librería proporciona métodos para eso como para personalizar colores con sombras o efectos y diversas utilidades para colores. "
   ]
  },
  {
   "cell_type": "code",
   "execution_count": null,
   "metadata": {},
   "outputs": [],
   "source": [
    "import matplotlib.colors as cl\n",
    "cl.ColorConverter.to_rgb(\"red\")"
   ]
  },
  {
   "cell_type": "markdown",
   "metadata": {},
   "source": [
    "El histograma anterios es básico para obtener una vista rápida de los datos. Sin embargo si se requiere más detalle se sugiere crearlo más manualmente. Utilizando numpy y matplotlib se puede hacer el truco. Por ejemplo"
   ]
  },
  {
   "cell_type": "code",
   "execution_count": null,
   "metadata": {},
   "outputs": [],
   "source": [
    "Y, X = np.histogram(futbol.query('away_team == \"Chile\"')['away_score'])\n",
    "print(Y)\n",
    "print(X)"
   ]
  },
  {
   "cell_type": "markdown",
   "metadata": {},
   "source": [
    "Esto nos da números que son las coordenadas de la altura y comienzo de cada barra respectivamente. Estos valores pueden ser gráficados en barras. Aquí se especifica como:\n",
    "\n",
    "`plt.bar(x, height, color, width, align, edgecolor, linewidth, tick_label, orientation)`\n",
    "\n",
    "- `x` son las coordenada en el eje X donde se centra la barra\n",
    "- `height` son las coordenades del eje Y, es decir las alturas de las barras\n",
    "- `color` creo que el nombre es lo bastante explícito, sin embargo los colores se pueden asignar como un arreglo en caso que quisieran barras de distintos colores.\n",
    "- `width` es el ancho de las barras.\n",
    "- `align` indica si las barras se centran o se dejar comenzando a partir del valor X\n",
    "- `edgecolor` es el colors del borde de la barra\n",
    "- `linewidth` es el grosor del borde de las barras\n",
    "- `tick_label` son las etiquetas del eje X en las barras\n",
    "- `orientation` indica si se desean barras verticales u horizontales\n",
    "\n",
    "\n"
   ]
  },
  {
   "cell_type": "code",
   "execution_count": null,
   "metadata": {},
   "outputs": [],
   "source": [
    "plt.bar(x = X[:-1],\n",
    "        height = Y,\n",
    "        color = \"red\",\n",
    "        width = (X[1] - X[0]),\n",
    "        align = 'edge',\n",
    "        edgecolor = \"#FFFFFF\",\n",
    "        linewidth = 1.5,\n",
    "        tick_label = np.round(X[:-1], 1),\n",
    "        orientation = \"vertical\")\n",
    "plt.show()"
   ]
  },
  {
   "cell_type": "markdown",
   "metadata": {},
   "source": [
    "Respecto a colores también se pueden usar paletas de colores ya predefinidas (también es posible definir las propias usando el módulo colors), estas generan rgb de acuerdo a un color inicial y final. Por ejemplo veamos la ocean "
   ]
  },
  {
   "cell_type": "code",
   "execution_count": null,
   "metadata": {},
   "outputs": [],
   "source": [
    "cm = plt.cm.get_cmap('ocean')\n",
    "print(cm(np.array(range(10)) / 10))"
   ]
  },
  {
   "cell_type": "code",
   "execution_count": null,
   "metadata": {},
   "outputs": [],
   "source": [
    "C = [cm(((x - X.min()) / (X.max() - X.min()))) for x in X]\n",
    "plt.bar(X[:-1], Y, color = C, width = X[1] - X[0])\n",
    "plt.show()"
   ]
  },
  {
   "cell_type": "markdown",
   "metadata": {},
   "source": [
    "Si lo desean, también se puede agregar la grilla de fondo en el recuadro con la opción ``grid``."
   ]
  },
  {
   "cell_type": "code",
   "execution_count": null,
   "metadata": {},
   "outputs": [],
   "source": [
    "C = [cm(((x - X.min()) / (X.max() - X.min()))) for x in X]\n",
    "plt.bar(X[:-1],\n",
    "        Y,\n",
    "        color = C,\n",
    "        width = X[1] - X[0])\n",
    "plt.grid(color = '#AAAAAA',\n",
    "         linestyle = '--',\n",
    "         axis = 'y',\n",
    "         linewidth = 1,\n",
    "        alpha = 0.4)\n",
    "plt.show()"
   ]
  },
  {
   "cell_type": "markdown",
   "metadata": {},
   "source": [
    "### Boxplot\n",
    "\n",
    "Al igual que el histograma, se puede obtener uno rápido desde un data frame, cambian algunas pequeñas opciones\n",
    "\n",
    "``` df.boxplot(column, by = None, color = None)```\n",
    "\n",
    "- `column` es la data a usar\n",
    "- `by` es el separador\n",
    "\n",
    "**Ejemplo:** Genere un box-plot con los goles de local de Chile, Perú, Argentina y Brazil\n"
   ]
  },
  {
   "cell_type": "code",
   "execution_count": null,
   "metadata": {},
   "outputs": [],
   "source": [
    "futbol.query('home_team in [\"Chile\", \"Argentina\", \"Peru\", \"Brazil\"]').boxplot(by = ['home_team'], column = 'home_score')\n",
    "plt.show()"
   ]
  },
  {
   "cell_type": "markdown",
   "metadata": {},
   "source": [
    "Al igual que con el histograma se puede hacer más general"
   ]
  },
  {
   "cell_type": "code",
   "execution_count": null,
   "metadata": {},
   "outputs": [],
   "source": [
    "paises = (\"Chile\", \"Argentina\", \"Peru\", \"Brazil\")\n",
    "dt = [futbol[futbol.home_team == x].home_score for x in paises] \n",
    "plt.boxplot(x = dt,\n",
    "            labels = paises,\n",
    "            notch = True,\n",
    "           vert = True,\n",
    "           showmeans = True)\n",
    "plt.grid()\n",
    "plt.show()"
   ]
  },
  {
   "cell_type": "markdown",
   "metadata": {},
   "source": [
    "### Line plot\n",
    "\n",
    "sigue la siguiente estructura\n",
    "\n",
    "``` df.plot(x, y, by = None, color = None)```\n",
    "\n",
    "**Ejemplo:** Obtenga el gráfico de línea de la evolución de la diferencia de goles en Chile.\n"
   ]
  },
  {
   "cell_type": "code",
   "execution_count": null,
   "metadata": {},
   "outputs": [],
   "source": [
    "futbol.query(\"home_team == 'Chile'\").plot(x = 'date', y = 'dif_goal')\n",
    "plt.show()"
   ]
  },
  {
   "cell_type": "markdown",
   "metadata": {},
   "source": [
    "### Scatter plot\n",
    "\n",
    "Por último el scatter plot funciona parecido al de línea\n",
    "\n",
    "``` df.plot(x, y, by = None, color = None, kind = 'scatter')```\n",
    "\n",
    "**Ejemplo:** Genere un gráfico de dispersión de los goles favor vs los goles en contra de los partidos de chile de visita"
   ]
  },
  {
   "cell_type": "code",
   "execution_count": null,
   "metadata": {},
   "outputs": [],
   "source": [
    "futbol.query('away_team == \"Chile\"').plot(x = 'home_score', y = 'away_score', kind = 'scatter')\n",
    "plt.show()"
   ]
  },
  {
   "cell_type": "markdown",
   "metadata": {},
   "source": [
    "### Más general\n",
    "\n",
    "Como ya se observó, en los últimos gráficos basta cambiar el argumento \"kind\". En particular, están los siguientes tipos.\n",
    "\n",
    "- ‘line’ : Line plot (default)\n",
    "- ‘bar’ : Barras verticales\n",
    "- ‘barh’ : Barras horizontales\n",
    "- ‘hist’ : Histograma\n",
    "- ‘box’ : Boxplot\n",
    "- ‘kde’ : Gráfico de densidad por kernel\n",
    "- ‘area’ : Gráfico de área\n",
    "- ‘pie’ : Gráfico de torta\n",
    "- ‘scatter’ : Scatter plot\n",
    "- ‘hexbin’ : Gráfico de hexagonos.\n"
   ]
  },
  {
   "cell_type": "markdown",
   "metadata": {},
   "source": [
    "## Gráficos no tan sencillos"
   ]
  },
  {
   "cell_type": "markdown",
   "metadata": {},
   "source": [
    "Los gráficos de pandas son prácticos pues permiten encadenar el proceso de transformación de datos con el gráfico, sino embargo es necesario aplicar la libraría matplotlib con la finalidad de tener la mayor flexibilidad en los gráficos.\n",
    "\n",
    "el uso básico es la función plot, la cual hace por defecto un gráfico de linea. Volvamos un momento al gráfico visto anteriormente, pero hecho de otra forma."
   ]
  },
  {
   "cell_type": "code",
   "execution_count": null,
   "metadata": {},
   "outputs": [],
   "source": [
    "#Convertir a formato fecha. Ojo que esto es útil\n",
    "futbol.date = pd.to_datetime(futbol.date)\n",
    "plt.plot(futbol.query(\"home_team == 'Chile'\").date, \n",
    "          futbol.query(\"home_team == 'Chile'\").dif_goal)\n",
    "plt.show()"
   ]
  },
  {
   "cell_type": "markdown",
   "metadata": {},
   "source": [
    "Quizas lo primero que queremos cambiar es poner un título y nombre a los ejes, para esto antes de pedir que muestre el gráfico, se configuran los ejes, títulos, legendas y agregados al gráfico."
   ]
  },
  {
   "cell_type": "code",
   "execution_count": null,
   "metadata": {},
   "outputs": [],
   "source": [
    "plt.plot(futbol.query(\"home_team == 'Chile'\").date ,futbol.query(\"home_team == 'Chile'\").dif_goal)\n",
    "plt.title('Evolución diferencia goles Chile')\n",
    "plt.xlabel('Año')\n",
    "plt.ylabel('Diferencia de Goles')\n",
    "plt.legend(('Diferencia',), loc = 'upper left')\n",
    "plt.show()"
   ]
  },
  {
   "cell_type": "markdown",
   "metadata": {},
   "source": [
    "Como se puede ver, cada añadido se lee y se une todo al aplicar el ```plt.show()```. \n",
    "\n",
    "**Ejercicio:** Cree una gráfico que muestre la evolución de la diferencia de goles de Chile y la de Argentina en un mismo gráfico. Agregue ejes, títulos y legendas. Asegurese que Chile esté en color rojo y Argentina en celeste."
   ]
  },
  {
   "cell_type": "code",
   "execution_count": null,
   "metadata": {},
   "outputs": [],
   "source": [
    "diferencia_argentina = (futbol.sort_values(['date']).\n",
    " assign(diferencia = lambda x: x.home_score - x.away_score).\n",
    "groupby(['home_team']).\n",
    "apply(lambda x: pd.DataFrame({'diferencia': np.cumsum(x.diferencia), 'date': x.date, 'country': x.home_team})).\n",
    "sort_values(['country', 'date']).\n",
    "query('country == \"Argentina\"'))\n",
    "\n",
    "diferencia_chile = (futbol.sort_values(['date']).\n",
    " assign(diferencia = lambda x: x.home_score - x.away_score).\n",
    "groupby(['home_team']).\n",
    "apply(lambda x: pd.DataFrame({'diferencia': np.cumsum(x.diferencia), 'date': x.date, 'country': x.home_team})).\n",
    "sort_values(['country', 'date']).\n",
    "query('country == \"Chile\"'))\n",
    "\n",
    "diferencia_argentina.date = pd.to_datetime(diferencia_argentina.date)\n",
    "diferencia_chile.date = pd.to_datetime(diferencia_chile.date)\n",
    "\n",
    "plt.plot(diferencia_chile.date ,diferencia_chile.diferencia, color = 'red')\n",
    "plt.plot(diferencia_argentina.date ,diferencia_argentina.diferencia, color = '#000055')\n",
    "\n",
    "plt.title('Evolución diferencia goles Chile y Argentina')\n",
    "plt.xlabel('Año')\n",
    "plt.ylabel('Diferencia de Goles')\n",
    "plt.legend(('Diferencia Chile', 'Diferencia Argentina',), loc = 'upper left')\n",
    "plt.show()\n",
    "\n"
   ]
  },
  {
   "cell_type": "markdown",
   "metadata": {},
   "source": [
    "### Subplots\n",
    "\n",
    "El objetivo de esto es mostrar varios gráficos en una misma ventana, sin necesidad de sobreponen un gráfico a otro. El comando básico es el ```figure```. Vamos a hacer un ejemplo sencillo, vamos a mostrar dos gráficos e una figura."
   ]
  },
  {
   "cell_type": "code",
   "execution_count": null,
   "metadata": {},
   "outputs": [],
   "source": [
    "t = np.arange(0.0, 2.0, 0.01)\n",
    "s1 = np.sin(np.pi * t)\n",
    "s2 = np.cos(np.pi * t)\n",
    "s3 = np.sqrt(t)"
   ]
  },
  {
   "cell_type": "code",
   "execution_count": null,
   "metadata": {},
   "outputs": [],
   "source": [
    "plt.figure(figsize = (6, 6))\n",
    "plt.subplot(222)\n",
    "plt.plot(t, s1)\n",
    "plt.subplot(221)\n",
    "plt.plot(t, s2)\n",
    "plt.subplot(223)\n",
    "plt.plot(t, s2)\n",
    "\n",
    "plt.show()\n"
   ]
  },
  {
   "cell_type": "markdown",
   "metadata": {},
   "source": [
    "**Explicación:**  Un subplot tiene tres números, el primero es el número de filas, el segundo el de columnas y el tercero el orden en que se muestran. Todos los gráficos son independientes los dos primeros números determinaran el tamaño, mientras que el tercero la posición en la matriz.\n",
    "Si observan el primer gráfico es el del coseno a pesar que fue el segundo en ejecutarse.\n",
    "\n",
    "**Ejercicio:** Genere una vista que muestre el gráfico del seno al lado derecho del coseno, y abajo de los dos que este el de raiz de t."
   ]
  },
  {
   "cell_type": "code",
   "execution_count": null,
   "metadata": {},
   "outputs": [],
   "source": [
    "plt.figure(figsize = (10,10))\n",
    "plt.subplot(332)\n",
    "plt.plot(t, s2)\n",
    "plt.subplot(331)\n",
    "plt.plot(t, s1)\n",
    "plt.subplot(312)\n",
    "plt.plot(t, s3)\n",
    "plt.show()\n"
   ]
  },
  {
   "cell_type": "markdown",
   "metadata": {},
   "source": [
    "### Algo de estética\n",
    "\n",
    "Los gráficos mostrados son los diseños básicos, se pueden cambiar. Por ejemplo si queremos que nuestros gráficos se vean como los del ggplot2 de R, se puede hacer"
   ]
  },
  {
   "cell_type": "code",
   "execution_count": null,
   "metadata": {},
   "outputs": [],
   "source": [
    "plt.style.use('seaborn')"
   ]
  },
  {
   "cell_type": "code",
   "execution_count": null,
   "metadata": {},
   "outputs": [],
   "source": [
    "plt.figure()\n",
    "plt.subplot(212)\n",
    "plt.plot(t, s1)\n",
    "plt.subplot(211)\n",
    "plt.plot(t, s2)\n",
    "\n",
    "plt.show()\n"
   ]
  },
  {
   "cell_type": "markdown",
   "metadata": {},
   "source": [
    "Si se quieren listar todos los estilos, se puede hacer"
   ]
  },
  {
   "cell_type": "code",
   "execution_count": null,
   "metadata": {},
   "outputs": [],
   "source": [
    "print(plt.style.available)"
   ]
  },
  {
   "cell_type": "markdown",
   "metadata": {},
   "source": [
    "En caso que se quiera usar para un solo gráfico "
   ]
  },
  {
   "cell_type": "code",
   "execution_count": null,
   "metadata": {},
   "outputs": [],
   "source": [
    "with plt.style.context(('dark_background')):\n",
    "    plt.plot(np.sin(np.linspace(0, 2 * np.pi)), 'r-o')\n",
    "plt.show()"
   ]
  }
 ],
 "metadata": {
  "kernelspec": {
   "display_name": "Python 3",
   "language": "python",
   "name": "python3"
  },
  "language_info": {
   "codemirror_mode": {
    "name": "ipython",
    "version": 3
   },
   "file_extension": ".py",
   "mimetype": "text/x-python",
   "name": "python",
   "nbconvert_exporter": "python",
   "pygments_lexer": "ipython3",
   "version": "3.7.1"
  }
 },
 "nbformat": 4,
 "nbformat_minor": 2
}
