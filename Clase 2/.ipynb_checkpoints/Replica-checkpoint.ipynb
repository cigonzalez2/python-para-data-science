{
 "cells": [
  {
   "cell_type": "markdown",
   "metadata": {},
   "source": [
    "## Generadores "
   ]
  },
  {
   "cell_type": "code",
   "execution_count": 32,
   "metadata": {},
   "outputs": [],
   "source": [
    "def impares():\n",
    "    i = 1\n",
    "    lista = [i]\n",
    "    while(True):  \n",
    "        yield lista\n",
    "        i += 2\n",
    "        lista.append(i)"
   ]
  },
  {
   "cell_type": "code",
   "execution_count": 33,
   "metadata": {},
   "outputs": [],
   "source": [
    "generador_uno = impares()   "
   ]
  },
  {
   "cell_type": "code",
   "execution_count": 36,
   "metadata": {},
   "outputs": [
    {
     "name": "stdout",
     "output_type": "stream",
     "text": [
      "[1, 3]\n"
     ]
    }
   ],
   "source": [
    "print(next(generador_uno))"
   ]
  },
  {
   "cell_type": "code",
   "execution_count": 37,
   "metadata": {},
   "outputs": [],
   "source": [
    "def numeros_1(n):\n",
    "    for i in range(n + 1):\n",
    "        yield i "
   ]
  },
  {
   "cell_type": "code",
   "execution_count": 38,
   "metadata": {},
   "outputs": [],
   "source": [
    "def numeros_2(n):\n",
    "    i = 0\n",
    "    for j in range(1,n+1):\n",
    "        i = i + j\n",
    "    return i"
   ]
  },
  {
   "cell_type": "code",
   "execution_count": 39,
   "metadata": {},
   "outputs": [
    {
     "name": "stdout",
     "output_type": "stream",
     "text": [
      "500500\n"
     ]
    }
   ],
   "source": [
    "print(sum(numeros_1(1000)))"
   ]
  },
  {
   "cell_type": "code",
   "execution_count": 40,
   "metadata": {},
   "outputs": [
    {
     "name": "stdout",
     "output_type": "stream",
     "text": [
      "500500\n"
     ]
    }
   ],
   "source": [
    "print(numeros_2(1000))"
   ]
  },
  {
   "cell_type": "code",
   "execution_count": 41,
   "metadata": {},
   "outputs": [],
   "source": [
    "import time"
   ]
  },
  {
   "cell_type": "code",
   "execution_count": 42,
   "metadata": {},
   "outputs": [
    {
     "name": "stdout",
     "output_type": "stream",
     "text": [
      "6.752948045730591\n"
     ]
    }
   ],
   "source": [
    "start_time_1 = time.time()\n",
    "sum(numeros_1(100000000))\n",
    "stop_time_1 = time.time()\n",
    "print(stop_time_1 - start_time_1)"
   ]
  },
  {
   "cell_type": "code",
   "execution_count": 43,
   "metadata": {},
   "outputs": [
    {
     "name": "stdout",
     "output_type": "stream",
     "text": [
      "7.412310838699341\n"
     ]
    }
   ],
   "source": [
    "start_time_2 = time.time()\n",
    "numeros_2(100000000)\n",
    "stop_time_2 = time.time()\n",
    "print(stop_time_2 - start_time_2)"
   ]
  },
  {
   "cell_type": "code",
   "execution_count": 44,
   "metadata": {},
   "outputs": [
    {
     "data": {
      "text/plain": [
       "True"
      ]
     },
     "execution_count": 44,
     "metadata": {},
     "output_type": "execute_result"
    }
   ],
   "source": [
    "(stop_time_1 - start_time_1) < (stop_time_2 - start_time_2)"
   ]
  },
  {
   "cell_type": "markdown",
   "metadata": {},
   "source": [
    "#### En conclusión los generadores son más eficientes para números grandes "
   ]
  },
  {
   "cell_type": "markdown",
   "metadata": {},
   "source": [
    "## Clases"
   ]
  },
  {
   "cell_type": "code",
   "execution_count": 45,
   "metadata": {},
   "outputs": [],
   "source": [
    "class PiezasBateria:\n",
    "    def __init__(self):\n",
    "        self.piezas = {\n",
    "            'Platillos' : [], \n",
    "            'Tambores' : [],\n",
    "            'Microfonos' : [],\n",
    "            'Baquetas' : [],\n",
    "            }\n",
    "        \n",
    "    def agregar_pieza(self, tipo, parte):\n",
    "        if tipo == 'Platillo':\n",
    "            self.piezas['Platillos'].append(parte)\n",
    "            \n",
    "        if tipo == 'Tambor':\n",
    "            self.piezas['Tambores'].append(parte)\n",
    "            \n",
    "        if tipo == 'Microfono':\n",
    "            self.piezas['Microfonos'].append(parte)\n",
    "            \n",
    "        if tipo == 'Baquetas':\n",
    "            self.piezas['Baquetas'].append(parte)\n",
    "            \n",
    "        else:\n",
    "            None\n",
    "            \n",
    "        return None\n",
    "    \n",
    "    def numero_piezas(self):\n",
    "        return ( len(self.piezas['Platillos']) \n",
    "               + len(self.piezas['Tambores'])\n",
    "               + len(self.piezas['Microfonos'])\n",
    "               + len(self.piezas['Baquetas'])\n",
    "               )\n",
    "    "
   ]
  },
  {
   "cell_type": "code",
   "execution_count": 46,
   "metadata": {},
   "outputs": [],
   "source": [
    "mi_bateria = PiezasBateria()"
   ]
  },
  {
   "cell_type": "code",
   "execution_count": 47,
   "metadata": {},
   "outputs": [],
   "source": [
    "mi_bateria.agregar_pieza('Platillo', 'Ride')\n",
    "mi_bateria.agregar_pieza('Platillo', 'Crash')\n",
    "mi_bateria.agregar_pieza('Platillo', 'Splash')\n",
    "mi_bateria.agregar_pieza('Platillo', 'China')\n",
    "mi_bateria.agregar_pieza('Tambor', 'Tom 1')\n",
    "mi_bateria.agregar_pieza('Tambor', 'Tom 2')\n",
    "mi_bateria.agregar_pieza('Tambor', 'Tom de Piso')\n",
    "mi_bateria.agregar_pieza('Tambor', 'Bombo')\n",
    "mi_bateria.agregar_pieza('Microfono', 'Shure SM57')\n",
    "mi_bateria.agregar_pieza('Microfono', 'Shure SM58')\n",
    "mi_bateria.agregar_pieza('Microfono', 'Berhinger C2')\n",
    "mi_bateria.agregar_pieza('Baquetas', 'ProMark 5B')\n",
    "mi_bateria.agregar_pieza('Baquetas', 'VicFirth 5B')\n"
   ]
  },
  {
   "cell_type": "code",
   "execution_count": 48,
   "metadata": {},
   "outputs": [
    {
     "data": {
      "text/plain": [
       "13"
      ]
     },
     "execution_count": 48,
     "metadata": {},
     "output_type": "execute_result"
    }
   ],
   "source": [
    "mi_bateria.numero_piezas()"
   ]
  },
  {
   "cell_type": "code",
   "execution_count": 49,
   "metadata": {},
   "outputs": [
    {
     "data": {
      "text/plain": [
       "{'Platillos': ['Ride', 'Crash', 'Splash', 'China'],\n",
       " 'Tambores': ['Tom 1', 'Tom 2', 'Tom de Piso', 'Bombo'],\n",
       " 'Microfonos': ['Shure SM57', 'Shure SM58', 'Berhinger C2'],\n",
       " 'Baquetas': ['ProMark 5B', 'VicFirth 5B']}"
      ]
     },
     "execution_count": 49,
     "metadata": {},
     "output_type": "execute_result"
    }
   ],
   "source": [
    "mi_bateria.piezas"
   ]
  },
  {
   "cell_type": "code",
   "execution_count": 50,
   "metadata": {},
   "outputs": [
    {
     "data": {
      "text/plain": [
       "['Shure SM57', 'Shure SM58', 'Berhinger C2']"
      ]
     },
     "execution_count": 50,
     "metadata": {},
     "output_type": "execute_result"
    }
   ],
   "source": [
    "mi_bateria.piezas['Microfonos']"
   ]
  },
  {
   "cell_type": "markdown",
   "metadata": {},
   "source": [
    "## Librerías "
   ]
  },
  {
   "cell_type": "markdown",
   "metadata": {},
   "source": [
    "### Numpy"
   ]
  },
  {
   "cell_type": "code",
   "execution_count": 3,
   "metadata": {},
   "outputs": [],
   "source": [
    "import numpy as np"
   ]
  },
  {
   "cell_type": "code",
   "execution_count": 4,
   "metadata": {},
   "outputs": [],
   "source": [
    "from numpy import pi"
   ]
  },
  {
   "cell_type": "code",
   "execution_count": 53,
   "metadata": {},
   "outputs": [
    {
     "name": "stdout",
     "output_type": "stream",
     "text": [
      "3.141592653589793\n"
     ]
    }
   ],
   "source": [
    "print(pi)"
   ]
  },
  {
   "cell_type": "code",
   "execution_count": 54,
   "metadata": {},
   "outputs": [
    {
     "name": "stdout",
     "output_type": "stream",
     "text": [
      "[3 4 6]\n",
      "[2 4 9]\n",
      "[ 1  4 27]\n"
     ]
    }
   ],
   "source": [
    "array_uno = np.array([1, 2, 3])\n",
    "array_dos = np.array([2, 2, 3])\n",
    "print(array_uno + array_dos)\n",
    "print(array_uno * array_dos)\n",
    "print(array_uno ** array_dos)"
   ]
  },
  {
   "cell_type": "code",
   "execution_count": 55,
   "metadata": {},
   "outputs": [
    {
     "name": "stdout",
     "output_type": "stream",
     "text": [
      "[[1 2 3]\n",
      " [4 5 6]\n",
      " [7 8 9]]\n"
     ]
    }
   ],
   "source": [
    "matriz_uno = np.matrix([\n",
    "                        [1, 2, 3],\n",
    "                        [4, 5, 6],\n",
    "                        [7, 8, 9]\n",
    "                       ])\n",
    "print(matriz_uno)"
   ]
  },
  {
   "cell_type": "code",
   "execution_count": 56,
   "metadata": {},
   "outputs": [
    {
     "name": "stdout",
     "output_type": "stream",
     "text": [
      "[[1 4 7]\n",
      " [2 5 8]\n",
      " [3 6 9]]\n"
     ]
    }
   ],
   "source": [
    "print(matriz_uno.transpose())"
   ]
  },
  {
   "cell_type": "code",
   "execution_count": 57,
   "metadata": {},
   "outputs": [
    {
     "name": "stdout",
     "output_type": "stream",
     "text": [
      "[[1 5 9]]\n"
     ]
    }
   ],
   "source": [
    "print(matriz_uno.diagonal())"
   ]
  },
  {
   "cell_type": "code",
   "execution_count": 58,
   "metadata": {},
   "outputs": [
    {
     "name": "stdout",
     "output_type": "stream",
     "text": [
      "[[1]\n",
      " [2]\n",
      " [3]\n",
      " [4]\n",
      " [5]\n",
      " [6]\n",
      " [7]\n",
      " [8]\n",
      " [9]]\n"
     ]
    }
   ],
   "source": [
    "print(matriz_uno.reshape([9,1]))"
   ]
  },
  {
   "cell_type": "code",
   "execution_count": 59,
   "metadata": {},
   "outputs": [
    {
     "name": "stdout",
     "output_type": "stream",
     "text": [
      "[[ 3.15251974e+15 -6.30503948e+15  3.15251974e+15]\n",
      " [-6.30503948e+15  1.26100790e+16 -6.30503948e+15]\n",
      " [ 3.15251974e+15 -6.30503948e+15  3.15251974e+15]]\n"
     ]
    }
   ],
   "source": [
    "print( np.linalg.inv(matriz_uno) )"
   ]
  },
  {
   "cell_type": "code",
   "execution_count": 60,
   "metadata": {},
   "outputs": [
    {
     "name": "stdout",
     "output_type": "stream",
     "text": [
      "[[ 5  0  0]\n",
      " [ 0 10  0]\n",
      " [ 0  0 15]]\n"
     ]
    }
   ],
   "source": [
    "matriz_diagonal = np.matrix([\n",
    "                             [5, 0, 0],\n",
    "                             [0, 10, 0],\n",
    "                             [0, 0, 15]  \n",
    "                             ])\n",
    "print(matriz_diagonal)"
   ]
  },
  {
   "cell_type": "code",
   "execution_count": 61,
   "metadata": {},
   "outputs": [
    {
     "name": "stdout",
     "output_type": "stream",
     "text": [
      "[[0.2        0.         0.        ]\n",
      " [0.         0.1        0.        ]\n",
      " [0.         0.         0.06666667]]\n"
     ]
    }
   ],
   "source": [
    "print(np.linalg.inv(matriz_diagonal))"
   ]
  },
  {
   "cell_type": "markdown",
   "metadata": {},
   "source": [
    "### Pandas "
   ]
  },
  {
   "cell_type": "code",
   "execution_count": 18,
   "metadata": {},
   "outputs": [],
   "source": [
    "import pandas as pd"
   ]
  },
  {
   "cell_type": "code",
   "execution_count": 19,
   "metadata": {},
   "outputs": [],
   "source": [
    "bateria_df = pd.DataFrame(\n",
    "    {\n",
    "        'Platillos': ['Ride', 'Crash', 'Splash', 'China'],\n",
    "        'Tambores': ['Tom 1', 'Tom 2', 'Tom de Piso', 'Bombo'],\n",
    "        'Microfonos': ['Shure SM57', 'Shure SM58', 'Berhinger C2', 'Berhinger C2'],\n",
    "        'Baquetas': ['ProMark 5B', 'VicFirth 5B', 'ProMark 5A', 'VicFirth 5A']\n",
    "    },\n",
    "    index = ['Compra 1', 'Compra 2', 'Compra 3', 'Compra 4']\n",
    ")"
   ]
  },
  {
   "cell_type": "code",
   "execution_count": 20,
   "metadata": {},
   "outputs": [
    {
     "data": {
      "text/html": [
       "<div>\n",
       "<style scoped>\n",
       "    .dataframe tbody tr th:only-of-type {\n",
       "        vertical-align: middle;\n",
       "    }\n",
       "\n",
       "    .dataframe tbody tr th {\n",
       "        vertical-align: top;\n",
       "    }\n",
       "\n",
       "    .dataframe thead th {\n",
       "        text-align: right;\n",
       "    }\n",
       "</style>\n",
       "<table border=\"1\" class=\"dataframe\">\n",
       "  <thead>\n",
       "    <tr style=\"text-align: right;\">\n",
       "      <th></th>\n",
       "      <th>Platillos</th>\n",
       "      <th>Tambores</th>\n",
       "      <th>Microfonos</th>\n",
       "      <th>Baquetas</th>\n",
       "    </tr>\n",
       "  </thead>\n",
       "  <tbody>\n",
       "    <tr>\n",
       "      <th>Compra 1</th>\n",
       "      <td>Ride</td>\n",
       "      <td>Tom 1</td>\n",
       "      <td>Shure SM57</td>\n",
       "      <td>ProMark 5B</td>\n",
       "    </tr>\n",
       "    <tr>\n",
       "      <th>Compra 2</th>\n",
       "      <td>Crash</td>\n",
       "      <td>Tom 2</td>\n",
       "      <td>Shure SM58</td>\n",
       "      <td>VicFirth 5B</td>\n",
       "    </tr>\n",
       "    <tr>\n",
       "      <th>Compra 3</th>\n",
       "      <td>Splash</td>\n",
       "      <td>Tom de Piso</td>\n",
       "      <td>Berhinger C2</td>\n",
       "      <td>ProMark 5A</td>\n",
       "    </tr>\n",
       "    <tr>\n",
       "      <th>Compra 4</th>\n",
       "      <td>China</td>\n",
       "      <td>Bombo</td>\n",
       "      <td>Berhinger C2</td>\n",
       "      <td>VicFirth 5A</td>\n",
       "    </tr>\n",
       "  </tbody>\n",
       "</table>\n",
       "</div>"
      ],
      "text/plain": [
       "         Platillos     Tambores    Microfonos     Baquetas\n",
       "Compra 1      Ride        Tom 1    Shure SM57   ProMark 5B\n",
       "Compra 2     Crash        Tom 2    Shure SM58  VicFirth 5B\n",
       "Compra 3    Splash  Tom de Piso  Berhinger C2   ProMark 5A\n",
       "Compra 4     China        Bombo  Berhinger C2  VicFirth 5A"
      ]
     },
     "execution_count": 20,
     "metadata": {},
     "output_type": "execute_result"
    }
   ],
   "source": [
    "bateria_df"
   ]
  },
  {
   "cell_type": "code",
   "execution_count": 21,
   "metadata": {},
   "outputs": [
    {
     "data": {
      "text/html": [
       "<div>\n",
       "<style scoped>\n",
       "    .dataframe tbody tr th:only-of-type {\n",
       "        vertical-align: middle;\n",
       "    }\n",
       "\n",
       "    .dataframe tbody tr th {\n",
       "        vertical-align: top;\n",
       "    }\n",
       "\n",
       "    .dataframe thead th {\n",
       "        text-align: right;\n",
       "    }\n",
       "</style>\n",
       "<table border=\"1\" class=\"dataframe\">\n",
       "  <thead>\n",
       "    <tr style=\"text-align: right;\">\n",
       "      <th></th>\n",
       "      <th>Platillos</th>\n",
       "      <th>Baquetas</th>\n",
       "    </tr>\n",
       "  </thead>\n",
       "  <tbody>\n",
       "    <tr>\n",
       "      <th>Compra 1</th>\n",
       "      <td>Ride</td>\n",
       "      <td>ProMark 5B</td>\n",
       "    </tr>\n",
       "    <tr>\n",
       "      <th>Compra 2</th>\n",
       "      <td>Crash</td>\n",
       "      <td>VicFirth 5B</td>\n",
       "    </tr>\n",
       "    <tr>\n",
       "      <th>Compra 3</th>\n",
       "      <td>Splash</td>\n",
       "      <td>ProMark 5A</td>\n",
       "    </tr>\n",
       "    <tr>\n",
       "      <th>Compra 4</th>\n",
       "      <td>China</td>\n",
       "      <td>VicFirth 5A</td>\n",
       "    </tr>\n",
       "  </tbody>\n",
       "</table>\n",
       "</div>"
      ],
      "text/plain": [
       "         Platillos     Baquetas\n",
       "Compra 1      Ride   ProMark 5B\n",
       "Compra 2     Crash  VicFirth 5B\n",
       "Compra 3    Splash   ProMark 5A\n",
       "Compra 4     China  VicFirth 5A"
      ]
     },
     "execution_count": 21,
     "metadata": {},
     "output_type": "execute_result"
    }
   ],
   "source": [
    "bateria_df[['Platillos', 'Baquetas']]"
   ]
  },
  {
   "cell_type": "code",
   "execution_count": 22,
   "metadata": {},
   "outputs": [
    {
     "data": {
      "text/html": [
       "<div>\n",
       "<style scoped>\n",
       "    .dataframe tbody tr th:only-of-type {\n",
       "        vertical-align: middle;\n",
       "    }\n",
       "\n",
       "    .dataframe tbody tr th {\n",
       "        vertical-align: top;\n",
       "    }\n",
       "\n",
       "    .dataframe thead th {\n",
       "        text-align: right;\n",
       "    }\n",
       "</style>\n",
       "<table border=\"1\" class=\"dataframe\">\n",
       "  <thead>\n",
       "    <tr style=\"text-align: right;\">\n",
       "      <th></th>\n",
       "      <th>Platillos</th>\n",
       "      <th>Tambores</th>\n",
       "      <th>Microfonos</th>\n",
       "      <th>Baquetas</th>\n",
       "    </tr>\n",
       "  </thead>\n",
       "  <tbody>\n",
       "    <tr>\n",
       "      <th>Compra 1</th>\n",
       "      <td>Ride</td>\n",
       "      <td>Tom 1</td>\n",
       "      <td>Shure SM57</td>\n",
       "      <td>ProMark 5B</td>\n",
       "    </tr>\n",
       "    <tr>\n",
       "      <th>Compra 2</th>\n",
       "      <td>Crash</td>\n",
       "      <td>Tom 2</td>\n",
       "      <td>Shure SM58</td>\n",
       "      <td>VicFirth 5B</td>\n",
       "    </tr>\n",
       "  </tbody>\n",
       "</table>\n",
       "</div>"
      ],
      "text/plain": [
       "         Platillos Tambores  Microfonos     Baquetas\n",
       "Compra 1      Ride    Tom 1  Shure SM57   ProMark 5B\n",
       "Compra 2     Crash    Tom 2  Shure SM58  VicFirth 5B"
      ]
     },
     "execution_count": 22,
     "metadata": {},
     "output_type": "execute_result"
    }
   ],
   "source": [
    "bateria_df.loc[['Compra 1', 'Compra 2']]"
   ]
  },
  {
   "cell_type": "code",
   "execution_count": 23,
   "metadata": {},
   "outputs": [
    {
     "data": {
      "text/html": [
       "<div>\n",
       "<style scoped>\n",
       "    .dataframe tbody tr th:only-of-type {\n",
       "        vertical-align: middle;\n",
       "    }\n",
       "\n",
       "    .dataframe tbody tr th {\n",
       "        vertical-align: top;\n",
       "    }\n",
       "\n",
       "    .dataframe thead th {\n",
       "        text-align: right;\n",
       "    }\n",
       "</style>\n",
       "<table border=\"1\" class=\"dataframe\">\n",
       "  <thead>\n",
       "    <tr style=\"text-align: right;\">\n",
       "      <th></th>\n",
       "      <th>Platillos</th>\n",
       "      <th>Baquetas</th>\n",
       "    </tr>\n",
       "  </thead>\n",
       "  <tbody>\n",
       "    <tr>\n",
       "      <th>Compra 1</th>\n",
       "      <td>Ride</td>\n",
       "      <td>ProMark 5B</td>\n",
       "    </tr>\n",
       "    <tr>\n",
       "      <th>Compra 2</th>\n",
       "      <td>Crash</td>\n",
       "      <td>VicFirth 5B</td>\n",
       "    </tr>\n",
       "  </tbody>\n",
       "</table>\n",
       "</div>"
      ],
      "text/plain": [
       "         Platillos     Baquetas\n",
       "Compra 1      Ride   ProMark 5B\n",
       "Compra 2     Crash  VicFirth 5B"
      ]
     },
     "execution_count": 23,
     "metadata": {},
     "output_type": "execute_result"
    }
   ],
   "source": [
    "bateria_df.loc[['Compra 1', 'Compra 2'], ['Platillos', 'Baquetas']]"
   ]
  },
  {
   "cell_type": "code",
   "execution_count": 24,
   "metadata": {},
   "outputs": [
    {
     "data": {
      "text/html": [
       "<div>\n",
       "<style scoped>\n",
       "    .dataframe tbody tr th:only-of-type {\n",
       "        vertical-align: middle;\n",
       "    }\n",
       "\n",
       "    .dataframe tbody tr th {\n",
       "        vertical-align: top;\n",
       "    }\n",
       "\n",
       "    .dataframe thead th {\n",
       "        text-align: right;\n",
       "    }\n",
       "</style>\n",
       "<table border=\"1\" class=\"dataframe\">\n",
       "  <thead>\n",
       "    <tr style=\"text-align: right;\">\n",
       "      <th></th>\n",
       "      <th>Platillos</th>\n",
       "      <th>Microfonos</th>\n",
       "    </tr>\n",
       "  </thead>\n",
       "  <tbody>\n",
       "    <tr>\n",
       "      <th>Compra 1</th>\n",
       "      <td>Ride</td>\n",
       "      <td>Shure SM57</td>\n",
       "    </tr>\n",
       "    <tr>\n",
       "      <th>Compra 3</th>\n",
       "      <td>Splash</td>\n",
       "      <td>Berhinger C2</td>\n",
       "    </tr>\n",
       "  </tbody>\n",
       "</table>\n",
       "</div>"
      ],
      "text/plain": [
       "         Platillos    Microfonos\n",
       "Compra 1      Ride    Shure SM57\n",
       "Compra 3    Splash  Berhinger C2"
      ]
     },
     "execution_count": 24,
     "metadata": {},
     "output_type": "execute_result"
    }
   ],
   "source": [
    "bateria_df.iloc[ [0, 2], [0, 2] ]"
   ]
  },
  {
   "cell_type": "code",
   "execution_count": 25,
   "metadata": {},
   "outputs": [],
   "source": [
    "cerveza = pd.read_table('recipe_data.csv',\n",
    "                       sep = ',',\n",
    "                       header = 0,\n",
    "                       decimal = '.',\n",
    "                       encoding = \"latin1\")"
   ]
  },
  {
   "cell_type": "code",
   "execution_count": 26,
   "metadata": {},
   "outputs": [
    {
     "data": {
      "text/html": [
       "<div>\n",
       "<style scoped>\n",
       "    .dataframe tbody tr th:only-of-type {\n",
       "        vertical-align: middle;\n",
       "    }\n",
       "\n",
       "    .dataframe tbody tr th {\n",
       "        vertical-align: top;\n",
       "    }\n",
       "\n",
       "    .dataframe thead th {\n",
       "        text-align: right;\n",
       "    }\n",
       "</style>\n",
       "<table border=\"1\" class=\"dataframe\">\n",
       "  <thead>\n",
       "    <tr style=\"text-align: right;\">\n",
       "      <th></th>\n",
       "      <th>BeerID</th>\n",
       "      <th>Name</th>\n",
       "      <th>StyleID</th>\n",
       "      <th>ABV</th>\n",
       "      <th>IBU</th>\n",
       "    </tr>\n",
       "  </thead>\n",
       "  <tbody>\n",
       "    <tr>\n",
       "      <th>0</th>\n",
       "      <td>1</td>\n",
       "      <td>Vanilla Cream Ale</td>\n",
       "      <td>45</td>\n",
       "      <td>5.48</td>\n",
       "      <td>17.65</td>\n",
       "    </tr>\n",
       "    <tr>\n",
       "      <th>1</th>\n",
       "      <td>2</td>\n",
       "      <td>Southern Tier Pumking clone</td>\n",
       "      <td>85</td>\n",
       "      <td>8.16</td>\n",
       "      <td>60.65</td>\n",
       "    </tr>\n",
       "    <tr>\n",
       "      <th>2</th>\n",
       "      <td>3</td>\n",
       "      <td>Zombie Dust Clone - EXTRACT</td>\n",
       "      <td>7</td>\n",
       "      <td>5.91</td>\n",
       "      <td>59.25</td>\n",
       "    </tr>\n",
       "    <tr>\n",
       "      <th>3</th>\n",
       "      <td>4</td>\n",
       "      <td>Zombie Dust Clone - ALL GRAIN</td>\n",
       "      <td>7</td>\n",
       "      <td>5.80</td>\n",
       "      <td>54.48</td>\n",
       "    </tr>\n",
       "    <tr>\n",
       "      <th>4</th>\n",
       "      <td>5</td>\n",
       "      <td>Bakke Brygg Belgisk Blonde 50 l</td>\n",
       "      <td>20</td>\n",
       "      <td>6.48</td>\n",
       "      <td>17.84</td>\n",
       "    </tr>\n",
       "    <tr>\n",
       "      <th>5</th>\n",
       "      <td>6</td>\n",
       "      <td>Sierra Nevada Pale Ale Clone</td>\n",
       "      <td>10</td>\n",
       "      <td>5.58</td>\n",
       "      <td>40.12</td>\n",
       "    </tr>\n",
       "    <tr>\n",
       "      <th>6</th>\n",
       "      <td>7</td>\n",
       "      <td>Russian River Pliny the Elder (original)</td>\n",
       "      <td>86</td>\n",
       "      <td>7.09</td>\n",
       "      <td>268.71</td>\n",
       "    </tr>\n",
       "    <tr>\n",
       "      <th>7</th>\n",
       "      <td>8</td>\n",
       "      <td>Spotted Clown (New Glarus Spotted Cow clone)</td>\n",
       "      <td>45</td>\n",
       "      <td>5.36</td>\n",
       "      <td>19.97</td>\n",
       "    </tr>\n",
       "  </tbody>\n",
       "</table>\n",
       "</div>"
      ],
      "text/plain": [
       "   BeerID                                          Name  StyleID   ABV     IBU\n",
       "0       1                             Vanilla Cream Ale       45  5.48   17.65\n",
       "1       2                   Southern Tier Pumking clone       85  8.16   60.65\n",
       "2       3                   Zombie Dust Clone - EXTRACT        7  5.91   59.25\n",
       "3       4                 Zombie Dust Clone - ALL GRAIN        7  5.80   54.48\n",
       "4       5               Bakke Brygg Belgisk Blonde 50 l       20  6.48   17.84\n",
       "5       6                  Sierra Nevada Pale Ale Clone       10  5.58   40.12\n",
       "6       7      Russian River Pliny the Elder (original)       86  7.09  268.71\n",
       "7       8  Spotted Clown (New Glarus Spotted Cow clone)       45  5.36   19.97"
      ]
     },
     "execution_count": 26,
     "metadata": {},
     "output_type": "execute_result"
    }
   ],
   "source": [
    "cerveza.head(8)"
   ]
  },
  {
   "cell_type": "code",
   "execution_count": 27,
   "metadata": {},
   "outputs": [
    {
     "data": {
      "text/html": [
       "<div>\n",
       "<style scoped>\n",
       "    .dataframe tbody tr th:only-of-type {\n",
       "        vertical-align: middle;\n",
       "    }\n",
       "\n",
       "    .dataframe tbody tr th {\n",
       "        vertical-align: top;\n",
       "    }\n",
       "\n",
       "    .dataframe thead th {\n",
       "        text-align: right;\n",
       "    }\n",
       "</style>\n",
       "<table border=\"1\" class=\"dataframe\">\n",
       "  <thead>\n",
       "    <tr style=\"text-align: right;\">\n",
       "      <th></th>\n",
       "      <th>BeerID</th>\n",
       "      <th>Name</th>\n",
       "      <th>StyleID</th>\n",
       "      <th>ABV</th>\n",
       "      <th>IBU</th>\n",
       "    </tr>\n",
       "  </thead>\n",
       "  <tbody>\n",
       "    <tr>\n",
       "      <th>51611</th>\n",
       "      <td>51612</td>\n",
       "      <td>Mother's Haze.</td>\n",
       "      <td>7</td>\n",
       "      <td>5.51</td>\n",
       "      <td>117.15</td>\n",
       "    </tr>\n",
       "    <tr>\n",
       "      <th>28718</th>\n",
       "      <td>28719</td>\n",
       "      <td>SchuBrew IronBrewer Peach/pepper IPA</td>\n",
       "      <td>7</td>\n",
       "      <td>4.81</td>\n",
       "      <td>85.10</td>\n",
       "    </tr>\n",
       "    <tr>\n",
       "      <th>23960</th>\n",
       "      <td>23961</td>\n",
       "      <td>Mosaic Pale Ale</td>\n",
       "      <td>10</td>\n",
       "      <td>5.55</td>\n",
       "      <td>51.54</td>\n",
       "    </tr>\n",
       "    <tr>\n",
       "      <th>37772</th>\n",
       "      <td>37773</td>\n",
       "      <td>Wee Heavy</td>\n",
       "      <td>168</td>\n",
       "      <td>9.20</td>\n",
       "      <td>34.61</td>\n",
       "    </tr>\n",
       "    <tr>\n",
       "      <th>431</th>\n",
       "      <td>432</td>\n",
       "      <td>Bombshell Blonde</td>\n",
       "      <td>30</td>\n",
       "      <td>5.03</td>\n",
       "      <td>21.60</td>\n",
       "    </tr>\n",
       "    <tr>\n",
       "      <th>31429</th>\n",
       "      <td>31430</td>\n",
       "      <td>Milk Chocolate Porter</td>\n",
       "      <td>129</td>\n",
       "      <td>5.86</td>\n",
       "      <td>46.39</td>\n",
       "    </tr>\n",
       "    <tr>\n",
       "      <th>51498</th>\n",
       "      <td>51499</td>\n",
       "      <td>Black Hefe</td>\n",
       "      <td>9</td>\n",
       "      <td>5.51</td>\n",
       "      <td>28.23</td>\n",
       "    </tr>\n",
       "  </tbody>\n",
       "</table>\n",
       "</div>"
      ],
      "text/plain": [
       "       BeerID                                  Name  StyleID   ABV     IBU\n",
       "51611   51612                        Mother's Haze.        7  5.51  117.15\n",
       "28718   28719  SchuBrew IronBrewer Peach/pepper IPA        7  4.81   85.10\n",
       "23960   23961                       Mosaic Pale Ale       10  5.55   51.54\n",
       "37772   37773                             Wee Heavy      168  9.20   34.61\n",
       "431       432                      Bombshell Blonde       30  5.03   21.60\n",
       "31429   31430                 Milk Chocolate Porter      129  5.86   46.39\n",
       "51498   51499                            Black Hefe        9  5.51   28.23"
      ]
     },
     "execution_count": 27,
     "metadata": {},
     "output_type": "execute_result"
    }
   ],
   "source": [
    "cerveza.sample(7)"
   ]
  },
  {
   "cell_type": "code",
   "execution_count": 28,
   "metadata": {},
   "outputs": [],
   "source": [
    "cervezas_alcoholicas = cerveza[ cerveza['ABV'] > 15 ]"
   ]
  },
  {
   "cell_type": "code",
   "execution_count": 29,
   "metadata": {},
   "outputs": [
    {
     "data": {
      "text/html": [
       "<div>\n",
       "<style scoped>\n",
       "    .dataframe tbody tr th:only-of-type {\n",
       "        vertical-align: middle;\n",
       "    }\n",
       "\n",
       "    .dataframe tbody tr th {\n",
       "        vertical-align: top;\n",
       "    }\n",
       "\n",
       "    .dataframe thead th {\n",
       "        text-align: right;\n",
       "    }\n",
       "</style>\n",
       "<table border=\"1\" class=\"dataframe\">\n",
       "  <thead>\n",
       "    <tr style=\"text-align: right;\">\n",
       "      <th></th>\n",
       "      <th>BeerID</th>\n",
       "      <th>Name</th>\n",
       "      <th>StyleID</th>\n",
       "      <th>ABV</th>\n",
       "      <th>IBU</th>\n",
       "    </tr>\n",
       "  </thead>\n",
       "  <tbody>\n",
       "    <tr>\n",
       "      <th>256</th>\n",
       "      <td>257</td>\n",
       "      <td>120 Minute IPA Clone</td>\n",
       "      <td>86</td>\n",
       "      <td>19.85</td>\n",
       "      <td>165.28</td>\n",
       "    </tr>\n",
       "    <tr>\n",
       "      <th>281</th>\n",
       "      <td>282</td>\n",
       "      <td>Apple Cyser with Cherries Mead</td>\n",
       "      <td>46</td>\n",
       "      <td>16.38</td>\n",
       "      <td>0.00</td>\n",
       "    </tr>\n",
       "    <tr>\n",
       "      <th>498</th>\n",
       "      <td>499</td>\n",
       "      <td>Century  Russian Imperial Stout (new)</td>\n",
       "      <td>132</td>\n",
       "      <td>18.81</td>\n",
       "      <td>160.74</td>\n",
       "    </tr>\n",
       "    <tr>\n",
       "      <th>512</th>\n",
       "      <td>513</td>\n",
       "      <td>Jimmie's Graff version 1</td>\n",
       "      <td>121</td>\n",
       "      <td>27.12</td>\n",
       "      <td>2.62</td>\n",
       "    </tr>\n",
       "    <tr>\n",
       "      <th>650</th>\n",
       "      <td>651</td>\n",
       "      <td>End of the World DOUBLE BarleyWine</td>\n",
       "      <td>5</td>\n",
       "      <td>18.38</td>\n",
       "      <td>223.79</td>\n",
       "    </tr>\n",
       "  </tbody>\n",
       "</table>\n",
       "</div>"
      ],
      "text/plain": [
       "     BeerID                                   Name  StyleID    ABV     IBU\n",
       "256     257                   120 Minute IPA Clone       86  19.85  165.28\n",
       "281     282         Apple Cyser with Cherries Mead       46  16.38    0.00\n",
       "498     499  Century  Russian Imperial Stout (new)      132  18.81  160.74\n",
       "512     513               Jimmie's Graff version 1      121  27.12    2.62\n",
       "650     651     End of the World DOUBLE BarleyWine        5  18.38  223.79"
      ]
     },
     "execution_count": 29,
     "metadata": {},
     "output_type": "execute_result"
    }
   ],
   "source": [
    "cervezas_alcoholicas.head(5)"
   ]
  },
  {
   "cell_type": "code",
   "execution_count": 30,
   "metadata": {},
   "outputs": [
    {
     "data": {
      "text/html": [
       "<div>\n",
       "<style scoped>\n",
       "    .dataframe tbody tr th:only-of-type {\n",
       "        vertical-align: middle;\n",
       "    }\n",
       "\n",
       "    .dataframe tbody tr th {\n",
       "        vertical-align: top;\n",
       "    }\n",
       "\n",
       "    .dataframe thead th {\n",
       "        text-align: right;\n",
       "    }\n",
       "</style>\n",
       "<table border=\"1\" class=\"dataframe\">\n",
       "  <thead>\n",
       "    <tr style=\"text-align: right;\">\n",
       "      <th></th>\n",
       "      <th>BeerID</th>\n",
       "      <th>Name</th>\n",
       "      <th>StyleID</th>\n",
       "      <th>ABV</th>\n",
       "      <th>IBU</th>\n",
       "    </tr>\n",
       "  </thead>\n",
       "  <tbody>\n",
       "    <tr>\n",
       "      <th>256</th>\n",
       "      <td>257</td>\n",
       "      <td>120 Minute IPA Clone</td>\n",
       "      <td>86</td>\n",
       "      <td>19.85</td>\n",
       "      <td>165.28</td>\n",
       "    </tr>\n",
       "    <tr>\n",
       "      <th>281</th>\n",
       "      <td>282</td>\n",
       "      <td>Apple Cyser with Cherries Mead</td>\n",
       "      <td>46</td>\n",
       "      <td>16.38</td>\n",
       "      <td>0.00</td>\n",
       "    </tr>\n",
       "    <tr>\n",
       "      <th>498</th>\n",
       "      <td>499</td>\n",
       "      <td>Century  Russian Imperial Stout (new)</td>\n",
       "      <td>132</td>\n",
       "      <td>18.81</td>\n",
       "      <td>160.74</td>\n",
       "    </tr>\n",
       "    <tr>\n",
       "      <th>512</th>\n",
       "      <td>513</td>\n",
       "      <td>Jimmie's Graff version 1</td>\n",
       "      <td>121</td>\n",
       "      <td>27.12</td>\n",
       "      <td>2.62</td>\n",
       "    </tr>\n",
       "    <tr>\n",
       "      <th>650</th>\n",
       "      <td>651</td>\n",
       "      <td>End of the World DOUBLE BarleyWine</td>\n",
       "      <td>5</td>\n",
       "      <td>18.38</td>\n",
       "      <td>223.79</td>\n",
       "    </tr>\n",
       "    <tr>\n",
       "      <th>861</th>\n",
       "      <td>862</td>\n",
       "      <td>Sack Mead Polish</td>\n",
       "      <td>161</td>\n",
       "      <td>18.52</td>\n",
       "      <td>0.00</td>\n",
       "    </tr>\n",
       "    <tr>\n",
       "      <th>884</th>\n",
       "      <td>885</td>\n",
       "      <td>Super Strong Barleywine</td>\n",
       "      <td>5</td>\n",
       "      <td>16.17</td>\n",
       "      <td>290.06</td>\n",
       "    </tr>\n",
       "  </tbody>\n",
       "</table>\n",
       "</div>"
      ],
      "text/plain": [
       "     BeerID                                   Name  StyleID    ABV     IBU\n",
       "256     257                   120 Minute IPA Clone       86  19.85  165.28\n",
       "281     282         Apple Cyser with Cherries Mead       46  16.38    0.00\n",
       "498     499  Century  Russian Imperial Stout (new)      132  18.81  160.74\n",
       "512     513               Jimmie's Graff version 1      121  27.12    2.62\n",
       "650     651     End of the World DOUBLE BarleyWine        5  18.38  223.79\n",
       "861     862                       Sack Mead Polish      161  18.52    0.00\n",
       "884     885                Super Strong Barleywine        5  16.17  290.06"
      ]
     },
     "execution_count": 30,
     "metadata": {},
     "output_type": "execute_result"
    }
   ],
   "source": [
    "(cerveza.query('ABV > 15')).head(7)"
   ]
  },
  {
   "cell_type": "code",
   "execution_count": 31,
   "metadata": {},
   "outputs": [
    {
     "data": {
      "text/html": [
       "<div>\n",
       "<style scoped>\n",
       "    .dataframe tbody tr th:only-of-type {\n",
       "        vertical-align: middle;\n",
       "    }\n",
       "\n",
       "    .dataframe tbody tr th {\n",
       "        vertical-align: top;\n",
       "    }\n",
       "\n",
       "    .dataframe thead th {\n",
       "        text-align: right;\n",
       "    }\n",
       "</style>\n",
       "<table border=\"1\" class=\"dataframe\">\n",
       "  <thead>\n",
       "    <tr style=\"text-align: right;\">\n",
       "      <th></th>\n",
       "      <th>BeerID</th>\n",
       "      <th>Name</th>\n",
       "      <th>StyleID</th>\n",
       "      <th>ABV</th>\n",
       "      <th>IBU</th>\n",
       "    </tr>\n",
       "  </thead>\n",
       "  <tbody>\n",
       "    <tr>\n",
       "      <th>1248</th>\n",
       "      <td>1249</td>\n",
       "      <td>Reindeer Piss Holiday Ale</td>\n",
       "      <td>85</td>\n",
       "      <td>0.0</td>\n",
       "      <td>0.0</td>\n",
       "    </tr>\n",
       "    <tr>\n",
       "      <th>2248</th>\n",
       "      <td>2249</td>\n",
       "      <td>Fergus Redmead's maple mead</td>\n",
       "      <td>161</td>\n",
       "      <td>0.0</td>\n",
       "      <td>0.0</td>\n",
       "    </tr>\n",
       "    <tr>\n",
       "      <th>3354</th>\n",
       "      <td>3355</td>\n",
       "      <td>Hop Rod Rye clone</td>\n",
       "      <td>15</td>\n",
       "      <td>0.0</td>\n",
       "      <td>0.0</td>\n",
       "    </tr>\n",
       "    <tr>\n",
       "      <th>4698</th>\n",
       "      <td>4699</td>\n",
       "      <td>Berrr</td>\n",
       "      <td>156</td>\n",
       "      <td>0.0</td>\n",
       "      <td>0.0</td>\n",
       "    </tr>\n",
       "    <tr>\n",
       "      <th>6218</th>\n",
       "      <td>6219</td>\n",
       "      <td>Unemployment IPA (Stone IPA Clone)</td>\n",
       "      <td>7</td>\n",
       "      <td>0.0</td>\n",
       "      <td>0.0</td>\n",
       "    </tr>\n",
       "    <tr>\n",
       "      <th>6659</th>\n",
       "      <td>6660</td>\n",
       "      <td>FourPure</td>\n",
       "      <td>39</td>\n",
       "      <td>0.0</td>\n",
       "      <td>0.0</td>\n",
       "    </tr>\n",
       "    <tr>\n",
       "      <th>6785</th>\n",
       "      <td>6786</td>\n",
       "      <td>Mark Leyden's Recipe</td>\n",
       "      <td>143</td>\n",
       "      <td>0.0</td>\n",
       "      <td>0.0</td>\n",
       "    </tr>\n",
       "    <tr>\n",
       "      <th>7695</th>\n",
       "      <td>7696</td>\n",
       "      <td>Andy Krupp's Recipe 2</td>\n",
       "      <td>7</td>\n",
       "      <td>0.0</td>\n",
       "      <td>0.0</td>\n",
       "    </tr>\n",
       "    <tr>\n",
       "      <th>7824</th>\n",
       "      <td>7825</td>\n",
       "      <td>Laura Downing's Recipe</td>\n",
       "      <td>111</td>\n",
       "      <td>0.0</td>\n",
       "      <td>0.0</td>\n",
       "    </tr>\n",
       "    <tr>\n",
       "      <th>8185</th>\n",
       "      <td>8186</td>\n",
       "      <td>Davy Pasternak's Recipe</td>\n",
       "      <td>111</td>\n",
       "      <td>0.0</td>\n",
       "      <td>0.0</td>\n",
       "    </tr>\n",
       "    <tr>\n",
       "      <th>8307</th>\n",
       "      <td>8308</td>\n",
       "      <td>Sparkling Ale</td>\n",
       "      <td>111</td>\n",
       "      <td>0.0</td>\n",
       "      <td>0.0</td>\n",
       "    </tr>\n",
       "    <tr>\n",
       "      <th>8450</th>\n",
       "      <td>8451</td>\n",
       "      <td>Sergio Bosetti's Recipe 3</td>\n",
       "      <td>111</td>\n",
       "      <td>0.0</td>\n",
       "      <td>0.0</td>\n",
       "    </tr>\n",
       "    <tr>\n",
       "      <th>8635</th>\n",
       "      <td>8636</td>\n",
       "      <td>Wheat out on the Boulevard</td>\n",
       "      <td>15</td>\n",
       "      <td>0.0</td>\n",
       "      <td>0.0</td>\n",
       "    </tr>\n",
       "    <tr>\n",
       "      <th>8893</th>\n",
       "      <td>8894</td>\n",
       "      <td>Jason Zimmerman's Recipe 3</td>\n",
       "      <td>111</td>\n",
       "      <td>0.0</td>\n",
       "      <td>0.0</td>\n",
       "    </tr>\n",
       "    <tr>\n",
       "      <th>8925</th>\n",
       "      <td>8926</td>\n",
       "      <td>Nathan Rushton's Recipe</td>\n",
       "      <td>111</td>\n",
       "      <td>0.0</td>\n",
       "      <td>0.0</td>\n",
       "    </tr>\n",
       "    <tr>\n",
       "      <th>9729</th>\n",
       "      <td>9730</td>\n",
       "      <td>Zed  Krundonkulous 90</td>\n",
       "      <td>86</td>\n",
       "      <td>0.0</td>\n",
       "      <td>0.0</td>\n",
       "    </tr>\n",
       "    <tr>\n",
       "      <th>10362</th>\n",
       "      <td>10363</td>\n",
       "      <td>Auth Dialog Preview User's Recipe</td>\n",
       "      <td>111</td>\n",
       "      <td>0.0</td>\n",
       "      <td>0.0</td>\n",
       "    </tr>\n",
       "    <tr>\n",
       "      <th>11406</th>\n",
       "      <td>11407</td>\n",
       "      <td>Cristian A. Sierra's Recipe Clone</td>\n",
       "      <td>111</td>\n",
       "      <td>0.0</td>\n",
       "      <td>0.0</td>\n",
       "    </tr>\n",
       "    <tr>\n",
       "      <th>11839</th>\n",
       "      <td>11840</td>\n",
       "      <td>Auth Dialog Preview User's Recipe 3</td>\n",
       "      <td>111</td>\n",
       "      <td>0.0</td>\n",
       "      <td>0.0</td>\n",
       "    </tr>\n",
       "    <tr>\n",
       "      <th>13412</th>\n",
       "      <td>13413</td>\n",
       "      <td>Sean Montgomery's Recipe Clone</td>\n",
       "      <td>111</td>\n",
       "      <td>0.0</td>\n",
       "      <td>0.0</td>\n",
       "    </tr>\n",
       "    <tr>\n",
       "      <th>14264</th>\n",
       "      <td>14265</td>\n",
       "      <td>Rangsy Sanouvong's Recipe</td>\n",
       "      <td>111</td>\n",
       "      <td>0.0</td>\n",
       "      <td>0.0</td>\n",
       "    </tr>\n",
       "    <tr>\n",
       "      <th>15344</th>\n",
       "      <td>15345</td>\n",
       "      <td>Awesome Recipe</td>\n",
       "      <td>111</td>\n",
       "      <td>0.0</td>\n",
       "      <td>0.0</td>\n",
       "    </tr>\n",
       "    <tr>\n",
       "      <th>26759</th>\n",
       "      <td>26760</td>\n",
       "      <td>Strawberry mustard</td>\n",
       "      <td>9</td>\n",
       "      <td>0.0</td>\n",
       "      <td>0.0</td>\n",
       "    </tr>\n",
       "    <tr>\n",
       "      <th>43220</th>\n",
       "      <td>43221</td>\n",
       "      <td>PH Test</td>\n",
       "      <td>9</td>\n",
       "      <td>0.0</td>\n",
       "      <td>0.0</td>\n",
       "    </tr>\n",
       "    <tr>\n",
       "      <th>70565</th>\n",
       "      <td>70566</td>\n",
       "      <td>JUNK RECIPE</td>\n",
       "      <td>9</td>\n",
       "      <td>0.0</td>\n",
       "      <td>0.0</td>\n",
       "    </tr>\n",
       "  </tbody>\n",
       "</table>\n",
       "</div>"
      ],
      "text/plain": [
       "       BeerID                                 Name  StyleID  ABV  IBU\n",
       "1248     1249            Reindeer Piss Holiday Ale       85  0.0  0.0\n",
       "2248     2249          Fergus Redmead's maple mead      161  0.0  0.0\n",
       "3354     3355                    Hop Rod Rye clone       15  0.0  0.0\n",
       "4698     4699                                Berrr      156  0.0  0.0\n",
       "6218     6219   Unemployment IPA (Stone IPA Clone)        7  0.0  0.0\n",
       "6659     6660                             FourPure       39  0.0  0.0\n",
       "6785     6786                 Mark Leyden's Recipe      143  0.0  0.0\n",
       "7695     7696                Andy Krupp's Recipe 2        7  0.0  0.0\n",
       "7824     7825               Laura Downing's Recipe      111  0.0  0.0\n",
       "8185     8186              Davy Pasternak's Recipe      111  0.0  0.0\n",
       "8307     8308                        Sparkling Ale      111  0.0  0.0\n",
       "8450     8451            Sergio Bosetti's Recipe 3      111  0.0  0.0\n",
       "8635     8636           Wheat out on the Boulevard       15  0.0  0.0\n",
       "8893     8894           Jason Zimmerman's Recipe 3      111  0.0  0.0\n",
       "8925     8926              Nathan Rushton's Recipe      111  0.0  0.0\n",
       "9729     9730                Zed  Krundonkulous 90       86  0.0  0.0\n",
       "10362   10363    Auth Dialog Preview User's Recipe      111  0.0  0.0\n",
       "11406   11407    Cristian A. Sierra's Recipe Clone      111  0.0  0.0\n",
       "11839   11840  Auth Dialog Preview User's Recipe 3      111  0.0  0.0\n",
       "13412   13413       Sean Montgomery's Recipe Clone      111  0.0  0.0\n",
       "14264   14265            Rangsy Sanouvong's Recipe      111  0.0  0.0\n",
       "15344   15345                       Awesome Recipe      111  0.0  0.0\n",
       "26759   26760                   Strawberry mustard        9  0.0  0.0\n",
       "43220   43221                              PH Test        9  0.0  0.0\n",
       "70565   70566                          JUNK RECIPE        9  0.0  0.0"
      ]
     },
     "execution_count": 31,
     "metadata": {},
     "output_type": "execute_result"
    }
   ],
   "source": [
    "cerveza.query(' ABV == 0 and IBU == 0 ')"
   ]
  },
  {
   "cell_type": "code",
   "execution_count": 32,
   "metadata": {},
   "outputs": [
    {
     "data": {
      "text/html": [
       "<div>\n",
       "<style scoped>\n",
       "    .dataframe tbody tr th:only-of-type {\n",
       "        vertical-align: middle;\n",
       "    }\n",
       "\n",
       "    .dataframe tbody tr th {\n",
       "        vertical-align: top;\n",
       "    }\n",
       "\n",
       "    .dataframe thead th {\n",
       "        text-align: right;\n",
       "    }\n",
       "</style>\n",
       "<table border=\"1\" class=\"dataframe\">\n",
       "  <thead>\n",
       "    <tr style=\"text-align: right;\">\n",
       "      <th></th>\n",
       "      <th>BeerID</th>\n",
       "      <th>Name</th>\n",
       "      <th>StyleID</th>\n",
       "      <th>ABV</th>\n",
       "      <th>IBU</th>\n",
       "    </tr>\n",
       "  </thead>\n",
       "  <tbody>\n",
       "    <tr>\n",
       "      <th>45</th>\n",
       "      <td>46</td>\n",
       "      <td>Caribou Slobber (All Grain)</td>\n",
       "      <td>6</td>\n",
       "      <td>5.57</td>\n",
       "      <td>35.32</td>\n",
       "    </tr>\n",
       "    <tr>\n",
       "      <th>67</th>\n",
       "      <td>68</td>\n",
       "      <td>Oatmeal Cookie Ale</td>\n",
       "      <td>6</td>\n",
       "      <td>5.53</td>\n",
       "      <td>0.00</td>\n",
       "    </tr>\n",
       "    <tr>\n",
       "      <th>83</th>\n",
       "      <td>84</td>\n",
       "      <td>Chocolate Imperial Stout</td>\n",
       "      <td>12</td>\n",
       "      <td>9.16</td>\n",
       "      <td>33.18</td>\n",
       "    </tr>\n",
       "    <tr>\n",
       "      <th>118</th>\n",
       "      <td>119</td>\n",
       "      <td>Blonde Stout</td>\n",
       "      <td>67</td>\n",
       "      <td>7.86</td>\n",
       "      <td>54.32</td>\n",
       "    </tr>\n",
       "    <tr>\n",
       "      <th>143</th>\n",
       "      <td>144</td>\n",
       "      <td>Bakke Brygg JuleAle 2016 20 l</td>\n",
       "      <td>6</td>\n",
       "      <td>6.54</td>\n",
       "      <td>42.06</td>\n",
       "    </tr>\n",
       "    <tr>\n",
       "      <th>...</th>\n",
       "      <td>...</td>\n",
       "      <td>...</td>\n",
       "      <td>...</td>\n",
       "      <td>...</td>\n",
       "      <td>...</td>\n",
       "    </tr>\n",
       "    <tr>\n",
       "      <th>73815</th>\n",
       "      <td>73816</td>\n",
       "      <td>07B - Altbier</td>\n",
       "      <td>1</td>\n",
       "      <td>5.21</td>\n",
       "      <td>33.94</td>\n",
       "    </tr>\n",
       "    <tr>\n",
       "      <th>73818</th>\n",
       "      <td>73819</td>\n",
       "      <td>Porter</td>\n",
       "      <td>12</td>\n",
       "      <td>5.90</td>\n",
       "      <td>43.70</td>\n",
       "    </tr>\n",
       "    <tr>\n",
       "      <th>73821</th>\n",
       "      <td>73822</td>\n",
       "      <td>Brownberry</td>\n",
       "      <td>6</td>\n",
       "      <td>5.67</td>\n",
       "      <td>30.89</td>\n",
       "    </tr>\n",
       "    <tr>\n",
       "      <th>73826</th>\n",
       "      <td>73827</td>\n",
       "      <td>Mateveva elja</td>\n",
       "      <td>12</td>\n",
       "      <td>5.94</td>\n",
       "      <td>37.66</td>\n",
       "    </tr>\n",
       "    <tr>\n",
       "      <th>73851</th>\n",
       "      <td>73852</td>\n",
       "      <td>Blonde Stout</td>\n",
       "      <td>67</td>\n",
       "      <td>7.24</td>\n",
       "      <td>52.94</td>\n",
       "    </tr>\n",
       "  </tbody>\n",
       "</table>\n",
       "<p>3082 rows × 5 columns</p>\n",
       "</div>"
      ],
      "text/plain": [
       "       BeerID                           Name  StyleID   ABV    IBU\n",
       "45         46    Caribou Slobber (All Grain)        6  5.57  35.32\n",
       "67         68             Oatmeal Cookie Ale        6  5.53   0.00\n",
       "83         84       Chocolate Imperial Stout       12  9.16  33.18\n",
       "118       119                   Blonde Stout       67  7.86  54.32\n",
       "143       144  Bakke Brygg JuleAle 2016 20 l        6  6.54  42.06\n",
       "...       ...                            ...      ...   ...    ...\n",
       "73815   73816                  07B - Altbier        1  5.21  33.94\n",
       "73818   73819                         Porter       12  5.90  43.70\n",
       "73821   73822                     Brownberry        6  5.67  30.89\n",
       "73826   73827                Mateveva elja       12  5.94  37.66\n",
       "73851   73852                   Blonde Stout       67  7.24  52.94\n",
       "\n",
       "[3082 rows x 5 columns]"
      ]
     },
     "execution_count": 32,
     "metadata": {},
     "output_type": "execute_result"
    }
   ],
   "source": [
    "cerveza.query(' StyleID in [1, 6, 12, 67, 32] ')"
   ]
  },
  {
   "cell_type": "code",
   "execution_count": 33,
   "metadata": {},
   "outputs": [
    {
     "data": {
      "text/plain": [
       "(3082, 5)"
      ]
     },
     "execution_count": 33,
     "metadata": {},
     "output_type": "execute_result"
    }
   ],
   "source": [
    "cerveza.query(' StyleID in [1, 6, 12, 67, 32] ').shape"
   ]
  },
  {
   "cell_type": "code",
   "execution_count": 109,
   "metadata": {},
   "outputs": [
    {
     "data": {
      "text/html": [
       "<div>\n",
       "<style scoped>\n",
       "    .dataframe tbody tr th:only-of-type {\n",
       "        vertical-align: middle;\n",
       "    }\n",
       "\n",
       "    .dataframe tbody tr th {\n",
       "        vertical-align: top;\n",
       "    }\n",
       "\n",
       "    .dataframe thead th {\n",
       "        text-align: right;\n",
       "    }\n",
       "</style>\n",
       "<table border=\"1\" class=\"dataframe\">\n",
       "  <thead>\n",
       "    <tr style=\"text-align: right;\">\n",
       "      <th></th>\n",
       "      <th>BeerID</th>\n",
       "      <th>Name</th>\n",
       "      <th>StyleID</th>\n",
       "      <th>ABV</th>\n",
       "      <th>IBU</th>\n",
       "    </tr>\n",
       "  </thead>\n",
       "  <tbody>\n",
       "    <tr>\n",
       "      <th>56882</th>\n",
       "      <td>56883</td>\n",
       "      <td>Alt Beer 2</td>\n",
       "      <td>1</td>\n",
       "      <td>5.06</td>\n",
       "      <td>34.32</td>\n",
       "    </tr>\n",
       "    <tr>\n",
       "      <th>62434</th>\n",
       "      <td>62435</td>\n",
       "      <td>Helcar Pale Alt</td>\n",
       "      <td>1</td>\n",
       "      <td>5.29</td>\n",
       "      <td>37.25</td>\n",
       "    </tr>\n",
       "    <tr>\n",
       "      <th>38696</th>\n",
       "      <td>38697</td>\n",
       "      <td>Vitor Altbier</td>\n",
       "      <td>1</td>\n",
       "      <td>4.32</td>\n",
       "      <td>35.16</td>\n",
       "    </tr>\n",
       "    <tr>\n",
       "      <th>38728</th>\n",
       "      <td>38729</td>\n",
       "      <td>Son of an ALTered Beast</td>\n",
       "      <td>1</td>\n",
       "      <td>4.47</td>\n",
       "      <td>40.15</td>\n",
       "    </tr>\n",
       "    <tr>\n",
       "      <th>8111</th>\n",
       "      <td>8112</td>\n",
       "      <td>Something Dark</td>\n",
       "      <td>1</td>\n",
       "      <td>5.64</td>\n",
       "      <td>28.27</td>\n",
       "    </tr>\n",
       "    <tr>\n",
       "      <th>30599</th>\n",
       "      <td>30600</td>\n",
       "      <td>20170223altbier?????????</td>\n",
       "      <td>1</td>\n",
       "      <td>4.57</td>\n",
       "      <td>27.03</td>\n",
       "    </tr>\n",
       "    <tr>\n",
       "      <th>12352</th>\n",
       "      <td>12353</td>\n",
       "      <td>Sleigh'r Clone (double alt)</td>\n",
       "      <td>1</td>\n",
       "      <td>7.26</td>\n",
       "      <td>66.04</td>\n",
       "    </tr>\n",
       "  </tbody>\n",
       "</table>\n",
       "</div>"
      ],
      "text/plain": [
       "       BeerID                         Name  StyleID   ABV    IBU\n",
       "56882   56883                   Alt Beer 2        1  5.06  34.32\n",
       "62434   62435              Helcar Pale Alt        1  5.29  37.25\n",
       "38696   38697                Vitor Altbier        1  4.32  35.16\n",
       "38728   38729      Son of an ALTered Beast        1  4.47  40.15\n",
       "8111     8112               Something Dark        1  5.64  28.27\n",
       "30599   30600     20170223altbier?????????        1  4.57  27.03\n",
       "12352   12353  Sleigh'r Clone (double alt)        1  7.26  66.04"
      ]
     },
     "execution_count": 109,
     "metadata": {},
     "output_type": "execute_result"
    }
   ],
   "source": [
    "cerveza.sort_values(['StyleID'], ascending = True).head(7)"
   ]
  },
  {
   "cell_type": "code",
   "execution_count": 35,
   "metadata": {},
   "outputs": [],
   "source": [
    "A = pd.DataFrame(\n",
    "    {\n",
    "        'C1': ['A', 'D', 'C', 'B'], \n",
    "        'C2': [12, 11, 4, 6]\n",
    "    }\n",
    ")\n",
    "\n",
    "B = pd.DataFrame(\n",
    "    {'C1': ['B', 'D'], \n",
    "     'C2': [13, 20], 'C3': [1, 2]\n",
    "    }\n",
    ")"
   ]
  },
  {
   "cell_type": "code",
   "execution_count": 36,
   "metadata": {},
   "outputs": [
    {
     "data": {
      "text/html": [
       "<div>\n",
       "<style scoped>\n",
       "    .dataframe tbody tr th:only-of-type {\n",
       "        vertical-align: middle;\n",
       "    }\n",
       "\n",
       "    .dataframe tbody tr th {\n",
       "        vertical-align: top;\n",
       "    }\n",
       "\n",
       "    .dataframe thead th {\n",
       "        text-align: right;\n",
       "    }\n",
       "</style>\n",
       "<table border=\"1\" class=\"dataframe\">\n",
       "  <thead>\n",
       "    <tr style=\"text-align: right;\">\n",
       "      <th></th>\n",
       "      <th>C1</th>\n",
       "      <th>C2</th>\n",
       "    </tr>\n",
       "  </thead>\n",
       "  <tbody>\n",
       "    <tr>\n",
       "      <th>0</th>\n",
       "      <td>A</td>\n",
       "      <td>12</td>\n",
       "    </tr>\n",
       "    <tr>\n",
       "      <th>1</th>\n",
       "      <td>D</td>\n",
       "      <td>11</td>\n",
       "    </tr>\n",
       "    <tr>\n",
       "      <th>2</th>\n",
       "      <td>C</td>\n",
       "      <td>4</td>\n",
       "    </tr>\n",
       "    <tr>\n",
       "      <th>3</th>\n",
       "      <td>B</td>\n",
       "      <td>6</td>\n",
       "    </tr>\n",
       "  </tbody>\n",
       "</table>\n",
       "</div>"
      ],
      "text/plain": [
       "  C1  C2\n",
       "0  A  12\n",
       "1  D  11\n",
       "2  C   4\n",
       "3  B   6"
      ]
     },
     "execution_count": 36,
     "metadata": {},
     "output_type": "execute_result"
    }
   ],
   "source": [
    "A"
   ]
  },
  {
   "cell_type": "code",
   "execution_count": 37,
   "metadata": {},
   "outputs": [
    {
     "data": {
      "text/html": [
       "<div>\n",
       "<style scoped>\n",
       "    .dataframe tbody tr th:only-of-type {\n",
       "        vertical-align: middle;\n",
       "    }\n",
       "\n",
       "    .dataframe tbody tr th {\n",
       "        vertical-align: top;\n",
       "    }\n",
       "\n",
       "    .dataframe thead th {\n",
       "        text-align: right;\n",
       "    }\n",
       "</style>\n",
       "<table border=\"1\" class=\"dataframe\">\n",
       "  <thead>\n",
       "    <tr style=\"text-align: right;\">\n",
       "      <th></th>\n",
       "      <th>C1</th>\n",
       "      <th>C2</th>\n",
       "      <th>C3</th>\n",
       "    </tr>\n",
       "  </thead>\n",
       "  <tbody>\n",
       "    <tr>\n",
       "      <th>0</th>\n",
       "      <td>B</td>\n",
       "      <td>13</td>\n",
       "      <td>1</td>\n",
       "    </tr>\n",
       "    <tr>\n",
       "      <th>1</th>\n",
       "      <td>D</td>\n",
       "      <td>20</td>\n",
       "      <td>2</td>\n",
       "    </tr>\n",
       "  </tbody>\n",
       "</table>\n",
       "</div>"
      ],
      "text/plain": [
       "  C1  C2  C3\n",
       "0  B  13   1\n",
       "1  D  20   2"
      ]
     },
     "execution_count": 37,
     "metadata": {},
     "output_type": "execute_result"
    }
   ],
   "source": [
    "B"
   ]
  },
  {
   "cell_type": "code",
   "execution_count": 38,
   "metadata": {},
   "outputs": [
    {
     "data": {
      "text/html": [
       "<div>\n",
       "<style scoped>\n",
       "    .dataframe tbody tr th:only-of-type {\n",
       "        vertical-align: middle;\n",
       "    }\n",
       "\n",
       "    .dataframe tbody tr th {\n",
       "        vertical-align: top;\n",
       "    }\n",
       "\n",
       "    .dataframe thead th {\n",
       "        text-align: right;\n",
       "    }\n",
       "</style>\n",
       "<table border=\"1\" class=\"dataframe\">\n",
       "  <thead>\n",
       "    <tr style=\"text-align: right;\">\n",
       "      <th></th>\n",
       "      <th>C1</th>\n",
       "      <th>C2</th>\n",
       "      <th>C3</th>\n",
       "    </tr>\n",
       "  </thead>\n",
       "  <tbody>\n",
       "    <tr>\n",
       "      <th>0</th>\n",
       "      <td>A</td>\n",
       "      <td>12</td>\n",
       "      <td>NaN</td>\n",
       "    </tr>\n",
       "    <tr>\n",
       "      <th>1</th>\n",
       "      <td>D</td>\n",
       "      <td>11</td>\n",
       "      <td>NaN</td>\n",
       "    </tr>\n",
       "    <tr>\n",
       "      <th>2</th>\n",
       "      <td>C</td>\n",
       "      <td>4</td>\n",
       "      <td>NaN</td>\n",
       "    </tr>\n",
       "    <tr>\n",
       "      <th>3</th>\n",
       "      <td>B</td>\n",
       "      <td>6</td>\n",
       "      <td>NaN</td>\n",
       "    </tr>\n",
       "    <tr>\n",
       "      <th>0</th>\n",
       "      <td>B</td>\n",
       "      <td>13</td>\n",
       "      <td>1.0</td>\n",
       "    </tr>\n",
       "    <tr>\n",
       "      <th>1</th>\n",
       "      <td>D</td>\n",
       "      <td>20</td>\n",
       "      <td>2.0</td>\n",
       "    </tr>\n",
       "  </tbody>\n",
       "</table>\n",
       "</div>"
      ],
      "text/plain": [
       "  C1  C2   C3\n",
       "0  A  12  NaN\n",
       "1  D  11  NaN\n",
       "2  C   4  NaN\n",
       "3  B   6  NaN\n",
       "0  B  13  1.0\n",
       "1  D  20  2.0"
      ]
     },
     "execution_count": 38,
     "metadata": {},
     "output_type": "execute_result"
    }
   ],
   "source": [
    "pd.concat([A,B])"
   ]
  },
  {
   "cell_type": "code",
   "execution_count": 39,
   "metadata": {},
   "outputs": [
    {
     "data": {
      "text/html": [
       "<div>\n",
       "<style scoped>\n",
       "    .dataframe tbody tr th:only-of-type {\n",
       "        vertical-align: middle;\n",
       "    }\n",
       "\n",
       "    .dataframe tbody tr th {\n",
       "        vertical-align: top;\n",
       "    }\n",
       "\n",
       "    .dataframe thead th {\n",
       "        text-align: right;\n",
       "    }\n",
       "</style>\n",
       "<table border=\"1\" class=\"dataframe\">\n",
       "  <thead>\n",
       "    <tr style=\"text-align: right;\">\n",
       "      <th></th>\n",
       "      <th>C1</th>\n",
       "      <th>C2</th>\n",
       "      <th>C3</th>\n",
       "    </tr>\n",
       "  </thead>\n",
       "  <tbody>\n",
       "    <tr>\n",
       "      <th>0</th>\n",
       "      <td>B</td>\n",
       "      <td>13</td>\n",
       "      <td>1.0</td>\n",
       "    </tr>\n",
       "    <tr>\n",
       "      <th>1</th>\n",
       "      <td>D</td>\n",
       "      <td>20</td>\n",
       "      <td>2.0</td>\n",
       "    </tr>\n",
       "    <tr>\n",
       "      <th>0</th>\n",
       "      <td>A</td>\n",
       "      <td>12</td>\n",
       "      <td>NaN</td>\n",
       "    </tr>\n",
       "    <tr>\n",
       "      <th>1</th>\n",
       "      <td>D</td>\n",
       "      <td>11</td>\n",
       "      <td>NaN</td>\n",
       "    </tr>\n",
       "    <tr>\n",
       "      <th>2</th>\n",
       "      <td>C</td>\n",
       "      <td>4</td>\n",
       "      <td>NaN</td>\n",
       "    </tr>\n",
       "    <tr>\n",
       "      <th>3</th>\n",
       "      <td>B</td>\n",
       "      <td>6</td>\n",
       "      <td>NaN</td>\n",
       "    </tr>\n",
       "  </tbody>\n",
       "</table>\n",
       "</div>"
      ],
      "text/plain": [
       "  C1  C2   C3\n",
       "0  B  13  1.0\n",
       "1  D  20  2.0\n",
       "0  A  12  NaN\n",
       "1  D  11  NaN\n",
       "2  C   4  NaN\n",
       "3  B   6  NaN"
      ]
     },
     "execution_count": 39,
     "metadata": {},
     "output_type": "execute_result"
    }
   ],
   "source": [
    "pd.concat([B,A])"
   ]
  },
  {
   "cell_type": "code",
   "execution_count": 40,
   "metadata": {},
   "outputs": [
    {
     "data": {
      "text/html": [
       "<div>\n",
       "<style scoped>\n",
       "    .dataframe tbody tr th:only-of-type {\n",
       "        vertical-align: middle;\n",
       "    }\n",
       "\n",
       "    .dataframe tbody tr th {\n",
       "        vertical-align: top;\n",
       "    }\n",
       "\n",
       "    .dataframe thead th {\n",
       "        text-align: right;\n",
       "    }\n",
       "</style>\n",
       "<table border=\"1\" class=\"dataframe\">\n",
       "  <thead>\n",
       "    <tr style=\"text-align: right;\">\n",
       "      <th></th>\n",
       "      <th>C1</th>\n",
       "      <th>C2</th>\n",
       "      <th>C3</th>\n",
       "    </tr>\n",
       "  </thead>\n",
       "  <tbody>\n",
       "    <tr>\n",
       "      <th>0</th>\n",
       "      <td>B</td>\n",
       "      <td>13</td>\n",
       "      <td>1.0</td>\n",
       "    </tr>\n",
       "    <tr>\n",
       "      <th>1</th>\n",
       "      <td>D</td>\n",
       "      <td>20</td>\n",
       "      <td>2.0</td>\n",
       "    </tr>\n",
       "    <tr>\n",
       "      <th>0</th>\n",
       "      <td>A</td>\n",
       "      <td>12</td>\n",
       "      <td>NaN</td>\n",
       "    </tr>\n",
       "    <tr>\n",
       "      <th>1</th>\n",
       "      <td>D</td>\n",
       "      <td>11</td>\n",
       "      <td>NaN</td>\n",
       "    </tr>\n",
       "    <tr>\n",
       "      <th>2</th>\n",
       "      <td>C</td>\n",
       "      <td>4</td>\n",
       "      <td>NaN</td>\n",
       "    </tr>\n",
       "    <tr>\n",
       "      <th>3</th>\n",
       "      <td>B</td>\n",
       "      <td>6</td>\n",
       "      <td>NaN</td>\n",
       "    </tr>\n",
       "  </tbody>\n",
       "</table>\n",
       "</div>"
      ],
      "text/plain": [
       "  C1  C2   C3\n",
       "0  B  13  1.0\n",
       "1  D  20  2.0\n",
       "0  A  12  NaN\n",
       "1  D  11  NaN\n",
       "2  C   4  NaN\n",
       "3  B   6  NaN"
      ]
     },
     "execution_count": 40,
     "metadata": {},
     "output_type": "execute_result"
    }
   ],
   "source": [
    "B.append(A)"
   ]
  },
  {
   "cell_type": "code",
   "execution_count": 41,
   "metadata": {},
   "outputs": [
    {
     "data": {
      "text/html": [
       "<div>\n",
       "<style scoped>\n",
       "    .dataframe tbody tr th:only-of-type {\n",
       "        vertical-align: middle;\n",
       "    }\n",
       "\n",
       "    .dataframe tbody tr th {\n",
       "        vertical-align: top;\n",
       "    }\n",
       "\n",
       "    .dataframe thead th {\n",
       "        text-align: right;\n",
       "    }\n",
       "</style>\n",
       "<table border=\"1\" class=\"dataframe\">\n",
       "  <thead>\n",
       "    <tr style=\"text-align: right;\">\n",
       "      <th></th>\n",
       "      <th>C1</th>\n",
       "      <th>C2</th>\n",
       "      <th>C3</th>\n",
       "    </tr>\n",
       "  </thead>\n",
       "  <tbody>\n",
       "    <tr>\n",
       "      <th>0</th>\n",
       "      <td>A</td>\n",
       "      <td>12</td>\n",
       "      <td>NaN</td>\n",
       "    </tr>\n",
       "    <tr>\n",
       "      <th>1</th>\n",
       "      <td>D</td>\n",
       "      <td>11</td>\n",
       "      <td>NaN</td>\n",
       "    </tr>\n",
       "    <tr>\n",
       "      <th>2</th>\n",
       "      <td>C</td>\n",
       "      <td>4</td>\n",
       "      <td>NaN</td>\n",
       "    </tr>\n",
       "    <tr>\n",
       "      <th>3</th>\n",
       "      <td>B</td>\n",
       "      <td>6</td>\n",
       "      <td>NaN</td>\n",
       "    </tr>\n",
       "    <tr>\n",
       "      <th>0</th>\n",
       "      <td>B</td>\n",
       "      <td>13</td>\n",
       "      <td>1.0</td>\n",
       "    </tr>\n",
       "    <tr>\n",
       "      <th>1</th>\n",
       "      <td>D</td>\n",
       "      <td>20</td>\n",
       "      <td>2.0</td>\n",
       "    </tr>\n",
       "  </tbody>\n",
       "</table>\n",
       "</div>"
      ],
      "text/plain": [
       "  C1  C2   C3\n",
       "0  A  12  NaN\n",
       "1  D  11  NaN\n",
       "2  C   4  NaN\n",
       "3  B   6  NaN\n",
       "0  B  13  1.0\n",
       "1  D  20  2.0"
      ]
     },
     "execution_count": 41,
     "metadata": {},
     "output_type": "execute_result"
    }
   ],
   "source": [
    "A.append(B)"
   ]
  },
  {
   "cell_type": "code",
   "execution_count": 42,
   "metadata": {},
   "outputs": [
    {
     "data": {
      "text/html": [
       "<div>\n",
       "<style scoped>\n",
       "    .dataframe tbody tr th:only-of-type {\n",
       "        vertical-align: middle;\n",
       "    }\n",
       "\n",
       "    .dataframe tbody tr th {\n",
       "        vertical-align: top;\n",
       "    }\n",
       "\n",
       "    .dataframe thead th {\n",
       "        text-align: right;\n",
       "    }\n",
       "</style>\n",
       "<table border=\"1\" class=\"dataframe\">\n",
       "  <thead>\n",
       "    <tr style=\"text-align: right;\">\n",
       "      <th></th>\n",
       "      <th>C1</th>\n",
       "      <th>C2</th>\n",
       "      <th>C1</th>\n",
       "      <th>C2</th>\n",
       "      <th>C3</th>\n",
       "    </tr>\n",
       "  </thead>\n",
       "  <tbody>\n",
       "    <tr>\n",
       "      <th>0</th>\n",
       "      <td>A</td>\n",
       "      <td>12</td>\n",
       "      <td>B</td>\n",
       "      <td>13.0</td>\n",
       "      <td>1.0</td>\n",
       "    </tr>\n",
       "    <tr>\n",
       "      <th>1</th>\n",
       "      <td>D</td>\n",
       "      <td>11</td>\n",
       "      <td>D</td>\n",
       "      <td>20.0</td>\n",
       "      <td>2.0</td>\n",
       "    </tr>\n",
       "    <tr>\n",
       "      <th>2</th>\n",
       "      <td>C</td>\n",
       "      <td>4</td>\n",
       "      <td>NaN</td>\n",
       "      <td>NaN</td>\n",
       "      <td>NaN</td>\n",
       "    </tr>\n",
       "    <tr>\n",
       "      <th>3</th>\n",
       "      <td>B</td>\n",
       "      <td>6</td>\n",
       "      <td>NaN</td>\n",
       "      <td>NaN</td>\n",
       "      <td>NaN</td>\n",
       "    </tr>\n",
       "  </tbody>\n",
       "</table>\n",
       "</div>"
      ],
      "text/plain": [
       "  C1  C2   C1    C2   C3\n",
       "0  A  12    B  13.0  1.0\n",
       "1  D  11    D  20.0  2.0\n",
       "2  C   4  NaN   NaN  NaN\n",
       "3  B   6  NaN   NaN  NaN"
      ]
     },
     "execution_count": 42,
     "metadata": {},
     "output_type": "execute_result"
    }
   ],
   "source": [
    "pd.concat([A, B], axis = 1)"
   ]
  },
  {
   "cell_type": "code",
   "execution_count": 43,
   "metadata": {},
   "outputs": [
    {
     "data": {
      "text/html": [
       "<div>\n",
       "<style scoped>\n",
       "    .dataframe tbody tr th:only-of-type {\n",
       "        vertical-align: middle;\n",
       "    }\n",
       "\n",
       "    .dataframe tbody tr th {\n",
       "        vertical-align: top;\n",
       "    }\n",
       "\n",
       "    .dataframe thead th {\n",
       "        text-align: right;\n",
       "    }\n",
       "</style>\n",
       "<table border=\"1\" class=\"dataframe\">\n",
       "  <thead>\n",
       "    <tr style=\"text-align: right;\">\n",
       "      <th></th>\n",
       "      <th>C1</th>\n",
       "      <th>C2_x</th>\n",
       "      <th>C2_y</th>\n",
       "      <th>C3</th>\n",
       "    </tr>\n",
       "  </thead>\n",
       "  <tbody>\n",
       "    <tr>\n",
       "      <th>0</th>\n",
       "      <td>D</td>\n",
       "      <td>11</td>\n",
       "      <td>20</td>\n",
       "      <td>2</td>\n",
       "    </tr>\n",
       "    <tr>\n",
       "      <th>1</th>\n",
       "      <td>B</td>\n",
       "      <td>6</td>\n",
       "      <td>13</td>\n",
       "      <td>1</td>\n",
       "    </tr>\n",
       "  </tbody>\n",
       "</table>\n",
       "</div>"
      ],
      "text/plain": [
       "  C1  C2_x  C2_y  C3\n",
       "0  D    11    20   2\n",
       "1  B     6    13   1"
      ]
     },
     "execution_count": 43,
     "metadata": {},
     "output_type": "execute_result"
    }
   ],
   "source": [
    "A.merge(B, how = 'inner', left_on = ['C1'], right_on = ['C1'])"
   ]
  },
  {
   "cell_type": "code",
   "execution_count": 44,
   "metadata": {},
   "outputs": [
    {
     "data": {
      "text/html": [
       "<div>\n",
       "<style scoped>\n",
       "    .dataframe tbody tr th:only-of-type {\n",
       "        vertical-align: middle;\n",
       "    }\n",
       "\n",
       "    .dataframe tbody tr th {\n",
       "        vertical-align: top;\n",
       "    }\n",
       "\n",
       "    .dataframe thead th {\n",
       "        text-align: right;\n",
       "    }\n",
       "</style>\n",
       "<table border=\"1\" class=\"dataframe\">\n",
       "  <thead>\n",
       "    <tr style=\"text-align: right;\">\n",
       "      <th></th>\n",
       "      <th>C1</th>\n",
       "      <th>C2_x</th>\n",
       "      <th>C2_y</th>\n",
       "      <th>C3</th>\n",
       "    </tr>\n",
       "  </thead>\n",
       "  <tbody>\n",
       "    <tr>\n",
       "      <th>0</th>\n",
       "      <td>A</td>\n",
       "      <td>12</td>\n",
       "      <td>NaN</td>\n",
       "      <td>NaN</td>\n",
       "    </tr>\n",
       "    <tr>\n",
       "      <th>1</th>\n",
       "      <td>D</td>\n",
       "      <td>11</td>\n",
       "      <td>20.0</td>\n",
       "      <td>2.0</td>\n",
       "    </tr>\n",
       "    <tr>\n",
       "      <th>2</th>\n",
       "      <td>C</td>\n",
       "      <td>4</td>\n",
       "      <td>NaN</td>\n",
       "      <td>NaN</td>\n",
       "    </tr>\n",
       "    <tr>\n",
       "      <th>3</th>\n",
       "      <td>B</td>\n",
       "      <td>6</td>\n",
       "      <td>13.0</td>\n",
       "      <td>1.0</td>\n",
       "    </tr>\n",
       "  </tbody>\n",
       "</table>\n",
       "</div>"
      ],
      "text/plain": [
       "  C1  C2_x  C2_y   C3\n",
       "0  A    12   NaN  NaN\n",
       "1  D    11  20.0  2.0\n",
       "2  C     4   NaN  NaN\n",
       "3  B     6  13.0  1.0"
      ]
     },
     "execution_count": 44,
     "metadata": {},
     "output_type": "execute_result"
    }
   ],
   "source": [
    "A.merge(B, how = 'left', left_on = ['C1'], right_on = ['C1'])"
   ]
  },
  {
   "cell_type": "code",
   "execution_count": 82,
   "metadata": {},
   "outputs": [],
   "source": [
    "estilos = pd.read_table(\n",
    "    'style_data.csv',\n",
    "    sep = ',',\n",
    "    header = 0,\n",
    "    decimal = '.',\n",
    "    encoding = \"latin1\"\n",
    ")"
   ]
  },
  {
   "cell_type": "code",
   "execution_count": 83,
   "metadata": {},
   "outputs": [
    {
     "data": {
      "text/html": [
       "<div>\n",
       "<style scoped>\n",
       "    .dataframe tbody tr th:only-of-type {\n",
       "        vertical-align: middle;\n",
       "    }\n",
       "\n",
       "    .dataframe tbody tr th {\n",
       "        vertical-align: top;\n",
       "    }\n",
       "\n",
       "    .dataframe thead th {\n",
       "        text-align: right;\n",
       "    }\n",
       "</style>\n",
       "<table border=\"1\" class=\"dataframe\">\n",
       "  <thead>\n",
       "    <tr style=\"text-align: right;\">\n",
       "      <th></th>\n",
       "      <th>Style</th>\n",
       "      <th>StyleID</th>\n",
       "    </tr>\n",
       "  </thead>\n",
       "  <tbody>\n",
       "    <tr>\n",
       "      <th>0</th>\n",
       "      <td>Altbier</td>\n",
       "      <td>1</td>\n",
       "    </tr>\n",
       "    <tr>\n",
       "      <th>1</th>\n",
       "      <td>Alternative Grain Beer</td>\n",
       "      <td>2</td>\n",
       "    </tr>\n",
       "    <tr>\n",
       "      <th>2</th>\n",
       "      <td>Alternative Sugar Beer</td>\n",
       "      <td>3</td>\n",
       "    </tr>\n",
       "    <tr>\n",
       "      <th>3</th>\n",
       "      <td>American Amber Ale</td>\n",
       "      <td>4</td>\n",
       "    </tr>\n",
       "    <tr>\n",
       "      <th>4</th>\n",
       "      <td>American Barleywine</td>\n",
       "      <td>5</td>\n",
       "    </tr>\n",
       "    <tr>\n",
       "      <th>5</th>\n",
       "      <td>American Brown Ale</td>\n",
       "      <td>6</td>\n",
       "    </tr>\n",
       "    <tr>\n",
       "      <th>6</th>\n",
       "      <td>American IPA</td>\n",
       "      <td>7</td>\n",
       "    </tr>\n",
       "  </tbody>\n",
       "</table>\n",
       "</div>"
      ],
      "text/plain": [
       "                    Style  StyleID\n",
       "0                 Altbier        1\n",
       "1  Alternative Grain Beer        2\n",
       "2  Alternative Sugar Beer        3\n",
       "3      American Amber Ale        4\n",
       "4     American Barleywine        5\n",
       "5      American Brown Ale        6\n",
       "6            American IPA        7"
      ]
     },
     "execution_count": 83,
     "metadata": {},
     "output_type": "execute_result"
    }
   ],
   "source": [
    "estilos.head(7)"
   ]
  },
  {
   "cell_type": "code",
   "execution_count": 84,
   "metadata": {},
   "outputs": [],
   "source": [
    "pegue = cerveza.merge( estilos, how = 'left', left_on = ['StyleID'], right_on = ['StyleID'] )"
   ]
  },
  {
   "cell_type": "code",
   "execution_count": 85,
   "metadata": {},
   "outputs": [
    {
     "data": {
      "text/html": [
       "<div>\n",
       "<style scoped>\n",
       "    .dataframe tbody tr th:only-of-type {\n",
       "        vertical-align: middle;\n",
       "    }\n",
       "\n",
       "    .dataframe tbody tr th {\n",
       "        vertical-align: top;\n",
       "    }\n",
       "\n",
       "    .dataframe thead th {\n",
       "        text-align: right;\n",
       "    }\n",
       "</style>\n",
       "<table border=\"1\" class=\"dataframe\">\n",
       "  <thead>\n",
       "    <tr style=\"text-align: right;\">\n",
       "      <th></th>\n",
       "      <th>BeerID</th>\n",
       "      <th>Name</th>\n",
       "      <th>StyleID</th>\n",
       "      <th>ABV</th>\n",
       "      <th>IBU</th>\n",
       "      <th>Style</th>\n",
       "    </tr>\n",
       "  </thead>\n",
       "  <tbody>\n",
       "    <tr>\n",
       "      <th>0</th>\n",
       "      <td>1</td>\n",
       "      <td>Vanilla Cream Ale</td>\n",
       "      <td>45</td>\n",
       "      <td>5.48</td>\n",
       "      <td>17.65</td>\n",
       "      <td>Cream Ale</td>\n",
       "    </tr>\n",
       "    <tr>\n",
       "      <th>1</th>\n",
       "      <td>2</td>\n",
       "      <td>Southern Tier Pumking clone</td>\n",
       "      <td>85</td>\n",
       "      <td>8.16</td>\n",
       "      <td>60.65</td>\n",
       "      <td>Holiday/Winter Special Spiced Beer</td>\n",
       "    </tr>\n",
       "    <tr>\n",
       "      <th>2</th>\n",
       "      <td>3</td>\n",
       "      <td>Zombie Dust Clone - EXTRACT</td>\n",
       "      <td>7</td>\n",
       "      <td>5.91</td>\n",
       "      <td>59.25</td>\n",
       "      <td>American IPA</td>\n",
       "    </tr>\n",
       "    <tr>\n",
       "      <th>3</th>\n",
       "      <td>4</td>\n",
       "      <td>Zombie Dust Clone - ALL GRAIN</td>\n",
       "      <td>7</td>\n",
       "      <td>5.80</td>\n",
       "      <td>54.48</td>\n",
       "      <td>American IPA</td>\n",
       "    </tr>\n",
       "    <tr>\n",
       "      <th>4</th>\n",
       "      <td>5</td>\n",
       "      <td>Bakke Brygg Belgisk Blonde 50 l</td>\n",
       "      <td>20</td>\n",
       "      <td>6.48</td>\n",
       "      <td>17.84</td>\n",
       "      <td>Belgian Blond Ale</td>\n",
       "    </tr>\n",
       "  </tbody>\n",
       "</table>\n",
       "</div>"
      ],
      "text/plain": [
       "   BeerID                             Name  StyleID   ABV    IBU  \\\n",
       "0       1                Vanilla Cream Ale       45  5.48  17.65   \n",
       "1       2      Southern Tier Pumking clone       85  8.16  60.65   \n",
       "2       3      Zombie Dust Clone - EXTRACT        7  5.91  59.25   \n",
       "3       4    Zombie Dust Clone - ALL GRAIN        7  5.80  54.48   \n",
       "4       5  Bakke Brygg Belgisk Blonde 50 l       20  6.48  17.84   \n",
       "\n",
       "                                Style  \n",
       "0                           Cream Ale  \n",
       "1  Holiday/Winter Special Spiced Beer  \n",
       "2                        American IPA  \n",
       "3                        American IPA  \n",
       "4                   Belgian Blond Ale  "
      ]
     },
     "execution_count": 85,
     "metadata": {},
     "output_type": "execute_result"
    }
   ],
   "source": [
    "pegue.head()"
   ]
  },
  {
   "cell_type": "code",
   "execution_count": 86,
   "metadata": {},
   "outputs": [],
   "source": [
    "cervezas_saison = pegue.query('Style == \"Saison\"')"
   ]
  },
  {
   "cell_type": "code",
   "execution_count": 87,
   "metadata": {},
   "outputs": [
    {
     "data": {
      "text/html": [
       "<div>\n",
       "<style scoped>\n",
       "    .dataframe tbody tr th:only-of-type {\n",
       "        vertical-align: middle;\n",
       "    }\n",
       "\n",
       "    .dataframe tbody tr th {\n",
       "        vertical-align: top;\n",
       "    }\n",
       "\n",
       "    .dataframe thead th {\n",
       "        text-align: right;\n",
       "    }\n",
       "</style>\n",
       "<table border=\"1\" class=\"dataframe\">\n",
       "  <thead>\n",
       "    <tr style=\"text-align: right;\">\n",
       "      <th></th>\n",
       "      <th>BeerID</th>\n",
       "      <th>Name</th>\n",
       "      <th>StyleID</th>\n",
       "      <th>ABV</th>\n",
       "      <th>IBU</th>\n",
       "      <th>Style</th>\n",
       "    </tr>\n",
       "  </thead>\n",
       "  <tbody>\n",
       "    <tr>\n",
       "      <th>16</th>\n",
       "      <td>17</td>\n",
       "      <td>Tank 7 Clone</td>\n",
       "      <td>134</td>\n",
       "      <td>7.63</td>\n",
       "      <td>44.94</td>\n",
       "      <td>Saison</td>\n",
       "    </tr>\n",
       "    <tr>\n",
       "      <th>22</th>\n",
       "      <td>23</td>\n",
       "      <td>Brooklyn Sorachi Ace</td>\n",
       "      <td>134</td>\n",
       "      <td>9.10</td>\n",
       "      <td>0.00</td>\n",
       "      <td>Saison</td>\n",
       "    </tr>\n",
       "    <tr>\n",
       "      <th>66</th>\n",
       "      <td>67</td>\n",
       "      <td>Siddhartha of Suburbia Saison</td>\n",
       "      <td>134</td>\n",
       "      <td>7.66</td>\n",
       "      <td>31.43</td>\n",
       "      <td>Saison</td>\n",
       "    </tr>\n",
       "    <tr>\n",
       "      <th>95</th>\n",
       "      <td>96</td>\n",
       "      <td>Jumpin' Jalapeño Saison</td>\n",
       "      <td>134</td>\n",
       "      <td>5.73</td>\n",
       "      <td>26.51</td>\n",
       "      <td>Saison</td>\n",
       "    </tr>\n",
       "    <tr>\n",
       "      <th>97</th>\n",
       "      <td>98</td>\n",
       "      <td>Belgian Saison - Farmhouse Style Ale</td>\n",
       "      <td>134</td>\n",
       "      <td>5.43</td>\n",
       "      <td>16.73</td>\n",
       "      <td>Saison</td>\n",
       "    </tr>\n",
       "  </tbody>\n",
       "</table>\n",
       "</div>"
      ],
      "text/plain": [
       "    BeerID                                  Name  StyleID   ABV    IBU   Style\n",
       "16      17                          Tank 7 Clone      134  7.63  44.94  Saison\n",
       "22      23                  Brooklyn Sorachi Ace      134  9.10   0.00  Saison\n",
       "66      67         Siddhartha of Suburbia Saison      134  7.66  31.43  Saison\n",
       "95      96               Jumpin' Jalapeño Saison      134  5.73  26.51  Saison\n",
       "97      98  Belgian Saison - Farmhouse Style Ale      134  5.43  16.73  Saison"
      ]
     },
     "execution_count": 87,
     "metadata": {},
     "output_type": "execute_result"
    }
   ],
   "source": [
    "cervezas_saison.head()"
   ]
  },
  {
   "cell_type": "code",
   "execution_count": 117,
   "metadata": {},
   "outputs": [
    {
     "data": {
      "text/html": [
       "<div>\n",
       "<style scoped>\n",
       "    .dataframe tbody tr th:only-of-type {\n",
       "        vertical-align: middle;\n",
       "    }\n",
       "\n",
       "    .dataframe tbody tr th {\n",
       "        vertical-align: top;\n",
       "    }\n",
       "\n",
       "    .dataframe thead th {\n",
       "        text-align: right;\n",
       "    }\n",
       "</style>\n",
       "<table border=\"1\" class=\"dataframe\">\n",
       "  <thead>\n",
       "    <tr style=\"text-align: right;\">\n",
       "      <th></th>\n",
       "      <th>StyleID</th>\n",
       "      <th>ABV</th>\n",
       "      <th>Style</th>\n",
       "    </tr>\n",
       "  </thead>\n",
       "  <tbody>\n",
       "    <tr>\n",
       "      <th>0</th>\n",
       "      <td>1</td>\n",
       "      <td>5.104161</td>\n",
       "      <td>Altbier</td>\n",
       "    </tr>\n",
       "    <tr>\n",
       "      <th>1</th>\n",
       "      <td>2</td>\n",
       "      <td>5.419722</td>\n",
       "      <td>Alternative Grain Beer</td>\n",
       "    </tr>\n",
       "    <tr>\n",
       "      <th>2</th>\n",
       "      <td>3</td>\n",
       "      <td>7.858571</td>\n",
       "      <td>Alternative Sugar Beer</td>\n",
       "    </tr>\n",
       "    <tr>\n",
       "      <th>3</th>\n",
       "      <td>4</td>\n",
       "      <td>5.674657</td>\n",
       "      <td>American Amber Ale</td>\n",
       "    </tr>\n",
       "    <tr>\n",
       "      <th>4</th>\n",
       "      <td>5</td>\n",
       "      <td>10.599971</td>\n",
       "      <td>American Barleywine</td>\n",
       "    </tr>\n",
       "    <tr>\n",
       "      <th>...</th>\n",
       "      <td>...</td>\n",
       "      <td>...</td>\n",
       "      <td>...</td>\n",
       "    </tr>\n",
       "    <tr>\n",
       "      <th>171</th>\n",
       "      <td>172</td>\n",
       "      <td>9.998780</td>\n",
       "      <td>Wheatwine</td>\n",
       "    </tr>\n",
       "    <tr>\n",
       "      <th>172</th>\n",
       "      <td>173</td>\n",
       "      <td>5.960500</td>\n",
       "      <td>Wild Specialty Beer</td>\n",
       "    </tr>\n",
       "    <tr>\n",
       "      <th>173</th>\n",
       "      <td>174</td>\n",
       "      <td>6.973161</td>\n",
       "      <td>Winter Seasonal Beer</td>\n",
       "    </tr>\n",
       "    <tr>\n",
       "      <th>174</th>\n",
       "      <td>175</td>\n",
       "      <td>5.160784</td>\n",
       "      <td>Witbier</td>\n",
       "    </tr>\n",
       "    <tr>\n",
       "      <th>175</th>\n",
       "      <td>176</td>\n",
       "      <td>8.579701</td>\n",
       "      <td>Wood-Aged Beer</td>\n",
       "    </tr>\n",
       "  </tbody>\n",
       "</table>\n",
       "<p>176 rows × 3 columns</p>\n",
       "</div>"
      ],
      "text/plain": [
       "     StyleID        ABV                   Style\n",
       "0          1   5.104161                 Altbier\n",
       "1          2   5.419722  Alternative Grain Beer\n",
       "2          3   7.858571  Alternative Sugar Beer\n",
       "3          4   5.674657      American Amber Ale\n",
       "4          5  10.599971     American Barleywine\n",
       "..       ...        ...                     ...\n",
       "171      172   9.998780               Wheatwine\n",
       "172      173   5.960500     Wild Specialty Beer\n",
       "173      174   6.973161    Winter Seasonal Beer\n",
       "174      175   5.160784                 Witbier\n",
       "175      176   8.579701          Wood-Aged Beer\n",
       "\n",
       "[176 rows x 3 columns]"
      ]
     },
     "execution_count": 117,
     "metadata": {},
     "output_type": "execute_result"
    }
   ],
   "source": [
    "cerveza.groupby(['StyleID'])['ABV'].mean().reset_index().merge(estilos, how = 'left', left_on = ['StyleID'], right_on = ['StyleID'])"
   ]
  },
  {
   "cell_type": "code",
   "execution_count": null,
   "metadata": {},
   "outputs": [],
   "source": []
  }
 ],
 "metadata": {
  "kernelspec": {
   "display_name": "Python 3",
   "language": "python",
   "name": "python3"
  },
  "language_info": {
   "codemirror_mode": {
    "name": "ipython",
    "version": 3
   },
   "file_extension": ".py",
   "mimetype": "text/x-python",
   "name": "python",
   "nbconvert_exporter": "python",
   "pygments_lexer": "ipython3",
   "version": "3.7.6"
  }
 },
 "nbformat": 4,
 "nbformat_minor": 4
}
