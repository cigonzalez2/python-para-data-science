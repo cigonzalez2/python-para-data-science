{
 "cells": [
  {
   "cell_type": "markdown",
   "metadata": {},
   "source": [
    "## Clase 2: Programación Básica en Python y manejo de datos\n"
   ]
  },
  {
   "cell_type": "markdown",
   "metadata": {},
   "source": [
    "### Funciones\n",
    "\n",
    "Al igual que en la mayoría de lenguajes, Python permite la generación de funciones, para hacerlas se parte con la palabra ```def``` "
   ]
  },
  {
   "cell_type": "code",
   "execution_count": null,
   "metadata": {},
   "outputs": [],
   "source": [
    "def suma(a, b):\n",
    "    # Acá defino C\n",
    "    c = a + b\n",
    "    return c\n",
    "    \n",
    "print(suma(6, 7))    "
   ]
  },
  {
   "cell_type": "markdown",
   "metadata": {},
   "source": [
    "Además de las funciones normales, existen una categoría de funciones anónimas llamadas funciones Lambda,\n",
    "estas son funciones que no quedan guardadas y son usadas para obtener resultados rápidos. Por ejemplo una función que eleva al cuadrado sería la siguiente:"
   ]
  },
  {
   "cell_type": "code",
   "execution_count": null,
   "metadata": {},
   "outputs": [],
   "source": [
    "def cuadrado(x):\n",
    "    return x*x\n",
    "\n",
    "print(cuadrado(9))"
   ]
  },
  {
   "cell_type": "code",
   "execution_count": null,
   "metadata": {},
   "outputs": [],
   "source": [
    "(lambda x: x ** 2)(9)"
   ]
  },
  {
   "cell_type": "markdown",
   "metadata": {},
   "source": [
    "La utilidad de las funciones es evitar definir funciones con escasos usos y llenar el codigo de definiciones de variables inecesarias."
   ]
  },
  {
   "cell_type": "markdown",
   "metadata": {},
   "source": [
    "## Ejercicios"
   ]
  },
  {
   "cell_type": "markdown",
   "metadata": {},
   "source": [
    "1. Escriba un programa en Python que encuentre todos los números entre 0 y n que sean divisibles por 7, pero no sean multiplos de 5.\n",
    "2. Escriba un programa en Python que calcule una productoria de una función f desde 1 hasta el número n."
   ]
  },
  {
   "cell_type": "markdown",
   "metadata": {},
   "source": [
    "## Soluciones\n",
    "\n",
    "### Problema 1\n",
    "Recordemos que un número es divisible por otro si su resto es cero, por ejemplo si queremos validar que el 10 es divisible por 5 basta hacer"
   ]
  },
  {
   "cell_type": "code",
   "execution_count": null,
   "metadata": {},
   "outputs": [],
   "source": [
    "10 % 5 == 0"
   ]
  },
  {
   "cell_type": "markdown",
   "metadata": {},
   "source": [
    "Ahora generamos una función que dado un número recorra todos ellos y valide sus condiciones, divisible por 7 y que no sea múltiplo de 5"
   ]
  },
  {
   "cell_type": "code",
   "execution_count": null,
   "metadata": {},
   "outputs": [],
   "source": [
    "def num(n):\n",
    "    a = []\n",
    "    for i in range(n + 1):\n",
    "        if (i % 7 == 0) & (i % 5 != 0):\n",
    "            a.append(i)\n",
    "    return a\n",
    "\n",
    "num(100)"
   ]
  },
  {
   "cell_type": "markdown",
   "metadata": {},
   "source": [
    "### Problema 2\n",
    "Buscamos hacer esto\n",
    "\n",
    "$$g(n) = \\prod_{i = 1} ^ n f(i)$$\n",
    "\n",
    "Donde $f$ es una función definida por el usuario. Por ejemplo si $f(x) = x^2$, entonces la función debe calcular\n",
    "\n",
    "$$g(n) = \\prod_{i = 1} ^ n i^2$$\n"
   ]
  },
  {
   "cell_type": "code",
   "execution_count": null,
   "metadata": {},
   "outputs": [],
   "source": [
    "def productoria(f, n):\n",
    "    if n == 1:\n",
    "        return f(n)\n",
    "    elif n > 1:\n",
    "        return f(n) * productoria(f, n - 1)"
   ]
  },
  {
   "cell_type": "code",
   "execution_count": null,
   "metadata": {},
   "outputs": [],
   "source": [
    "def cuadrado(x):\n",
    "    return x**2\n",
    "\n",
    "#productoria(lambda x: x ** 2, 3)\n",
    "productoria(cuadrado, 3)\n"
   ]
  },
  {
   "cell_type": "markdown",
   "metadata": {},
   "source": [
    "### Generadores\n",
    "A veces no nos interesa obtener el resultado completo de una sola vez, nos pueden interesar pero sólo para iterar sobre los futuros valores que tendremos. Un generador es una función que no nos retorna explicitamente los valores, sino más una promesa de que nos entregará el valor pedido cuando se lo pidamos.\n"
   ]
  },
  {
   "cell_type": "markdown",
   "metadata": {},
   "source": [
    "Supongamos que queremos TODOS los cuadrados de los número enteros, como todos los números son infinitos, esto no cabría en ninguna lista, ni con todo el almacenamiento del mundo. Sin embargo lo que si se puede hacer es una función que nos genere los números a medida que los necesitemos. \n",
    "\n",
    "Un generador se crea igual que una función pero en lugar de la palabra ```return``` se utiliza la palabra clave ``yield``"
   ]
  },
  {
   "cell_type": "code",
   "execution_count": null,
   "metadata": {},
   "outputs": [],
   "source": [
    "def cuadrados():\n",
    "    i = 1\n",
    "    while(True):\n",
    "        yield i * i\n",
    "        i += 1"
   ]
  },
  {
   "cell_type": "code",
   "execution_count": null,
   "metadata": {},
   "outputs": [],
   "source": [
    "mi_generador = cuadrados()"
   ]
  },
  {
   "cell_type": "code",
   "execution_count": null,
   "metadata": {},
   "outputs": [],
   "source": [
    "print(next(mi_generador))\n",
    "print(next(mi_generador))"
   ]
  },
  {
   "cell_type": "markdown",
   "metadata": {},
   "source": [
    "Al aplicar next, la función llega hasta la instrucción yield, al aplicar una segunda vez, continua donde quedamos y ejecuta la siguiente.\n",
    "\n",
    "Ahora tú!, crea un generador que genere TODOS los números de la sucesión de Fibonacci, la cual se define como:\n",
    "\n",
    "$\\begin{align}\n",
    "f(1) &= 1 \\\\\n",
    "f(2) &= 1 \\\\\n",
    "f(n) &= f(n - 1) + f(n - 2), ~~ n > 2\n",
    "\\end{align}$\n",
    "\n"
   ]
  },
  {
   "cell_type": "markdown",
   "metadata": {},
   "source": [
    "Los generadores tienen la ventaja de que nunca se definen todos los valores en memoria, el uso de ellos permite optimizar códigos\n",
    "\n",
    "#### Ejemplo\n",
    "\n",
    "Supongamos que queremos la suma de los primeros 100.000.000 de números, definiremos un generador de números y también una lista con números"
   ]
  },
  {
   "cell_type": "code",
   "execution_count": null,
   "metadata": {},
   "outputs": [],
   "source": [
    "# Para medir el tiempo\n",
    "import time\n",
    "\n",
    "def lista_numeros(n):\n",
    "    l_num = []\n",
    "    for i in range(n + 1):\n",
    "        l_num.append(i)\n",
    "    return l_num\n",
    "\n",
    "def gen_numeros(n):\n",
    "    l_num = []\n",
    "    for i in range(n + 1):\n",
    "        yield(i)"
   ]
  },
  {
   "cell_type": "markdown",
   "metadata": {},
   "source": [
    "##### Con lista"
   ]
  },
  {
   "cell_type": "code",
   "execution_count": null,
   "metadata": {},
   "outputs": [],
   "source": [
    "stime = time.time()\n",
    "sum(lista_numeros(100000000))\n",
    "print(\"Tiempo de ejecución lista: \"+ str(time.time() - stime) + \" segundos\")"
   ]
  },
  {
   "cell_type": "markdown",
   "metadata": {},
   "source": [
    "##### Con generador"
   ]
  },
  {
   "cell_type": "code",
   "execution_count": null,
   "metadata": {},
   "outputs": [],
   "source": [
    "stime = time.time()\n",
    "sum(gen_numeros(100000000))\n",
    "print(\"Tiempo de ejecución generador: \"+ str(time.time() - stime) + \" segundos\")"
   ]
  },
  {
   "cell_type": "markdown",
   "metadata": {},
   "source": [
    "##### Usando función diseñada"
   ]
  },
  {
   "cell_type": "code",
   "execution_count": null,
   "metadata": {},
   "outputs": [],
   "source": [
    "stime = time.time()\n",
    "sum(range(100000000))\n",
    "print(\"Tiempo de ejecución funcion diseñada: \"+ str(time.time() - stime) + \" segundos\")\n"
   ]
  },
  {
   "cell_type": "markdown",
   "metadata": {},
   "source": [
    "El uso de generadores permite optimizar fuertemente sus códigos, evitar usar loops para recorrer listas, en lugar de ello usar generadores"
   ]
  },
  {
   "cell_type": "markdown",
   "metadata": {},
   "source": [
    "### Compresión de listas\n",
    "\n",
    "Cuando queremos generar una sucesión de valores (o aplicar una función a varios elementos) se puede hacer con alguna función de loop. Por ejemplo, dada una lista queremos calcular la raiz cuadrada a todos los números, una opción es hace el loop de la siguiente forma"
   ]
  },
  {
   "cell_type": "code",
   "execution_count": null,
   "metadata": {},
   "outputs": [],
   "source": [
    "numeros = [4, 3, 5, 7, 1, 3]\n",
    "for i in range(len(numeros)):\n",
    "    numeros[i] = numeros[i] ** 0.5\n",
    "\n",
    "print(numeros)"
   ]
  },
  {
   "cell_type": "markdown",
   "metadata": {},
   "source": [
    "una forma mucho más elegante de hacer lo mismo es definir la operación dentro de la lista"
   ]
  },
  {
   "cell_type": "code",
   "execution_count": null,
   "metadata": {},
   "outputs": [],
   "source": [
    "numeros = [4, 3, 5, 8, 1, 3]\n",
    "raices = [i ** 0.5 for i in numeros]\n",
    "print(raices)"
   ]
  },
  {
   "cell_type": "markdown",
   "metadata": {},
   "source": [
    "En general la estructura para la compresión de lista es `[<función> <iteración> <condiciones>]`. Por ejemplo si de la lista anterior sólo quiesieramos retornar sólo las raices de los números pares que su resultado sea un número par"
   ]
  },
  {
   "cell_type": "code",
   "execution_count": null,
   "metadata": {},
   "outputs": [],
   "source": [
    "raices_pares = [i ** 0.5 for i in numeros if i % 2 == 0 if i ** 0.5 % 2 == 0]\n",
    "print(raices_pares)"
   ]
  },
  {
   "cell_type": "markdown",
   "metadata": {},
   "source": [
    "Notar que:\n",
    "\n",
    "* `i ** 0.5` es la función\n",
    "* `for i in numeros` es la iteración\n",
    "* `if i % 2 == 0 if i ** 0.5 % 2 == 0` son las condiciones\n"
   ]
  },
  {
   "cell_type": "markdown",
   "metadata": {},
   "source": [
    "Las condiciones son básicas, si por ejemplo quisieramos poner una lógica de if else en la compresión, es mejor establecerlo en la lógica de las funciones. En el ejemplo anterior si quisieramos que a los pares se les calcule la raiz y a los impares nada, una forma puede ser"
   ]
  },
  {
   "cell_type": "code",
   "execution_count": null,
   "metadata": {},
   "outputs": [],
   "source": [
    "raices_pares = [i ** 0.5 if i % 2 == 0 else i for i in numeros]\n",
    "print(raices_pares)"
   ]
  },
  {
   "cell_type": "markdown",
   "metadata": {},
   "source": [
    "### Orientación a Objetos"
   ]
  },
  {
   "cell_type": "markdown",
   "metadata": {},
   "source": [
    "Como se mencionó, Python es multiparadigma, por lo cual soporta la orientación a objetos. Si bien hasta ahora no hemos definido ninguna clase, eso es precisamente lo bueno de Python, no nos impone una forma de programar. \n",
    "\n",
    "Un objeto suele constar de tres componentes:\n",
    "\n",
    "1. Atributos del objeto.\n",
    "2. Funciones del objeto.\n",
    "3. Un método constructor que inicia el objeto.\n",
    "\n",
    "Una clase en Python se ve de la siguiente forma\n",
    "\n"
   ]
  },
  {
   "cell_type": "code",
   "execution_count": null,
   "metadata": {},
   "outputs": [],
   "source": [
    "class triangulo:\n",
    "    def __init__(self, a, b, c):\n",
    "        self.a = a\n",
    "        self.b = b\n",
    "        self.c = c\n",
    "        self.s = (self.a + self.b + self.c)/2\n",
    "    \n",
    "    def es_triangulo(self):\n",
    "        if (self.a >= self.b + self.c) | (self.b >= self.a + self.c) | (self.c >= self.b + self.a):\n",
    "            return 'no es triángulo :c'\n",
    "        else:\n",
    "            return 'es triangulo'\n",
    "    \n",
    "    def area(self):\n",
    "        return (self.s * (self.s - self.a) * (self.s - self.b) * (self.s - self.c)) ** 0.5\n",
    "    \n",
    "    def perimetro(self):\n",
    "        return self.a + self.b + self.c"
   ]
  },
  {
   "cell_type": "code",
   "execution_count": null,
   "metadata": {},
   "outputs": [],
   "source": [
    "mi_triangulo = triangulo(2, 3, 10)"
   ]
  },
  {
   "cell_type": "markdown",
   "metadata": {},
   "source": [
    "### Ejercicios 2:\n",
    "1. Crear una clase \"perrito\" que tenga por atributos; nombre (string), raza (string), altura (float), peso (float), inteligencia (int) y trucos aprendidos. El último atributo no lo debe definir el usuario\n",
    "2. A la clase anterior, agregar un método que le enseñe trucos.\n",
    "3. A la clase anterior, limitar la cantidad de trucos a la inteligencia del perrito, si tiene inteligencia 2, sólo podrá aprender dos trucos y si ya tenía dos, borrar el primero."
   ]
  },
  {
   "cell_type": "markdown",
   "metadata": {},
   "source": [
    "#### Importación de librerías:\n",
    "\n",
    "para importar librerías se usa el comando de la siguiente forma\n"
   ]
  },
  {
   "cell_type": "code",
   "execution_count": null,
   "metadata": {},
   "outputs": [],
   "source": [
    "import numpy"
   ]
  },
  {
   "cell_type": "markdown",
   "metadata": {},
   "source": [
    "Cuando queremos usar una función de esa librería, hay que llamar primero la librería, punto la función a utilizar. por ejemplo"
   ]
  },
  {
   "cell_type": "code",
   "execution_count": null,
   "metadata": {},
   "outputs": [],
   "source": [
    "print(numpy.sqrt(16))\n",
    "print(numpy.pi)"
   ]
  },
  {
   "cell_type": "markdown",
   "metadata": {},
   "source": [
    "Como se puede ver esto es algo engorroso, por lo cual se suelen llamar con un alias. Por ejemplo"
   ]
  },
  {
   "cell_type": "code",
   "execution_count": null,
   "metadata": {},
   "outputs": [],
   "source": [
    "import numpy as np"
   ]
  },
  {
   "cell_type": "code",
   "execution_count": null,
   "metadata": {},
   "outputs": [],
   "source": [
    "print(np.sqrt(16))\n",
    "print(np.e)"
   ]
  },
  {
   "cell_type": "markdown",
   "metadata": {},
   "source": [
    "Otra opción es que si sólo requerimos de algunas funcionalidades de la librería, se puede importar sólo el objeto que necesitamos. Por ejemplo si sólo quisieramos utilizar la función raíz cuadrada, se puede importar sólo eso."
   ]
  },
  {
   "cell_type": "code",
   "execution_count": null,
   "metadata": {},
   "outputs": [],
   "source": [
    "from numpy import sqrt"
   ]
  },
  {
   "cell_type": "code",
   "execution_count": null,
   "metadata": {},
   "outputs": [],
   "source": [
    "sqrt(16)"
   ]
  },
  {
   "cell_type": "markdown",
   "metadata": {},
   "source": [
    "Como última opción (no recomendado), se pueden importar todos los objetos de la librería usando la siguiente sentencia."
   ]
  },
  {
   "cell_type": "code",
   "execution_count": null,
   "metadata": {},
   "outputs": [],
   "source": [
    "from numpy import *"
   ]
  },
  {
   "cell_type": "code",
   "execution_count": null,
   "metadata": {},
   "outputs": [],
   "source": [
    "e"
   ]
  },
  {
   "cell_type": "markdown",
   "metadata": {},
   "source": [
    "#### Libería Numpy\n",
    "\n",
    "Como vimos en la clase anterior, hay operaciones vectoriales y matriciales que no se pueden hacer directamente con el Python nativo. Numpy (Numeric Python) permite hacer operaciones numéricas más complejas."
   ]
  },
  {
   "cell_type": "code",
   "execution_count": null,
   "metadata": {},
   "outputs": [],
   "source": [
    "[1, 2, 3] + [2, 2, 3]"
   ]
  },
  {
   "cell_type": "code",
   "execution_count": null,
   "metadata": {},
   "outputs": [],
   "source": [
    "import numpy as np\n",
    "\n",
    "a = np.array([1, 2, 3])\n",
    "b = np.array([2, 2, 3])\n",
    "\n",
    "print(a + b)\n",
    "print(a * b)\n",
    "print(a ** b)"
   ]
  },
  {
   "cell_type": "markdown",
   "metadata": {},
   "source": [
    "También se pueden definir matrices"
   ]
  },
  {
   "cell_type": "code",
   "execution_count": null,
   "metadata": {},
   "outputs": [],
   "source": [
    "A = np.matrix([[1,2,3], [4, 5, 6]])\n",
    "B = np.matrix([[2, 2], [1, 4], [3, 2]])\n",
    "print(A)\n",
    "print(B)\n",
    "A * B"
   ]
  },
  {
   "cell_type": "markdown",
   "metadata": {},
   "source": [
    "de igual forma se pueden definir como:"
   ]
  },
  {
   "cell_type": "code",
   "execution_count": null,
   "metadata": {},
   "outputs": [],
   "source": [
    "C = np.matrix('1, 2, 3; 4, 5, 6')\n",
    "print(C)"
   ]
  },
  {
   "cell_type": "markdown",
   "metadata": {},
   "source": [
    "Como las matrices son objetos, tiene funciones incorporados como por ejemplo"
   ]
  },
  {
   "cell_type": "code",
   "execution_count": null,
   "metadata": {},
   "outputs": [],
   "source": [
    "# Traspuesta\n",
    "C.transpose()"
   ]
  },
  {
   "cell_type": "code",
   "execution_count": null,
   "metadata": {},
   "outputs": [],
   "source": [
    "#Diagonal\n",
    "C.diagonal()"
   ]
  },
  {
   "cell_type": "code",
   "execution_count": null,
   "metadata": {},
   "outputs": [],
   "source": [
    "#Reestructurar\n",
    "C.reshape([1, 6])"
   ]
  },
  {
   "cell_type": "markdown",
   "metadata": {},
   "source": [
    "Para invertir matrices hay que usar la clase linalg de numpy"
   ]
  },
  {
   "cell_type": "code",
   "execution_count": null,
   "metadata": {},
   "outputs": [],
   "source": [
    "np.linalg.inv(C * C.transpose())"
   ]
  },
  {
   "cell_type": "markdown",
   "metadata": {},
   "source": [
    "**Ejercicio:** Cree una función que data una matriz de diseño de un modelo de regresión, y su respuesta, calcule los coeficientes $\\beta$. Recordar que en un modelo de regresión lineal múltiple los coeficientes están dados por:\n",
    "\n",
    "$$\\hat{\\beta} = (X^{T}X)^{-1}X^{T}y$$\n"
   ]
  },
  {
   "cell_type": "markdown",
   "metadata": {},
   "source": [
    "#### La libraría Pandas\n",
    "\n",
    "Numpy permite extender las funciones de Python al análisis numérico, Pandas permite el manejo de estructuras de datos más complejas llamadas \"data frames\".\n",
    "En la clase anterior, se mencionó que los diccionarios forman una suerte de tabla, al relacionar una lista con una llave. Los data frames siguen un concepto similar, pero además están indexadas.\n"
   ]
  },
  {
   "cell_type": "code",
   "execution_count": null,
   "metadata": {},
   "outputs": [],
   "source": [
    "import pandas as pd\n",
    "\n",
    "Notas = pd.DataFrame({'Nota C1': [7.0, 7.0, 7.0, 7.0],\n",
    "                      'Nota C2': [1.9, 2.6, 3.3, 1.0],\n",
    "                      'Nota C3': [5.5, 5.2, 6.7, 6.1]},\n",
    "            index = ['Martín', 'Paula', 'Simón', 'María'])\n",
    "Notas"
   ]
  },
  {
   "cell_type": "markdown",
   "metadata": {},
   "source": [
    "Si queremos acceder a las columnas, se puede hacer con los paréntesis cuadrados"
   ]
  },
  {
   "cell_type": "code",
   "execution_count": null,
   "metadata": {},
   "outputs": [],
   "source": [
    "Notas[['Nota C2', 'Nota C3']]"
   ]
  },
  {
   "cell_type": "markdown",
   "metadata": {},
   "source": [
    "Y se puede seleccionar por índice usando la función loc"
   ]
  },
  {
   "cell_type": "code",
   "execution_count": null,
   "metadata": {},
   "outputs": [],
   "source": [
    "Notas.loc[['Simón', 'Paula']]"
   ]
  },
  {
   "cell_type": "markdown",
   "metadata": {},
   "source": [
    "Por último, se puede acceder usando el orden de los datos, como si fuera una matriz"
   ]
  },
  {
   "cell_type": "code",
   "execution_count": null,
   "metadata": {},
   "outputs": [],
   "source": [
    "Notas.iloc[[1], [0, 1]]"
   ]
  },
  {
   "cell_type": "markdown",
   "metadata": {},
   "source": [
    "#### Importación de datos\n",
    "\n",
    "Pandas permite la lectura una buena fuente de datos de forma directa, algunas de ellas son:\n",
    "\n",
    "- Texto plano\n",
    "- Portapapeles\n",
    "- Excel\n",
    "- JSON\n",
    "- HTML\n",
    "- SAS\n",
    "- SQL\n",
    "- HDFS\n",
    "\n",
    "Por ahora veremos texto plano.\n"
   ]
  },
  {
   "cell_type": "markdown",
   "metadata": {},
   "source": [
    "La sentencia read_table se componen de los siguientes componentes \n",
    "\n",
    "```read_table(path, sep = '\\t', header = 'infer', decimal = '.', encoding = None)```\n",
    "\n",
    "- **path:** Obligatorio, es el la ruta del archivo\n",
    "- **sep:** Indica el separador de campo, por defecto son tabuladores.\n",
    "- **header:** Indica si es el archivo viene con encabezados, por defecto lo deduce solo.\n",
    "- **decimal:** Separador decimal.\n",
    "- **encoding:** Codificado del archivo, usando 'latin1' se consiguen leer los caracteres hispánicos\n",
    "\n"
   ]
  },
  {
   "cell_type": "markdown",
   "metadata": {},
   "source": [
    "**Ejemplo:** La tabla recipe_data, contiene información de más de 70.000 recetas de cerveza artezanal, es un csv, delimitado por comas. Sus columnas son:\n",
    "\n",
    "|Campo|Tipo|Descripción|\n",
    "|---|---|---|\n",
    "|BeerID|numeric|ID de la muestra|\n",
    "|Name|String|Nombre de la Cerveza|\n",
    "|StyleID|numeric|ID de estilo de cerveza|\n",
    "|ABV|numeric|Alcohol por volumnen|\n",
    "|IBU|numeric|Indicador IBU de amargor|\n",
    "\n",
    "Leer ese archivo"
   ]
  },
  {
   "cell_type": "code",
   "execution_count": null,
   "metadata": {},
   "outputs": [],
   "source": [
    "cerveza = pd.read_table('recipe_data.csv',\n",
    "                       sep = ',',\n",
    "                       header = 0,\n",
    "                       decimal = '.',\n",
    "                       encoding = \"latin1\")"
   ]
  },
  {
   "cell_type": "markdown",
   "metadata": {},
   "source": [
    "#### Manipulación Básica\n",
    "\n",
    "Para obtener el encabezado, se puede utilizar la función .head, la cual se le puede indicar la cantidad de filas a mostrar."
   ]
  },
  {
   "cell_type": "code",
   "execution_count": null,
   "metadata": {},
   "outputs": [],
   "source": [
    "cerveza.head(10)"
   ]
  },
  {
   "cell_type": "markdown",
   "metadata": {},
   "source": [
    "de forma similar, se puede obtener una muestra con el .sample"
   ]
  },
  {
   "cell_type": "code",
   "execution_count": null,
   "metadata": {},
   "outputs": [],
   "source": [
    "cerveza.sample(10)"
   ]
  },
  {
   "cell_type": "markdown",
   "metadata": {},
   "source": [
    "Para filtrar los datos, se puede utilizar los mismos parentesis cuadrados, en los cuales se les puede poner una condición."
   ]
  },
  {
   "cell_type": "code",
   "execution_count": null,
   "metadata": {},
   "outputs": [],
   "source": [
    "cervezas_alcoholicas = cerveza[cerveza['ABV'] > 15]"
   ]
  },
  {
   "cell_type": "markdown",
   "metadata": {},
   "source": [
    "Alternativamente, se puede usar la función query, la cual hace consultas en un lenguaje más natural."
   ]
  },
  {
   "cell_type": "code",
   "execution_count": null,
   "metadata": {},
   "outputs": [],
   "source": [
    "cervezas_alcoholicas = cerveza.query('ABV > 15')"
   ]
  },
  {
   "cell_type": "markdown",
   "metadata": {},
   "source": [
    "**Ejemplo:** Obtenga las analcoholicas, que tengan IBU 0"
   ]
  },
  {
   "cell_type": "code",
   "execution_count": null,
   "metadata": {},
   "outputs": [],
   "source": [
    "cerveza.query('ABV == 0 and IBU == 0')"
   ]
  },
  {
   "cell_type": "markdown",
   "metadata": {},
   "source": [
    "**Ejemplo:** Obtenga todas las cervezas que tengan los siguientes estilos: 1, 6, 12, 67, 32. Indique cuantos registros son."
   ]
  },
  {
   "cell_type": "code",
   "execution_count": null,
   "metadata": {},
   "outputs": [],
   "source": [
    "cerveza.query('StyleID in [1, 6, 12, 67, 32]').shape"
   ]
  },
  {
   "cell_type": "markdown",
   "metadata": {},
   "source": [
    "#### Orden\n",
    "\n",
    "Para ordenar valores, basta con usar la sentencia ```sort_values(['columnas'],  ascending=True/False)```.\n",
    "\n",
    "\n",
    "**Ejemplo:** Ordene la tabla de cervezas según grado alcoholico en orden decendente. ¿Cuáles son las 10 cervezas más alcoholicas?"
   ]
  },
  {
   "cell_type": "code",
   "execution_count": null,
   "metadata": {},
   "outputs": [],
   "source": [
    "cerveza.sort_values(['ABV'], ascending = False).head(10)"
   ]
  },
  {
   "cell_type": "markdown",
   "metadata": {},
   "source": [
    "#### Uniones\n",
    "\n",
    "Pandas permite trabajar la union de varias tablas. El método más simple es el concat, el cual une dos tabla \"hacia abajo\"\n"
   ]
  },
  {
   "cell_type": "code",
   "execution_count": null,
   "metadata": {},
   "outputs": [],
   "source": [
    "A = pd.DataFrame({'C1': ['A', 'D', 'C', 'B'], 'C2': [12, 11, 4, 6]})\n",
    "B = pd.DataFrame({'C1': ['B', 'D'], 'C2': [13, 20], 'C3': [1, 2]})"
   ]
  },
  {
   "cell_type": "code",
   "execution_count": null,
   "metadata": {},
   "outputs": [],
   "source": [
    "pd.concat([A, B])"
   ]
  },
  {
   "cell_type": "markdown",
   "metadata": {},
   "source": [
    "Notar que si las columnas no cuadran, se rellena con NaN. Otra alternativa es usar el append"
   ]
  },
  {
   "cell_type": "code",
   "execution_count": null,
   "metadata": {},
   "outputs": [],
   "source": [
    "B.append(A)"
   ]
  },
  {
   "cell_type": "markdown",
   "metadata": {},
   "source": [
    "Está la posibilidad de unir \"para el lado\", ocupando la opción axis=1"
   ]
  },
  {
   "cell_type": "code",
   "execution_count": null,
   "metadata": {},
   "outputs": [],
   "source": [
    "pd.concat([A, B], axis = 1)"
   ]
  },
  {
   "cell_type": "markdown",
   "metadata": {},
   "source": [
    "Cuando se requieren uniones más complejas, se puede usar el .merge, el cual emula un \"join\" de SQL, se usa como:\n",
    "\n",
    "```pd.merge(A, B, how = 'inner', left_on = None, right_on = None) ```\n",
    "\n",
    "- **A, B:** Son las tablas a unir\n",
    "- **how:** indica de que forma unir, puede ser inner, left, right o outer\n",
    "- **left_on:** Columnas por las cuales unir en la tabla izquierda\n",
    "- **right_on:** Columnas por las cuales unir en la tabla derecha\n"
   ]
  },
  {
   "cell_type": "code",
   "execution_count": null,
   "metadata": {},
   "outputs": [],
   "source": [
    "A.merge(B, how = 'inner', left_on = ['C1'], right_on = ['C1'])"
   ]
  },
  {
   "cell_type": "code",
   "execution_count": null,
   "metadata": {},
   "outputs": [],
   "source": [
    "A.merge(B, how = 'left', left_on = ['C1'], right_on = ['C1'])"
   ]
  },
  {
   "cell_type": "markdown",
   "metadata": {},
   "source": [
    "**Ejemplo:** Lea la tabla syle_data.csv, la cual contiene los códigos del estilo de cerveza con sus nombres. Péguela a la tabla de cervezas y seleccione sólo las con nombre 'Saison'. Indique cuantas hay."
   ]
  },
  {
   "cell_type": "code",
   "execution_count": null,
   "metadata": {},
   "outputs": [],
   "source": [
    "estilos = pd.read_table('style_data.csv',\n",
    "                       sep = ',',\n",
    "                       header = 0,\n",
    "                       decimal = '.',\n",
    "                       encoding = \"latin1\")"
   ]
  },
  {
   "cell_type": "code",
   "execution_count": null,
   "metadata": {},
   "outputs": [],
   "source": [
    "cervezas_Saison = (cerveza.\n",
    "                  merge(estilos, how = 'left', left_on = ['StyleID'], right_on = ['StyleID']).\n",
    "                  query('Style in \"Saison\"'))\n",
    "cervezas_Saison.shape"
   ]
  },
  {
   "cell_type": "markdown",
   "metadata": {},
   "source": [
    "#### Agrupar\n",
    "\n",
    "Pandas soporta operaciones de agrupamiento de datos, usando la sentencia groupby, esta agrupa por una llave indicada, y reliza la operación proporcionada. La estructura más básica es la siguientes:\n",
    "\n",
    "``` groupby(['key'])['selection'].sum()```\n",
    "\n",
    "Aquí se agrupa por la llave, y se aplica la operación indicada al final a selection. Por defecto la llave agrupada queda como índice del data frame. Para romper el ínidice y operarla como columna, se usa reset_index"
   ]
  },
  {
   "cell_type": "markdown",
   "metadata": {},
   "source": [
    "**Ejemplo:** Obtenga el promedio de amargor IBU de las cervezas por estilo. Luego indique el estilo más amargo."
   ]
  },
  {
   "cell_type": "code",
   "execution_count": null,
   "metadata": {},
   "outputs": [],
   "source": [
    "(cerveza.groupby(['StyleID'])['IBU'].\n",
    "    mean().\n",
    "    reset_index().\n",
    "    merge(estilos, how = 'left', left_on = ['StyleID'], right_on = ['StyleID']).\n",
    "    sort_values(['IBU']))"
   ]
  }
 ],
 "metadata": {
  "kernelspec": {
   "display_name": "Python 3",
   "language": "python",
   "name": "python3"
  },
  "language_info": {
   "codemirror_mode": {
    "name": "ipython",
    "version": 3
   },
   "file_extension": ".py",
   "mimetype": "text/x-python",
   "name": "python",
   "nbconvert_exporter": "python",
   "pygments_lexer": "ipython3",
   "version": "3.7.1"
  }
 },
 "nbformat": 4,
 "nbformat_minor": 2
}
