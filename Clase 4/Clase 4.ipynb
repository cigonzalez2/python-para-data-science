{
 "cells": [
  {
   "cell_type": "markdown",
   "metadata": {},
   "source": [
    "# Clase 4: Visualización de la Información"
   ]
  },
  {
   "cell_type": "markdown",
   "metadata": {},
   "source": [
    "### Librería seaborn\n",
    "Seaborn es una de las librerías populares para obtener fácilmente gráficos más elegantes y variados que los básicos de matplotlib, sin hacer excesos de configuraciones en ellos. En efecto, seaborn es una interface de alto nivel de matplotlib especializada en gráficos estadísticos."
   ]
  },
  {
   "cell_type": "code",
   "execution_count": 100,
   "metadata": {},
   "outputs": [],
   "source": [
    "import numpy as np\n",
    "import pandas as pd\n",
    "import seaborn as sns\n",
    "import matplotlib.pyplot as plt"
   ]
  },
  {
   "cell_type": "markdown",
   "metadata": {},
   "source": [
    "La data a utilizar es happiness.csv, la cual contiene un ranking de felicidad de los paises y las dimensiones evaluadas para obtener ese ranking."
   ]
  },
  {
   "cell_type": "code",
   "execution_count": 101,
   "metadata": {},
   "outputs": [
    {
     "data": {
      "text/html": [
       "<div>\n",
       "<style scoped>\n",
       "    .dataframe tbody tr th:only-of-type {\n",
       "        vertical-align: middle;\n",
       "    }\n",
       "\n",
       "    .dataframe tbody tr th {\n",
       "        vertical-align: top;\n",
       "    }\n",
       "\n",
       "    .dataframe thead th {\n",
       "        text-align: right;\n",
       "    }\n",
       "</style>\n",
       "<table border=\"1\" class=\"dataframe\">\n",
       "  <thead>\n",
       "    <tr style=\"text-align: right;\">\n",
       "      <th></th>\n",
       "      <th>Country</th>\n",
       "      <th>Happiness.Rank</th>\n",
       "      <th>Happiness.Score</th>\n",
       "      <th>Whisker.high</th>\n",
       "      <th>Whisker.low</th>\n",
       "      <th>Economy..GDP.per.Capita.</th>\n",
       "      <th>Family</th>\n",
       "      <th>Health..Life.Expectancy.</th>\n",
       "      <th>Freedom</th>\n",
       "      <th>Generosity</th>\n",
       "      <th>Trust..Government.Corruption.</th>\n",
       "      <th>Dystopia.Residual</th>\n",
       "      <th>Region</th>\n",
       "    </tr>\n",
       "  </thead>\n",
       "  <tbody>\n",
       "    <tr>\n",
       "      <th>0</th>\n",
       "      <td>Norway</td>\n",
       "      <td>1</td>\n",
       "      <td>7.537</td>\n",
       "      <td>7.594445</td>\n",
       "      <td>7.479556</td>\n",
       "      <td>1.616463</td>\n",
       "      <td>1.533524</td>\n",
       "      <td>0.796667</td>\n",
       "      <td>0.635423</td>\n",
       "      <td>0.362012</td>\n",
       "      <td>0.315964</td>\n",
       "      <td>2.277027</td>\n",
       "      <td>Western Europe</td>\n",
       "    </tr>\n",
       "    <tr>\n",
       "      <th>1</th>\n",
       "      <td>Denmark</td>\n",
       "      <td>2</td>\n",
       "      <td>7.522</td>\n",
       "      <td>7.581728</td>\n",
       "      <td>7.462272</td>\n",
       "      <td>1.482383</td>\n",
       "      <td>1.551122</td>\n",
       "      <td>0.792566</td>\n",
       "      <td>0.626007</td>\n",
       "      <td>0.355280</td>\n",
       "      <td>0.400770</td>\n",
       "      <td>2.313707</td>\n",
       "      <td>Western Europe</td>\n",
       "    </tr>\n",
       "    <tr>\n",
       "      <th>2</th>\n",
       "      <td>Iceland</td>\n",
       "      <td>3</td>\n",
       "      <td>7.504</td>\n",
       "      <td>7.622030</td>\n",
       "      <td>7.385970</td>\n",
       "      <td>1.480633</td>\n",
       "      <td>1.610574</td>\n",
       "      <td>0.833552</td>\n",
       "      <td>0.627163</td>\n",
       "      <td>0.475540</td>\n",
       "      <td>0.153527</td>\n",
       "      <td>2.322715</td>\n",
       "      <td>Western Europe</td>\n",
       "    </tr>\n",
       "    <tr>\n",
       "      <th>3</th>\n",
       "      <td>Switzerland</td>\n",
       "      <td>4</td>\n",
       "      <td>7.494</td>\n",
       "      <td>7.561772</td>\n",
       "      <td>7.426227</td>\n",
       "      <td>1.564980</td>\n",
       "      <td>1.516912</td>\n",
       "      <td>0.858131</td>\n",
       "      <td>0.620071</td>\n",
       "      <td>0.290549</td>\n",
       "      <td>0.367007</td>\n",
       "      <td>2.276716</td>\n",
       "      <td>Western Europe</td>\n",
       "    </tr>\n",
       "    <tr>\n",
       "      <th>4</th>\n",
       "      <td>Finland</td>\n",
       "      <td>5</td>\n",
       "      <td>7.469</td>\n",
       "      <td>7.527542</td>\n",
       "      <td>7.410458</td>\n",
       "      <td>1.443572</td>\n",
       "      <td>1.540247</td>\n",
       "      <td>0.809158</td>\n",
       "      <td>0.617951</td>\n",
       "      <td>0.245483</td>\n",
       "      <td>0.382612</td>\n",
       "      <td>2.430182</td>\n",
       "      <td>Western Europe</td>\n",
       "    </tr>\n",
       "  </tbody>\n",
       "</table>\n",
       "</div>"
      ],
      "text/plain": [
       "       Country  Happiness.Rank  Happiness.Score  Whisker.high  Whisker.low  \\\n",
       "0       Norway               1            7.537      7.594445     7.479556   \n",
       "1      Denmark               2            7.522      7.581728     7.462272   \n",
       "2      Iceland               3            7.504      7.622030     7.385970   \n",
       "3  Switzerland               4            7.494      7.561772     7.426227   \n",
       "4      Finland               5            7.469      7.527542     7.410458   \n",
       "\n",
       "   Economy..GDP.per.Capita.    Family  Health..Life.Expectancy.   Freedom  \\\n",
       "0                  1.616463  1.533524                  0.796667  0.635423   \n",
       "1                  1.482383  1.551122                  0.792566  0.626007   \n",
       "2                  1.480633  1.610574                  0.833552  0.627163   \n",
       "3                  1.564980  1.516912                  0.858131  0.620071   \n",
       "4                  1.443572  1.540247                  0.809158  0.617951   \n",
       "\n",
       "   Generosity  Trust..Government.Corruption.  Dystopia.Residual  \\\n",
       "0    0.362012                       0.315964           2.277027   \n",
       "1    0.355280                       0.400770           2.313707   \n",
       "2    0.475540                       0.153527           2.322715   \n",
       "3    0.290549                       0.367007           2.276716   \n",
       "4    0.245483                       0.382612           2.430182   \n",
       "\n",
       "           Region  \n",
       "0  Western Europe  \n",
       "1  Western Europe  \n",
       "2  Western Europe  \n",
       "3  Western Europe  \n",
       "4  Western Europe  "
      ]
     },
     "execution_count": 101,
     "metadata": {},
     "output_type": "execute_result"
    }
   ],
   "source": [
    "region = pd.read_csv('Data/region.csv')\n",
    "happiness = pd.read_csv('Data/happiness.csv')\n",
    "happiness = (happiness.\n",
    "                merge(region, on = 'Country'))\n",
    "happiness.head(5)"
   ]
  },
  {
   "cell_type": "markdown",
   "metadata": {},
   "source": [
    "Veamos los mismo gráficos vistos en la clase pasada."
   ]
  },
  {
   "cell_type": "code",
   "execution_count": 102,
   "metadata": {},
   "outputs": [
    {
     "data": {
      "text/plain": [
       "<matplotlib.axes._subplots.AxesSubplot at 0x16b32348ba8>"
      ]
     },
     "execution_count": 102,
     "metadata": {},
     "output_type": "execute_result"
    },
    {
     "data": {
      "image/png": "[encoded data removed]",
      "text/plain": [
       "<Figure size 432x288 with 1 Axes>"
      ]
     },
     "metadata": {},
     "output_type": "display_data"
    }
   ],
   "source": [
    "sns.distplot(happiness['Happiness.Score'])"
   ]
  },
  {
   "cell_type": "markdown",
   "metadata": {},
   "source": [
    "En general displot permite graficar distribuciones, aquí los argumentos más relevantes\n",
    "\n",
    "``sns.displot(a, bins=None, hist=True, kde=True, rug=False, color=None, vertical=False, norm_hist=False)``\n",
    "\n",
    "* **a**: Es el arreglo de datos a graficar\n",
    "* **bins**: Número de particiones para el histograma\n",
    "* **hist**: Booleano para indicar si se incorpora el histograma en el gráfico\n",
    "* **kde**: Booleano para indicar si se incorpora la curva de suavizamento de distribución en el gráfico\n",
    "* **rug**: Booleano para indicar si se incorpora el gráfico de alfombra\n",
    "* **color**: Color\n",
    "* **vertical**: Indicador si el gráfico debiera ser vertica\n",
    "* **norm_hist**: Normalización del KDE plot como densidad de probabilidades\n"
   ]
  },
  {
   "cell_type": "code",
   "execution_count": 99,
   "metadata": {},
   "outputs": [
    {
     "data": {
      "text/plain": [
       "<matplotlib.axes._subplots.AxesSubplot at 0x16b325daa58>"
      ]
     },
     "execution_count": 99,
     "metadata": {},
     "output_type": "execute_result"
    },
    {
     "data": {
      "image/png": "[encoded data removed]",
      "text/plain": [
       "<Figure size 432x288 with 1 Axes>"
      ]
     },
     "metadata": {},
     "output_type": "display_data"
    }
   ],
   "source": [
    "sns.set(style = \"darkgrid\")\n",
    "sns.distplot(a = happiness['Happiness.Score'],\n",
    "            bins = 20,\n",
    "            hist = True,\n",
    "            kde = False,\n",
    "            rug = True,\n",
    "            color = \"#BB0000\",\n",
    "            vertical = False,\n",
    "            norm_hist = True)"
   ]
  },
  {
   "cell_type": "markdown",
   "metadata": {},
   "source": [
    "La clase anterior se comentó que existe un hermano menor (más reciente) del histograma, el cual es el gráfico de densidad, el distplot es el nombre genérico en seaborn para mostrar distribuciones pero para ir más especifico al KDE (Kernel Density Estimation) plot, existe una función especifica para eso. \n",
    "\n",
    "``sns.kdeplot(data, data2=None, shade=False, vertical=False, kernel='gau', legend=True, cumulative=False, color)``\n",
    "* **data:** Datos\n",
    "* **data2:** Segunda data en caso de querer ver una distribución bivariada\n",
    "* **shade:** Indicador de relleno de la curva\n",
    "* **vertical:** Al igual que en el histograma\n",
    "* **kernel:** El kernel a usarse para la estimación kernel\n",
    "* **legend:** Legenda\n",
    "* **cumulative:** Indicador de distribución acumulada\n",
    "* **color:** color\n",
    "\n"
   ]
  },
  {
   "cell_type": "code",
   "execution_count": null,
   "metadata": {},
   "outputs": [],
   "source": [
    "sns.kdeplot(data = happiness['Happiness.Score'],\n",
    "           shade = True,\n",
    "           vertical = False,\n",
    "           kernel = 'gau',\n",
    "           cumulative = False,\n",
    "           color = \"#BB0000\")"
   ]
  },
  {
   "cell_type": "markdown",
   "metadata": {},
   "source": [
    "Notaron la segunda data?"
   ]
  },
  {
   "cell_type": "code",
   "execution_count": null,
   "metadata": {},
   "outputs": [],
   "source": [
    "sns.kdeplot(data = happiness['Happiness.Score'],\n",
    "            data2 = happiness['Health..Life.Expectancy.'],\n",
    "           shade = True,\n",
    "           vertical = False,\n",
    "           kernel = 'gau',\n",
    "           cumulative = False,\n",
    "           color = \"#BB0000\")"
   ]
  },
  {
   "cell_type": "markdown",
   "metadata": {},
   "source": [
    "Sin embargo para la visualización de data bivariada es más informativo el jointplot\n",
    "\n",
    "``sns.jointplot(x, y, kind='scatter', color=None)``\n",
    "\n",
    "* **x** = Data del eje x\n",
    "* **y** = Data del eje y\n",
    "* **kind** = Tipo de gráfico (scatter, hex, reg, resid, kde)\n",
    "* **color** = color"
   ]
  },
  {
   "cell_type": "code",
   "execution_count": null,
   "metadata": {},
   "outputs": [],
   "source": [
    "sns.jointplot(happiness['Happiness.Score'],\n",
    "            happiness['Health..Life.Expectancy.'],\n",
    "             kind = 'kde')"
   ]
  },
  {
   "cell_type": "markdown",
   "metadata": {},
   "source": [
    "En caso de querer ver todas las relaciones bivariadas, se puede utilizar el pairplot"
   ]
  },
  {
   "cell_type": "code",
   "execution_count": null,
   "metadata": {},
   "outputs": [],
   "source": [
    "sns.pairplot(happiness)"
   ]
  },
  {
   "cell_type": "markdown",
   "metadata": {},
   "source": [
    "La clase pasada vimos los boxplots, en este caso es algo más intuitivo de hacerlos, basta con difinir la data como ejes, siendo uno de ellos una variable categorica.\n",
    "\n",
    "``sns.boxplot(x=None, y=None, hue=None, data=None, order=None, hue_order=None, orient=None, color=None, palette=None, saturation=0.75, width=0.8, dodge=True, fliersize=5, linewidth=None, whis=1.5)``\n",
    "\n",
    "* **x** = Data del eje x\n",
    "* **y** = Data del eje y\n",
    "* **hue** = Se puede incorporar una tercera variables para mostrarlos como cajones agrupados\n",
    "* **Color** = Color\n",
    "* **saturation:** = Saturacion de color"
   ]
  },
  {
   "cell_type": "code",
   "execution_count": null,
   "metadata": {},
   "outputs": [],
   "source": [
    "plt.figure(figsize = (14,4))\n",
    "sns.boxplot(x = 'Region', \n",
    "           y = 'Happiness.Score',\n",
    "           data = happiness.query('Region != \"Australia and New Zealand\"'))\n",
    "plt.xticks(rotation=90)\n",
    "plt.show()"
   ]
  },
  {
   "cell_type": "markdown",
   "metadata": {},
   "source": [
    "Notaron que seaborn está completamente integrado con matplotlib?"
   ]
  },
  {
   "cell_type": "code",
   "execution_count": null,
   "metadata": {},
   "outputs": [],
   "source": [
    "plt.figure(figsize = (14,8))\n",
    "plt.subplot(211)\n",
    "sns.boxplot(x = 'Region', \n",
    "           y = 'Happiness.Score',\n",
    "           data = happiness.query('Region != \"Australia and New Zealand\"'))\n",
    "plt.xticks(rotation=10)\n",
    "plt.subplot(212)\n",
    "sns.violinplot(x = 'Region', \n",
    "           y = 'Happiness.Score',\n",
    "               data = happiness.query('Region != \"Australia and New Zealand\"'),\n",
    "              width = 1)\n",
    "plt.xticks(rotation=10)\n",
    "plt.show()"
   ]
  },
  {
   "cell_type": "markdown",
   "metadata": {},
   "source": [
    "### Librería Plotly\n",
    "\n",
    "Plotly es una librería general, disponible para Python, R, Ruby, nodeJS, entre otros. Su principal función es la generación de gráficos interactivos diseñados para ser integrados en aplicaciones web o móvil de reportería. Su uso y diseño exige más líneas de código por lo cual se sugiere el uso para los casos mencionados"
   ]
  },
  {
   "cell_type": "code",
   "execution_count": null,
   "metadata": {},
   "outputs": [],
   "source": [
    "from plotly.offline import download_plotlyjs, plot, iplot\n",
    "from plotly.graph_objs import *"
   ]
  },
  {
   "cell_type": "markdown",
   "metadata": {},
   "source": [
    "### Gráficos univariados\n",
    "\n",
    "Todos los gráficos de plotly siguen la misma mecánica, se deben definir las opciones del gráfico y luego se llaman con el comando plot"
   ]
  },
  {
   "cell_type": "code",
   "execution_count": null,
   "metadata": {},
   "outputs": [],
   "source": [
    "h = Histogram(x = happiness['Happiness.Score'])\n",
    "plot([h])"
   ]
  },
  {
   "cell_type": "markdown",
   "metadata": {},
   "source": [
    "Como se puede ver ese es el gráfico más simple posible. Vamos a ir personalizado el gráfico de a poco. Primero hay que tener en claro que el comando plot sólo se encarga de llamar el HTML del gráfico. Antes de ponernos a cambiar configuraciones con código, vamos a ver los elementos del gráfico.\n",
    "\n",
    "1. **Datos:** Se refiere a la data de origen que utiliza la visualización\n",
    "2. **Tipo/forma/geometría:** Cómo queremos que se vea el gráfico ¿una línea? ¿barras?\n",
    "3. **Marker:** El elemento básico del gráfico, en un gráfico de puntos pueden ser el color y la forma de los puntos, en un histograma, el color y separación de las barras.\n",
    "4. **Layout:** Como se dispone el gráfico para una visualización.\n",
    "5. **Labels:** Indicadores de qué está midiendo el gráfico, ya sea en los ejes, serie o incluso el título.\n",
    "6. **Ejes:** Los ejes, escala, disposición, entre otros.\n",
    "\n",
    "Los datos están ya controlados, la geometría se controla de acuerdo a la palabra clave del gráfico (Histogram, Boxplot, etc.)\n",
    "Vemos que podemos hacer con el \"Marker\", este usualmente es sub-atributo de la geometría."
   ]
  },
  {
   "cell_type": "code",
   "execution_count": null,
   "metadata": {},
   "outputs": [],
   "source": [
    "geom = Histogram(x = happiness['Happiness.Score'],\n",
    "               marker = {'color': '#9999FF',\n",
    "                         'line': {'color': '#FFFFFF',\n",
    "                                  'width': 1},\n",
    "                         'opacity': 0.6})\n",
    "plot([geom])"
   ]
  },
  {
   "cell_type": "markdown",
   "metadata": {},
   "source": [
    "Los parámetros del gráfico se van configurando por separados, con diccionarios en donde el nombre de la llave es la opción y el o los valores son el atributos que adquieren. Como se pudo ver en el ejemplo, el \"line\" es un atributo del gráfico que es otro diccionario, pues tiene sus opciones propias. \n",
    "\n",
    "En principio de ven complejas las opciones, pero a la larga nos termina ayudando en generar una correcta visualización.\n",
    "\n",
    "Ya vimos las opciones más importantes del Marker (para el histograma), Veamos algo del layout."
   ]
  },
  {
   "cell_type": "code",
   "execution_count": null,
   "metadata": {},
   "outputs": [],
   "source": [
    "geom = Histogram(x = happiness['Happiness.Score'],\n",
    "               marker = {'color': '#9999FF',\n",
    "                         'line': {'color': '#FFFFFF',\n",
    "                                  'width': 1},\n",
    "                         'opacity': 0.6})\n",
    "\n",
    "lay = Layout(\n",
    "    title = 'Puntaje de Felicidad',\n",
    "    xaxis = {\n",
    "        'showgrid': False,\n",
    "        'showticklabels': True,\n",
    "        'title': 'Puntaje'\n",
    "    }, \n",
    "    yaxis = {\n",
    "        'showgrid': True,\n",
    "        'showticklabels': True,\n",
    "        'title': 'Frecuencia'\n",
    "    }     \n",
    "    )\n",
    "fig = Figure(data = [geom], layout = lay)\n",
    "plot(fig)\n"
   ]
  },
  {
   "cell_type": "markdown",
   "metadata": {},
   "source": [
    "Si son observadores, el geom va en un arreglo ¿por qué? esto es pues se pueden incorporar más de un gráfico. Comparemos los histogramas de Europa del este y Europa occidental"
   ]
  },
  {
   "cell_type": "code",
   "execution_count": null,
   "metadata": {},
   "outputs": [],
   "source": [
    "geom_we = Histogram(x = happiness.query('Region == \"Western Europe\"')['Happiness.Score'],\n",
    "               marker = {'color': '#5555FF',\n",
    "                         'line': {'color': '#FFFFFF',\n",
    "                                  'width': 1},\n",
    "                         'opacity': 0.6},\n",
    "                   name = 'Europa Occidental')\n",
    "\n",
    "geom_ee = Histogram(x = happiness.query('Region == \"Central and Eastern Europe\"')['Happiness.Score'],\n",
    "               marker = {'color': '#55FF55',\n",
    "                         'line': {'color': '#FFFFFF',\n",
    "                                  'width': 1},\n",
    "                         'opacity': 0.6},\n",
    "                   name = 'Europa del Este')\n",
    "\n",
    "lay = Layout(\n",
    "    title = 'Felicidad Europa Occidental vs Europa del Este',\n",
    "    barmode = 'overlay'\n",
    ")\n",
    "\n",
    "fig = Figure(data = [geom_we, geom_ee], layout = lay)\n",
    "\n",
    "plot(fig)\n"
   ]
  },
  {
   "cell_type": "markdown",
   "metadata": {},
   "source": [
    "**Ejercicio:**\n",
    "1. Haga un histograma del puntaje del item \"Family\".\n",
    "2. Al gráfico anterior cambie el color de las barras a Naranjo\n",
    "3. Cambie el color de los bordes a negro.\n",
    "4. Ponga títulos a los ejes y al gráfico.\n",
    "\n"
   ]
  },
  {
   "cell_type": "markdown",
   "metadata": {},
   "source": [
    "Una de las particularidades de plotly, es que presenta \"hoverlabels\", es decir marcas que aparecen al posar el puntero sobre el gráfico. Estas también son configurables."
   ]
  },
  {
   "cell_type": "code",
   "execution_count": null,
   "metadata": {},
   "outputs": [],
   "source": [
    "happiness.columns"
   ]
  },
  {
   "cell_type": "code",
   "execution_count": null,
   "metadata": {},
   "outputs": [],
   "source": [
    "geom = Histogram(x = happiness['Family'],\n",
    "               marker = {'color': '#FF9999',\n",
    "                         'line': {'color': '#000000',\n",
    "                                  'width': 1},\n",
    "                         'opacity': 0.6},\n",
    "                hoverlabel = {'font': {'family': 'Arial',\n",
    "                                       'size': 30,\n",
    "                                       'color': '#009000'},\n",
    "                              'bgcolor': '#FFFFFF'\n",
    "                             })\n",
    "\n",
    "lay = Layout(\n",
    "    title = 'Puntaje de Felicidad por Familia',\n",
    "    xaxis = {\n",
    "        'showgrid': False,\n",
    "        'showticklabels': False,\n",
    "        'title': 'Puntaje'\n",
    "    }, \n",
    "    yaxis = {\n",
    "        'showgrid': False,\n",
    "        'showticklabels': False,\n",
    "        'title': 'Frecuencia'\n",
    "    }     \n",
    "    )\n",
    "fig = Figure(data = [geom], layout = lay)\n",
    "plot(fig)"
   ]
  },
  {
   "cell_type": "markdown",
   "metadata": {},
   "source": [
    "Es importante saber resaltar lo que queremos mostrar. Como regla general, usar colores fuertes hacia la idea que queremos hacer énfasis, mientras que colores tenues para la información que debe mostrarse pero no queremos desviar la atención a ella.\n",
    "\n",
    "En plotly se puede marcar la información y se puede configurar de tal forma que los colores tengan los atributos especificados."
   ]
  },
  {
   "cell_type": "code",
   "execution_count": null,
   "metadata": {},
   "outputs": [],
   "source": [
    "geom = Histogram(x = happiness['Happiness.Score'],\n",
    "               marker = {'color': '#AAAAAA',\n",
    "                         'line': {'color': '#FFFFFF',\n",
    "                                  'width': 1},\n",
    "                         'opacity': 0.6},\n",
    "                selected = {'marker': {'color': '#FF0000'}})\n",
    "\n",
    "\n",
    "fig = Figure(data = [geom])\n",
    "plot(fig)"
   ]
  },
  {
   "cell_type": "markdown",
   "metadata": {},
   "source": [
    "Dado que ya sabemos las mecánicas de plotly, podemos ver otros tipos de gráficos. Veremos los mismo datos con otras geometrias\n",
    "\n",
    "#### Box-plot"
   ]
  },
  {
   "cell_type": "code",
   "execution_count": null,
   "metadata": {},
   "outputs": [],
   "source": [
    "geom = Box(x = happiness['Happiness.Score'],\n",
    "               marker = {'color': '#9999FF',\n",
    "                         'opacity': 0.6})\n",
    "plot([geom])"
   ]
  },
  {
   "cell_type": "markdown",
   "metadata": {},
   "source": [
    "No se cambió nada con respecto a histograma, sólo la forma en que se mostrará la misma información. Si queremos mostrar más de un gráfico siempre hay que hacer más trazas. En el caso de los box-plot en particular, es habitual que estos estén separados. Esto se puede obtener usando compresión de listas"
   ]
  },
  {
   "cell_type": "code",
   "execution_count": null,
   "metadata": {},
   "outputs": [],
   "source": [
    "#import colorlover as cl\n",
    "lista_regiones = happiness.Region.unique()\n",
    "\n",
    "geom = [Box(y = happiness[happiness['Region'] == i]['Happiness.Score'],\n",
    "            marker = {\n",
    "                'color': '#99BB99'},\n",
    "            name = i\n",
    "           ) for i in lista_regiones]\n",
    "\n",
    "plot(geom)"
   ]
  },
  {
   "cell_type": "code",
   "execution_count": null,
   "metadata": {},
   "outputs": [],
   "source": []
  },
  {
   "cell_type": "markdown",
   "metadata": {},
   "source": [
    "### Gráficos de variables categóricas\n",
    "\n",
    "Ejemplos de este tipo de gráficos son los de barras o los de torta.\n",
    "Para un gráfico de variables categóricas, basta indicar dos argumentos. Los valores y los labels (en estricto rigor con los valores basta)"
   ]
  },
  {
   "cell_type": "code",
   "execution_count": null,
   "metadata": {},
   "outputs": [],
   "source": [
    "values = [4500,2500,1053,500]\n",
    "\n",
    "trace = Pie(values=values)\n",
    "plot([trace])"
   ]
  },
  {
   "cell_type": "markdown",
   "metadata": {},
   "source": [
    "Vamos a generar un gráfico de torta de la cantidad de paises por región. "
   ]
  },
  {
   "cell_type": "code",
   "execution_count": null,
   "metadata": {},
   "outputs": [],
   "source": [
    "n_paises = happiness.groupby(['Region'])['Region'].count()\n",
    "trace = Pie(values = n_paises.values)\n",
    "plot([trace])"
   ]
  },
  {
   "cell_type": "code",
   "execution_count": null,
   "metadata": {},
   "outputs": [],
   "source": [
    "n_paises = happiness.groupby(['Region'])['Region'].count()\n",
    "n_paises.index"
   ]
  },
  {
   "cell_type": "markdown",
   "metadata": {},
   "source": [
    "Al gráfico anterior añadamos los labels."
   ]
  },
  {
   "cell_type": "code",
   "execution_count": null,
   "metadata": {},
   "outputs": [],
   "source": [
    "n_paises = happiness.groupby(['Region'])['Region'].count()\n",
    "trace = Pie(values = n_paises.values,\n",
    "           labels = n_paises.index)\n",
    "plot([trace])"
   ]
  },
  {
   "cell_type": "markdown",
   "metadata": {},
   "source": [
    "¿Qué tal si les cambiamos los colores? Por ejemplo en una escala de rojo a blanco"
   ]
  },
  {
   "cell_type": "code",
   "execution_count": null,
   "metadata": {},
   "outputs": [],
   "source": [
    "n_paises = happiness.groupby(['Region'])['Region'].count()\n",
    "n = len(n_paises)\n",
    "colores = ['rgb(' + str(255 - i * 255 / n) + ', 150, 150)' for i in range(n)]\n",
    "\n",
    "trace = Pie(values = n_paises.values,\n",
    "           labels = n_paises.index,\n",
    "           marker = {'colors': colores})\n",
    "plot([trace])"
   ]
  },
  {
   "cell_type": "code",
   "execution_count": null,
   "metadata": {},
   "outputs": [],
   "source": [
    "n_paises = happiness.groupby(['Region'])['Region'].count()\n",
    "n = len(n_paises)\n",
    "colores = ['rgb(' + str(255 - i * 255 / n) + ', 150, 150)' for i in range(n)]"
   ]
  },
  {
   "cell_type": "code",
   "execution_count": null,
   "metadata": {},
   "outputs": [],
   "source": []
  },
  {
   "cell_type": "markdown",
   "metadata": {},
   "source": [
    "Se ve feo, hay que tener en cuenta que los colores van a ir alineados con el nombre, por lo cual es bueno ordenarlos según la disposición que queremos que aparezcan."
   ]
  },
  {
   "cell_type": "markdown",
   "metadata": {},
   "source": [
    "Para el de barras, si ya se habrán imaginado, basta cambiar la geometría pues es la misma naturaleza de datos."
   ]
  },
  {
   "cell_type": "code",
   "execution_count": null,
   "metadata": {},
   "outputs": [],
   "source": [
    "n_paises = happiness.groupby(['Region'])['Region'].count()\n",
    "trace = Bar(y = n_paises.values,\n",
    "           x = n_paises.index)\n",
    "plot([trace])"
   ]
  },
  {
   "cell_type": "markdown",
   "metadata": {},
   "source": [
    "Para agrupar o apilar barras, las cuales son las otras modalidades habituales para presentar gráficos de barras, se requiere generar gráficos de cada grupo y luego especificar su disposición en el layout. Vamos a ver un ejemplo con los puntajes medios de libertad (Freedrom), Salud (Health..Life.Expectancy) y economía (Economy..GDP.per.Capita)"
   ]
  },
  {
   "cell_type": "code",
   "execution_count": null,
   "metadata": {},
   "outputs": [],
   "source": [
    "fre = happiness.groupby(['Region'])['Freedom'].mean()\n",
    "sal = happiness.groupby(['Region'])['Health..Life.Expectancy.'].mean()\n",
    "eco = happiness.groupby(['Region'])['Economy..GDP.per.Capita.'].mean()\n",
    "\n",
    "tr1 = Bar(y = fre.values,\n",
    "           x = fre.index,\n",
    "         name = 'Libertad')\n",
    "tr2 = Bar(y = sal.values,\n",
    "           x = sal.index,\n",
    "         name = 'Salud')\n",
    "tr3 = Bar(y = eco.values,\n",
    "           x = eco.index,\n",
    "         name = 'Economía')\n",
    "\n",
    "lay = Layout(barmode = 'stack')\n",
    "# La otra opción es stack\n",
    "fig = Figure(data = [tr1, tr2, tr3], layout = lay)\n",
    "plot(fig)"
   ]
  },
  {
   "cell_type": "markdown",
   "metadata": {},
   "source": [
    "**Ejercicio:** \n",
    "1. Cree un gráfico de barras de tal que aparezca los paises del sud-este asiático según puntaje en el item salud (Health..Life.Expectancy.). El gráfico debe ser horizontal\n",
    "2. Al gráfico anterior ponga los nombres de los paises en el eje correspondiente.\n",
    "3. A la visualización anterior añada la información del item familia (Family), la visualización se debe mostrar como gráfico apilado. "
   ]
  },
  {
   "cell_type": "markdown",
   "metadata": {},
   "source": [
    "### Gráficos Bivariados"
   ]
  },
  {
   "cell_type": "markdown",
   "metadata": {},
   "source": [
    "Cuando se habla de gráficos bivariados, normalmente nos referimos al scatterplot. Vamos a ver su funcionamiento "
   ]
  },
  {
   "cell_type": "code",
   "execution_count": null,
   "metadata": {},
   "outputs": [],
   "source": [
    "tr = Scatter(\n",
    "    x = happiness['Health..Life.Expectancy.'],\n",
    "    y = happiness['Economy..GDP.per.Capita.'],\n",
    "    mode = 'markers'\n",
    ")\n",
    "\n",
    "plot([tr])"
   ]
  },
  {
   "cell_type": "markdown",
   "metadata": {},
   "source": [
    "Típicamente un usuario nos puede preguntar \"¿Quién es el punto que está en tal parte?\" para esto es bueno aplicar labels en los puntos."
   ]
  },
  {
   "cell_type": "code",
   "execution_count": null,
   "metadata": {},
   "outputs": [],
   "source": [
    "tr = Scatter(\n",
    "    x = happiness['Health..Life.Expectancy.'],\n",
    "    y = happiness['Economy..GDP.per.Capita.'],\n",
    "    mode = 'markers',\n",
    "    text = happiness['Country']\n",
    ")\n",
    "\n",
    "lay = Layout(\n",
    "    title = 'Salud vs Economía',\n",
    "    xaxis = {\n",
    "        'title': 'Salud'\n",
    "    },\n",
    "    yaxis = {\n",
    "        'title': 'Economía'\n",
    "    }    \n",
    ")\n",
    "fig = Figure(data = [tr], layout = lay)\n",
    "plot(fig)"
   ]
  },
  {
   "cell_type": "markdown",
   "metadata": {},
   "source": [
    "**Ejercicio:** \n",
    "1. Cree un gráfico de dispersión del puntaje total vs el puntaje de economía.\n",
    "2. Haga que en cada punto se marque en el label del punto la región a la que pertenece el punto.\n",
    "3. Al gráfico anterior modificarlo de tal forma que los paises de América Latina y el Caribe sean marcados con otro color."
   ]
  },
  {
   "cell_type": "markdown",
   "metadata": {},
   "source": [
    "Cuando los datos sus muchos ocurre el siguiente problema."
   ]
  },
  {
   "cell_type": "code",
   "execution_count": null,
   "metadata": {},
   "outputs": [],
   "source": [
    "happiness.columns"
   ]
  },
  {
   "cell_type": "code",
   "execution_count": null,
   "metadata": {},
   "outputs": [],
   "source": [
    "happiness.groupby(['Region'])['Country'].count().reset_index()"
   ]
  },
  {
   "cell_type": "code",
   "execution_count": null,
   "metadata": {},
   "outputs": [],
   "source": [
    "tr = Scatter(\n",
    "    x = happiness['Happiness.Score'],\n",
    "    y = happiness['Economy..GDP.per.Capita.'],\n",
    "    mode = 'markers',\n",
    "    text = happiness['Region']\n",
    ")\n",
    "\n",
    "lay = Layout(\n",
    "    title = 'Salud vs Economía',\n",
    "    xaxis = {\n",
    "        'title': 'Salud'\n",
    "    },\n",
    "    yaxis = {\n",
    "        'title': 'Economía'\n",
    "    }    \n",
    ")\n",
    "fig = Figure(data = [tr], layout = lay)\n",
    "plot(fig)"
   ]
  },
  {
   "cell_type": "code",
   "execution_count": null,
   "metadata": {},
   "outputs": [],
   "source": [
    "N = 6000\n",
    "random_x = np.random.normal(size = N, loc = 1, scale = 4)\n",
    "random_y = np.random.normal(size = N, loc = 2, scale = 5)\n",
    "\n",
    "gr = Scatter(\n",
    "    x = random_x,\n",
    "    y = random_y,\n",
    "    mode = 'markers'\n",
    ")\n",
    "fig = Figure(data = [gr])\n",
    "plot(fig)"
   ]
  },
  {
   "cell_type": "markdown",
   "metadata": {},
   "source": [
    "Exacto!, no se ve absolutamente nada!. Existen técnicas para tratar este problema. Veremos una de ellas.\n",
    "\n",
    "La idea es controlar la opcacidad de los markers, de esta forma se puede tener una idea de las zonas con mayor densidad de información."
   ]
  },
  {
   "cell_type": "code",
   "execution_count": null,
   "metadata": {},
   "outputs": [],
   "source": [
    "gr = Scatter(\n",
    "    x = random_x,\n",
    "    y = random_y,\n",
    "    mode = 'markers',\n",
    "    marker = {'opacity': 0.2}\n",
    ")\n",
    "fig = Figure(data = [gr])\n",
    "plot(fig)"
   ]
  },
  {
   "cell_type": "markdown",
   "metadata": {},
   "source": [
    "De cualquier forma una cantidad suficiente de datos hace que esa técnica siga siendo poco viable, otra opcción es un gráfico de densidad."
   ]
  },
  {
   "cell_type": "code",
   "execution_count": null,
   "metadata": {},
   "outputs": [],
   "source": [
    "tr1 = Scatter(\n",
    "    x = random_x,\n",
    "    y = random_y,\n",
    "    mode = 'markers',\n",
    "    marker = {'color': 'rgb(102,0,0)',\n",
    "              'size': 2,\n",
    "              'opacity': 0.4}\n",
    ")\n",
    "tr2 = Histogram2dcontour(\n",
    "    x = random_x,\n",
    "    y = random_y,\n",
    "    ncontours = 15,\n",
    "    colorscale = 'Jet',\n",
    "    showscale = False\n",
    ")\n",
    "\n",
    "fig = Figure(data = [tr1, tr2])\n",
    "plot(fig)"
   ]
  },
  {
   "cell_type": "markdown",
   "metadata": {},
   "source": [
    "### Subplots\n",
    "\n",
    "Los subplot siguen la misma lógica de matrices que en varios frameworks"
   ]
  },
  {
   "cell_type": "code",
   "execution_count": null,
   "metadata": {},
   "outputs": [],
   "source": [
    "from plotly import tools\n",
    "\n",
    "tr1 = Scatter(x=[1, 2, 3], y=[4, 5, 6])\n",
    "tr2 = Scatter(x=[20, 30, 40], y=[50, 60, 70])\n",
    "tr3 = Scatter(x=[300, 400, 500], y=[600, 700, 800])\n",
    "tr4 = Scatter(x=[4000, 5000, 6000], y=[7000, 8000, 9000])\n",
    "\n",
    "fig = tools.make_subplots(rows=2, cols=2, subplot_titles=('Plot 1', 'Plot 2',\n",
    "                                                          'Plot 3', 'Plot 4'))\n",
    "\n",
    "fig.append_trace(tr1, 1, 1)\n",
    "fig.append_trace(tr2, 1, 2)\n",
    "fig.append_trace(tr3, 2, 1)\n",
    "fig.append_trace(tr4, 2, 2)\n",
    "\n",
    "fig['layout'].update(height=600, width=600, title='Subplots')\n",
    "plot(fig)\n"
   ]
  },
  {
   "cell_type": "markdown",
   "metadata": {},
   "source": [
    "### Tablas\n",
    "\n",
    "Además de los gráficos, se pueden incorporar tablas. Esto será solo un ejemplo básico para explorar el potencial del plotly.\n"
   ]
  },
  {
   "cell_type": "code",
   "execution_count": null,
   "metadata": {},
   "outputs": [],
   "source": [
    "tr = Table(\n",
    "    header = {'values': ['Columna 1', 'Columna 2'],\n",
    "             'fill': {'color': '#99AA99'},\n",
    "             'line': {'color': '#FFFFFF'}},\n",
    "    cells = {'values': [['C11', 'C21', 'C31', 'C41'],\n",
    "                       ['C12', 'C22', 'C32', 'C42']],\n",
    "            'fill': {'color': '#BBCCBB'}\n",
    "            })\n",
    "fig = Figure(data = [tr])\n",
    "plot(data)"
   ]
  },
  {
   "cell_type": "markdown",
   "metadata": {},
   "source": [
    "**Ejercicio:** Genere una tabla con los puntajes totales más altos de cada región."
   ]
  },
  {
   "cell_type": "markdown",
   "metadata": {},
   "source": [
    "Para finalizar, los gráficos vistos no sirven de nada si no son exportables y usables por otro usuario. Los gráficos son exportados como HTML, para ello en el comando plot, se debe especificar el nombre del html a exportar."
   ]
  },
  {
   "cell_type": "code",
   "execution_count": null,
   "metadata": {},
   "outputs": [],
   "source": [
    "tr = Scatter(\n",
    "    x = happiness['Health..Life.Expectancy.'],\n",
    "    y = happiness['Economy..GDP.per.Capita.'],\n",
    "    mode = 'markers',\n",
    "    text = happiness['Country']\n",
    ")\n",
    "\n",
    "lay = Layout(\n",
    "    title = 'Salud vs Economía',\n",
    "    xaxis = {\n",
    "        'title': 'Salud'\n",
    "    },\n",
    "    yaxis = {\n",
    "        'title': 'Economía'\n",
    "    }    \n",
    ")\n",
    "fig = Figure(data = [tr], layout = lay)\n",
    "\n",
    "\n",
    "plot(fig, filename = 'mi_gráfico')"
   ]
  },
  {
   "cell_type": "markdown",
   "metadata": {},
   "source": [
    "Es un archivo, no requiere conexión a internet, pero requiere un navegador que interprete ese html. Luego en Power Point o Latex, simplemente aplicar un hipervínculo al archivo que contine el html.\n"
   ]
  },
  {
   "cell_type": "markdown",
   "metadata": {},
   "source": [
    "Entonces.... ¿cuál usar?, pues depende, aquí se adjunta una tabla que las compara\n",
    "\n",
    "![alt text](IMG/Tabla.PNG)\n"
   ]
  }
 ],
 "metadata": {
  "kernelspec": {
   "display_name": "Python 3",
   "language": "python",
   "name": "python3"
  },
  "language_info": {
   "codemirror_mode": {
    "name": "ipython",
    "version": 3
   },
   "file_extension": ".py",
   "mimetype": "text/x-python",
   "name": "python",
   "nbconvert_exporter": "python",
   "pygments_lexer": "ipython3",
   "version": "3.7.1"
  }
 },
 "nbformat": 4,
 "nbformat_minor": 2
}
