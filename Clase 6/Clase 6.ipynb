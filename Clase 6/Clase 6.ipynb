{
 "cells": [
  {
   "cell_type": "markdown",
   "metadata": {},
   "source": [
    "## Clase 6: Regresión Logística"
   ]
  },
  {
   "cell_type": "code",
   "execution_count": 1,
   "metadata": {},
   "outputs": [],
   "source": [
    "import numpy as np\n",
    "import pandas as pd\n",
    "import statsmodels.api as sm\n",
    "import scipy as sp\n",
    "from scipy import stats\n",
    "stats.chisqprob = lambda chisq, df: stats.chi2.sf(chisq, df)"
   ]
  },
  {
   "cell_type": "code",
   "execution_count": 3,
   "metadata": {},
   "outputs": [],
   "source": [
    "glass = pd.read_csv('Data/glass.csv')"
   ]
  },
  {
   "cell_type": "code",
   "execution_count": 4,
   "metadata": {},
   "outputs": [
    {
     "data": {
      "text/html": [
       "<div>\n",
       "<style scoped>\n",
       "    .dataframe tbody tr th:only-of-type {\n",
       "        vertical-align: middle;\n",
       "    }\n",
       "\n",
       "    .dataframe tbody tr th {\n",
       "        vertical-align: top;\n",
       "    }\n",
       "\n",
       "    .dataframe thead th {\n",
       "        text-align: right;\n",
       "    }\n",
       "</style>\n",
       "<table border=\"1\" class=\"dataframe\">\n",
       "  <thead>\n",
       "    <tr style=\"text-align: right;\">\n",
       "      <th></th>\n",
       "      <th>RI</th>\n",
       "      <th>Na</th>\n",
       "      <th>Mg</th>\n",
       "      <th>Al</th>\n",
       "      <th>Si</th>\n",
       "      <th>K</th>\n",
       "      <th>Ca</th>\n",
       "      <th>Ba</th>\n",
       "      <th>Fe</th>\n",
       "      <th>Type</th>\n",
       "    </tr>\n",
       "  </thead>\n",
       "  <tbody>\n",
       "    <tr>\n",
       "      <th>0</th>\n",
       "      <td>1.52101</td>\n",
       "      <td>13.64</td>\n",
       "      <td>4.49</td>\n",
       "      <td>1.10</td>\n",
       "      <td>71.78</td>\n",
       "      <td>0.06</td>\n",
       "      <td>8.75</td>\n",
       "      <td>0.0</td>\n",
       "      <td>0.0</td>\n",
       "      <td>1</td>\n",
       "    </tr>\n",
       "    <tr>\n",
       "      <th>1</th>\n",
       "      <td>1.51761</td>\n",
       "      <td>13.89</td>\n",
       "      <td>3.60</td>\n",
       "      <td>1.36</td>\n",
       "      <td>72.73</td>\n",
       "      <td>0.48</td>\n",
       "      <td>7.83</td>\n",
       "      <td>0.0</td>\n",
       "      <td>0.0</td>\n",
       "      <td>1</td>\n",
       "    </tr>\n",
       "    <tr>\n",
       "      <th>2</th>\n",
       "      <td>1.51618</td>\n",
       "      <td>13.53</td>\n",
       "      <td>3.55</td>\n",
       "      <td>1.54</td>\n",
       "      <td>72.99</td>\n",
       "      <td>0.39</td>\n",
       "      <td>7.78</td>\n",
       "      <td>0.0</td>\n",
       "      <td>0.0</td>\n",
       "      <td>1</td>\n",
       "    </tr>\n",
       "    <tr>\n",
       "      <th>3</th>\n",
       "      <td>1.51766</td>\n",
       "      <td>13.21</td>\n",
       "      <td>3.69</td>\n",
       "      <td>1.29</td>\n",
       "      <td>72.61</td>\n",
       "      <td>0.57</td>\n",
       "      <td>8.22</td>\n",
       "      <td>0.0</td>\n",
       "      <td>0.0</td>\n",
       "      <td>1</td>\n",
       "    </tr>\n",
       "    <tr>\n",
       "      <th>4</th>\n",
       "      <td>1.51742</td>\n",
       "      <td>13.27</td>\n",
       "      <td>3.62</td>\n",
       "      <td>1.24</td>\n",
       "      <td>73.08</td>\n",
       "      <td>0.55</td>\n",
       "      <td>8.07</td>\n",
       "      <td>0.0</td>\n",
       "      <td>0.0</td>\n",
       "      <td>1</td>\n",
       "    </tr>\n",
       "  </tbody>\n",
       "</table>\n",
       "</div>"
      ],
      "text/plain": [
       "        RI     Na    Mg    Al     Si     K    Ca   Ba   Fe  Type\n",
       "0  1.52101  13.64  4.49  1.10  71.78  0.06  8.75  0.0  0.0     1\n",
       "1  1.51761  13.89  3.60  1.36  72.73  0.48  7.83  0.0  0.0     1\n",
       "2  1.51618  13.53  3.55  1.54  72.99  0.39  7.78  0.0  0.0     1\n",
       "3  1.51766  13.21  3.69  1.29  72.61  0.57  8.22  0.0  0.0     1\n",
       "4  1.51742  13.27  3.62  1.24  73.08  0.55  8.07  0.0  0.0     1"
      ]
     },
     "execution_count": 4,
     "metadata": {},
     "output_type": "execute_result"
    }
   ],
   "source": [
    "glass.head()"
   ]
  },
  {
   "cell_type": "markdown",
   "metadata": {},
   "source": [
    "Generamos una variables que sea 1 si es del tipo 1 y 0 en otro caso"
   ]
  },
  {
   "cell_type": "code",
   "execution_count": 5,
   "metadata": {},
   "outputs": [],
   "source": [
    "glass['y'] = (glass['Type'] == 1) * 1"
   ]
  },
  {
   "cell_type": "markdown",
   "metadata": {},
   "source": [
    "Para ajustar el modelo se requiere de la matriz de diseño y el vector de variables respuestas. En este conjunto de datos no tenemos variables categóricas, pero vamos a categorizar el Ca en dos categorías a modo de ejemplo para observar como se comporta."
   ]
  },
  {
   "cell_type": "code",
   "execution_count": 6,
   "metadata": {},
   "outputs": [],
   "source": [
    "glass['Ca'] = (glass['Ca'] < 8) * 1 "
   ]
  },
  {
   "cell_type": "markdown",
   "metadata": {},
   "source": [
    "Dado que el modelo recibe la matriz X, es necesario generar el intercepto y las variables Dummy, por suerte pandas trae una función que las genera."
   ]
  },
  {
   "cell_type": "code",
   "execution_count": 7,
   "metadata": {},
   "outputs": [],
   "source": [
    "dummies = pd.get_dummies(glass['Ca'], prefix='Ca')"
   ]
  },
  {
   "cell_type": "code",
   "execution_count": 8,
   "metadata": {},
   "outputs": [
    {
     "data": {
      "text/html": [
       "<div>\n",
       "<style scoped>\n",
       "    .dataframe tbody tr th:only-of-type {\n",
       "        vertical-align: middle;\n",
       "    }\n",
       "\n",
       "    .dataframe tbody tr th {\n",
       "        vertical-align: top;\n",
       "    }\n",
       "\n",
       "    .dataframe thead th {\n",
       "        text-align: right;\n",
       "    }\n",
       "</style>\n",
       "<table border=\"1\" class=\"dataframe\">\n",
       "  <thead>\n",
       "    <tr style=\"text-align: right;\">\n",
       "      <th></th>\n",
       "      <th>Ca_0</th>\n",
       "      <th>Ca_1</th>\n",
       "    </tr>\n",
       "  </thead>\n",
       "  <tbody>\n",
       "    <tr>\n",
       "      <th>0</th>\n",
       "      <td>1</td>\n",
       "      <td>0</td>\n",
       "    </tr>\n",
       "    <tr>\n",
       "      <th>1</th>\n",
       "      <td>0</td>\n",
       "      <td>1</td>\n",
       "    </tr>\n",
       "    <tr>\n",
       "      <th>2</th>\n",
       "      <td>0</td>\n",
       "      <td>1</td>\n",
       "    </tr>\n",
       "    <tr>\n",
       "      <th>3</th>\n",
       "      <td>1</td>\n",
       "      <td>0</td>\n",
       "    </tr>\n",
       "    <tr>\n",
       "      <th>4</th>\n",
       "      <td>1</td>\n",
       "      <td>0</td>\n",
       "    </tr>\n",
       "  </tbody>\n",
       "</table>\n",
       "</div>"
      ],
      "text/plain": [
       "   Ca_0  Ca_1\n",
       "0     1     0\n",
       "1     0     1\n",
       "2     0     1\n",
       "3     1     0\n",
       "4     1     0"
      ]
     },
     "execution_count": 8,
     "metadata": {},
     "output_type": "execute_result"
    }
   ],
   "source": [
    "dummies.head()"
   ]
  },
  {
   "cell_type": "markdown",
   "metadata": {},
   "source": [
    "No debieramos incluir todas las dummies, esto es pues genera problemas para invertir la matriz. Vamos a dejar como categoría de referencia que el fierro es mayor que 0.2, es decir la primera dummy."
   ]
  },
  {
   "cell_type": "code",
   "execution_count": 9,
   "metadata": {},
   "outputs": [],
   "source": [
    "X = (glass.drop(['y', 'Type', 'Fe', 'Ba'], axis = 1).\n",
    "         merge(dummies.drop(['Ca_1'], axis = 1), left_index = True, right_index = True))"
   ]
  },
  {
   "cell_type": "code",
   "execution_count": 10,
   "metadata": {},
   "outputs": [],
   "source": [
    "X['Intercept'] = 1"
   ]
  },
  {
   "cell_type": "markdown",
   "metadata": {},
   "source": [
    "Los modelos de regresión logística se ajustan en Python de la siguiente forma.\n",
    "\n",
    "```sm.Logit(y, X)```\n"
   ]
  },
  {
   "cell_type": "code",
   "execution_count": 11,
   "metadata": {},
   "outputs": [],
   "source": [
    "fit_1 = sm.Logit(glass['y'], X)"
   ]
  },
  {
   "cell_type": "code",
   "execution_count": 12,
   "metadata": {},
   "outputs": [
    {
     "data": {
      "text/plain": [
       "<statsmodels.discrete.discrete_model.Logit at 0x207c8ab6278>"
      ]
     },
     "execution_count": 12,
     "metadata": {},
     "output_type": "execute_result"
    }
   ],
   "source": [
    "fit_1"
   ]
  },
  {
   "cell_type": "markdown",
   "metadata": {},
   "source": [
    "el fit 1 no hace nada, sólo inicializa el problema dando los datos. Para ajustar hay que usar el método .fit, la ventaja de esto es que permite ya dejar previamente los datos guardados y sólo ir cambiando los parámetros del fit.\n",
    "\n",
    "\n",
    "```fit(start_params = None, method = 'newton', maxiter = 35)```\n",
    "\n",
    "- **start_params:** Si se quiere especificar parametros iniciales. Usuamente no se usa pero puede ser útil cuando no se converge a la solución.\n",
    "- **method:** Métodos de optimización, por defecto es Newton - Raphson, pero el BFGS también está incluido. También acepta métodos algo más atrevidos como el del Nelder-Mead y la optimización del saltamontes.\n",
    "- **maxiter:** Número máximo de iteraciones.\n"
   ]
  },
  {
   "cell_type": "code",
   "execution_count": 13,
   "metadata": {},
   "outputs": [
    {
     "name": "stdout",
     "output_type": "stream",
     "text": [
      "Optimization terminated successfully.\n",
      "         Current function value: 0.425309\n",
      "         Iterations 12\n"
     ]
    }
   ],
   "source": [
    "results_nr = fit_1.fit(method = 'newton')"
   ]
  },
  {
   "cell_type": "code",
   "execution_count": 14,
   "metadata": {},
   "outputs": [
    {
     "data": {
      "text/html": [
       "<table class=\"simpletable\">\n",
       "<caption>Logit Regression Results</caption>\n",
       "<tr>\n",
       "  <th>Dep. Variable:</th>         <td>y</td>        <th>  No. Observations:  </th>  <td>   214</td>  \n",
       "</tr>\n",
       "<tr>\n",
       "  <th>Model:</th>               <td>Logit</td>      <th>  Df Residuals:      </th>  <td>   206</td>  \n",
       "</tr>\n",
       "<tr>\n",
       "  <th>Method:</th>               <td>MLE</td>       <th>  Df Model:          </th>  <td>     7</td>  \n",
       "</tr>\n",
       "<tr>\n",
       "  <th>Date:</th>          <td>Mon, 27 Apr 2020</td> <th>  Pseudo R-squ.:     </th>  <td>0.3272</td>  \n",
       "</tr>\n",
       "<tr>\n",
       "  <th>Time:</th>              <td>18:52:42</td>     <th>  Log-Likelihood:    </th> <td> -91.016</td> \n",
       "</tr>\n",
       "<tr>\n",
       "  <th>converged:</th>           <td>True</td>       <th>  LL-Null:           </th> <td> -135.27</td> \n",
       "</tr>\n",
       "<tr>\n",
       "  <th> </th>                      <td> </td>        <th>  LLR p-value:       </th> <td>2.502e-16</td>\n",
       "</tr>\n",
       "</table>\n",
       "<table class=\"simpletable\">\n",
       "<tr>\n",
       "      <td></td>         <th>coef</th>     <th>std err</th>      <th>z</th>      <th>P>|z|</th>  <th>[0.025</th>    <th>0.975]</th>  \n",
       "</tr>\n",
       "<tr>\n",
       "  <th>RI</th>        <td>  283.8547</td> <td>  183.928</td> <td>    1.543</td> <td> 0.123</td> <td>  -76.638</td> <td>  644.347</td>\n",
       "</tr>\n",
       "<tr>\n",
       "  <th>Na</th>        <td>    0.0925</td> <td>    0.586</td> <td>    0.158</td> <td> 0.875</td> <td>   -1.057</td> <td>    1.242</td>\n",
       "</tr>\n",
       "<tr>\n",
       "  <th>Mg</th>        <td>    1.8651</td> <td>    0.464</td> <td>    4.022</td> <td> 0.000</td> <td>    0.956</td> <td>    2.774</td>\n",
       "</tr>\n",
       "<tr>\n",
       "  <th>Al</th>        <td>   -1.9751</td> <td>    1.050</td> <td>   -1.882</td> <td> 0.060</td> <td>   -4.032</td> <td>    0.082</td>\n",
       "</tr>\n",
       "<tr>\n",
       "  <th>Si</th>        <td>    1.5632</td> <td>    0.738</td> <td>    2.119</td> <td> 0.034</td> <td>    0.117</td> <td>    3.009</td>\n",
       "</tr>\n",
       "<tr>\n",
       "  <th>K</th>         <td>    0.2430</td> <td>    1.142</td> <td>    0.213</td> <td> 0.832</td> <td>   -1.995</td> <td>    2.481</td>\n",
       "</tr>\n",
       "<tr>\n",
       "  <th>Ca</th>        <td> -184.2027</td> <td> 1.84e+07</td> <td>   -1e-05</td> <td> 1.000</td> <td> -3.6e+07</td> <td>  3.6e+07</td>\n",
       "</tr>\n",
       "<tr>\n",
       "  <th>Ca_0</th>      <td> -182.8841</td> <td> 1.84e+07</td> <td>-9.94e-06</td> <td> 1.000</td> <td> -3.6e+07</td> <td>  3.6e+07</td>\n",
       "</tr>\n",
       "<tr>\n",
       "  <th>Intercept</th> <td> -367.0867</td> <td> 1.84e+07</td> <td>   -2e-05</td> <td> 1.000</td> <td>-3.61e+07</td> <td>  3.6e+07</td>\n",
       "</tr>\n",
       "</table>"
      ],
      "text/plain": [
       "<class 'statsmodels.iolib.summary.Summary'>\n",
       "\"\"\"\n",
       "                           Logit Regression Results                           \n",
       "==============================================================================\n",
       "Dep. Variable:                      y   No. Observations:                  214\n",
       "Model:                          Logit   Df Residuals:                      206\n",
       "Method:                           MLE   Df Model:                            7\n",
       "Date:                Mon, 27 Apr 2020   Pseudo R-squ.:                  0.3272\n",
       "Time:                        18:52:42   Log-Likelihood:                -91.016\n",
       "converged:                       True   LL-Null:                       -135.27\n",
       "                                        LLR p-value:                 2.502e-16\n",
       "==============================================================================\n",
       "                 coef    std err          z      P>|z|      [0.025      0.975]\n",
       "------------------------------------------------------------------------------\n",
       "RI           283.8547    183.928      1.543      0.123     -76.638     644.347\n",
       "Na             0.0925      0.586      0.158      0.875      -1.057       1.242\n",
       "Mg             1.8651      0.464      4.022      0.000       0.956       2.774\n",
       "Al            -1.9751      1.050     -1.882      0.060      -4.032       0.082\n",
       "Si             1.5632      0.738      2.119      0.034       0.117       3.009\n",
       "K              0.2430      1.142      0.213      0.832      -1.995       2.481\n",
       "Ca          -184.2027   1.84e+07     -1e-05      1.000    -3.6e+07     3.6e+07\n",
       "Ca_0        -182.8841   1.84e+07  -9.94e-06      1.000    -3.6e+07     3.6e+07\n",
       "Intercept   -367.0867   1.84e+07     -2e-05      1.000   -3.61e+07     3.6e+07\n",
       "==============================================================================\n",
       "\"\"\""
      ]
     },
     "execution_count": 14,
     "metadata": {},
     "output_type": "execute_result"
    }
   ],
   "source": [
    "results_nr.summary()"
   ]
  },
  {
   "cell_type": "code",
   "execution_count": 15,
   "metadata": {},
   "outputs": [
    {
     "data": {
      "text/plain": [
       "RI           283.854677\n",
       "Na             0.092484\n",
       "Mg             1.865073\n",
       "Al            -1.975122\n",
       "Si             1.563195\n",
       "K              0.242985\n",
       "Ca          -184.202726\n",
       "Ca_0        -182.884106\n",
       "Intercept   -367.086736\n",
       "dtype: float64"
      ]
     },
     "execution_count": 15,
     "metadata": {},
     "output_type": "execute_result"
    }
   ],
   "source": [
    "results_nr.params\n",
    "#np.exp(results_nr.params)"
   ]
  },
  {
   "cell_type": "markdown",
   "metadata": {},
   "source": [
    "los resultados los pueden guardar en $\\LaTeX$, html o simplemente texto o csv (util para exportar a Excel)"
   ]
  },
  {
   "cell_type": "code",
   "execution_count": 20,
   "metadata": {},
   "outputs": [
    {
     "data": {
      "text/plain": [
       "'\\\\begin{center}\\n\\\\begin{tabular}{lclc}\\n\\\\toprule\\n\\\\textbf{Dep. Variable:} &        y         & \\\\textbf{  No. Observations:  } &      214    \\\\\\\\\\n\\\\textbf{Model:}         &      Logit       & \\\\textbf{  Df Residuals:      } &      206    \\\\\\\\\\n\\\\textbf{Method:}        &       MLE        & \\\\textbf{  Df Model:          } &        7    \\\\\\\\\\n\\\\textbf{Date:}          & Mon, 27 Apr 2020 & \\\\textbf{  Pseudo R-squ.:     } &   0.3272    \\\\\\\\\\n\\\\textbf{Time:}          &     19:40:33     & \\\\textbf{  Log-Likelihood:    } &   -91.016   \\\\\\\\\\n\\\\textbf{converged:}     &       True       & \\\\textbf{  LL-Null:           } &   -135.27   \\\\\\\\\\n\\\\bottomrule\\n\\\\end{tabular}\\n\\\\begin{tabular}{lcccccc}\\n                   & \\\\textbf{coef} & \\\\textbf{std err} & \\\\textbf{z} & \\\\textbf{P$>$$|$z$|$} & \\\\textbf{[0.025} & \\\\textbf{0.975]}  \\\\\\\\\\n\\\\midrule\\n\\\\textbf{RI}        &     283.8547  &      183.928     &     1.543  &         0.123        &      -76.638    &      644.347     \\\\\\\\\\n\\\\textbf{Na}        &       0.0925  &        0.586     &     0.158  &         0.875        &       -1.057    &        1.242     \\\\\\\\\\n\\\\textbf{Mg}        &       1.8651  &        0.464     &     4.022  &         0.000        &        0.956    &        2.774     \\\\\\\\\\n\\\\textbf{Al}        &      -1.9751  &        1.050     &    -1.882  &         0.060        &       -4.032    &        0.082     \\\\\\\\\\n\\\\textbf{Si}        &       1.5632  &        0.738     &     2.119  &         0.034        &        0.117    &        3.009     \\\\\\\\\\n\\\\textbf{K}         &       0.2430  &        1.142     &     0.213  &         0.832        &       -1.995    &        2.481     \\\\\\\\\\n\\\\textbf{Ca}        &    -184.2027  &     1.84e+07     &    -1e-05  &         1.000        &     -3.6e+07    &      3.6e+07     \\\\\\\\\\n\\\\textbf{Ca\\\\_0}     &    -182.8841  &     1.84e+07     & -9.94e-06  &         1.000        &     -3.6e+07    &      3.6e+07     \\\\\\\\\\n\\\\textbf{Intercept} &    -367.0867  &     1.84e+07     &    -2e-05  &         1.000        &    -3.61e+07    &      3.6e+07     \\\\\\\\\\n\\\\bottomrule\\n\\\\end{tabular}\\n%\\\\caption{Logit Regression Results}\\n\\\\end{center}'"
      ]
     },
     "execution_count": 20,
     "metadata": {},
     "output_type": "execute_result"
    }
   ],
   "source": [
    "results_nr.summary().as_latex()"
   ]
  },
  {
   "cell_type": "code",
   "execution_count": null,
   "metadata": {},
   "outputs": [],
   "source": [
    "np.exp(results_nr.params)"
   ]
  },
  {
   "cell_type": "markdown",
   "metadata": {},
   "source": [
    "Puede ser un poco engorroso el tener que hacer un protocolo para ajustar los datos al modelo, a diferencia de R. Buenas noticias, en Python también se puede hacer."
   ]
  },
  {
   "cell_type": "code",
   "execution_count": 21,
   "metadata": {},
   "outputs": [],
   "source": [
    "import statsmodels.formula.api as smf"
   ]
  },
  {
   "cell_type": "code",
   "execution_count": 22,
   "metadata": {},
   "outputs": [
    {
     "name": "stdout",
     "output_type": "stream",
     "text": [
      "Optimization terminated successfully.\n",
      "         Current function value: 0.459637\n",
      "         Iterations 10\n"
     ]
    },
    {
     "data": {
      "text/html": [
       "<table class=\"simpletable\">\n",
       "<caption>Logit Regression Results</caption>\n",
       "<tr>\n",
       "  <th>Dep. Variable:</th>         <td>y</td>        <th>  No. Observations:  </th>  <td>   214</td>  \n",
       "</tr>\n",
       "<tr>\n",
       "  <th>Model:</th>               <td>Logit</td>      <th>  Df Residuals:      </th>  <td>   208</td>  \n",
       "</tr>\n",
       "<tr>\n",
       "  <th>Method:</th>               <td>MLE</td>       <th>  Df Model:          </th>  <td>     5</td>  \n",
       "</tr>\n",
       "<tr>\n",
       "  <th>Date:</th>          <td>Mon, 27 Apr 2020</td> <th>  Pseudo R-squ.:     </th>  <td>0.2729</td>  \n",
       "</tr>\n",
       "<tr>\n",
       "  <th>Time:</th>              <td>19:41:24</td>     <th>  Log-Likelihood:    </th> <td> -98.362</td> \n",
       "</tr>\n",
       "<tr>\n",
       "  <th>converged:</th>           <td>True</td>       <th>  LL-Null:           </th> <td> -135.27</td> \n",
       "</tr>\n",
       "<tr>\n",
       "  <th> </th>                      <td> </td>        <th>  LLR p-value:       </th> <td>1.642e-14</td>\n",
       "</tr>\n",
       "</table>\n",
       "<table class=\"simpletable\">\n",
       "<tr>\n",
       "        <td></td>          <th>coef</th>     <th>std err</th>      <th>z</th>      <th>P>|z|</th>  <th>[0.025</th>    <th>0.975]</th>  \n",
       "</tr>\n",
       "<tr>\n",
       "  <th>Intercept</th>    <td>    6.2541</td> <td>    6.109</td> <td>    1.024</td> <td> 0.306</td> <td>   -5.719</td> <td>   18.227</td>\n",
       "</tr>\n",
       "<tr>\n",
       "  <th>C(Ca)[T.1]</th>   <td>    1.0514</td> <td>    2.012</td> <td>    0.523</td> <td> 0.601</td> <td>   -2.892</td> <td>    4.995</td>\n",
       "</tr>\n",
       "<tr>\n",
       "  <th>Na</th>           <td>   -0.8741</td> <td>    0.470</td> <td>   -1.859</td> <td> 0.063</td> <td>   -1.796</td> <td>    0.047</td>\n",
       "</tr>\n",
       "<tr>\n",
       "  <th>Mg</th>           <td>    1.7915</td> <td>    0.440</td> <td>    4.070</td> <td> 0.000</td> <td>    0.929</td> <td>    2.654</td>\n",
       "</tr>\n",
       "<tr>\n",
       "  <th>K</th>            <td>   -2.1766</td> <td>    1.118</td> <td>   -1.947</td> <td> 0.052</td> <td>   -4.368</td> <td>    0.015</td>\n",
       "</tr>\n",
       "<tr>\n",
       "  <th>C(Ca)[T.1]:K</th> <td>   -5.0868</td> <td>    3.840</td> <td>   -1.325</td> <td> 0.185</td> <td>  -12.613</td> <td>    2.440</td>\n",
       "</tr>\n",
       "</table>"
      ],
      "text/plain": [
       "<class 'statsmodels.iolib.summary.Summary'>\n",
       "\"\"\"\n",
       "                           Logit Regression Results                           \n",
       "==============================================================================\n",
       "Dep. Variable:                      y   No. Observations:                  214\n",
       "Model:                          Logit   Df Residuals:                      208\n",
       "Method:                           MLE   Df Model:                            5\n",
       "Date:                Mon, 27 Apr 2020   Pseudo R-squ.:                  0.2729\n",
       "Time:                        19:41:24   Log-Likelihood:                -98.362\n",
       "converged:                       True   LL-Null:                       -135.27\n",
       "                                        LLR p-value:                 1.642e-14\n",
       "================================================================================\n",
       "                   coef    std err          z      P>|z|      [0.025      0.975]\n",
       "--------------------------------------------------------------------------------\n",
       "Intercept        6.2541      6.109      1.024      0.306      -5.719      18.227\n",
       "C(Ca)[T.1]       1.0514      2.012      0.523      0.601      -2.892       4.995\n",
       "Na              -0.8741      0.470     -1.859      0.063      -1.796       0.047\n",
       "Mg               1.7915      0.440      4.070      0.000       0.929       2.654\n",
       "K               -2.1766      1.118     -1.947      0.052      -4.368       0.015\n",
       "C(Ca)[T.1]:K    -5.0868      3.840     -1.325      0.185     -12.613       2.440\n",
       "================================================================================\n",
       "\"\"\""
      ]
     },
     "execution_count": 22,
     "metadata": {},
     "output_type": "execute_result"
    }
   ],
   "source": [
    "fit_2 = smf.logit(formula = 'y ~ Na + Mg + K**2 + C(Ca) * K', data = glass)\n",
    "results = fit_2.fit()\n",
    "results.summary()"
   ]
  },
  {
   "cell_type": "markdown",
   "metadata": {},
   "source": [
    "### Ejemplos selección de variables\n",
    "\n",
    "Vamos a aplicar shrinkage a nuestro problema. Recuerdan que en el primer ajuste había un montón de variables? hagamos el mismo ajuste penalizado."
   ]
  },
  {
   "cell_type": "code",
   "execution_count": 33,
   "metadata": {},
   "outputs": [
    {
     "name": "stdout",
     "output_type": "stream",
     "text": [
      "Optimization terminated successfully.    (Exit mode 0)\n",
      "            Current function value: 0.44809265429459094\n",
      "            Iterations: 62\n",
      "            Function evaluations: 66\n",
      "            Gradient evaluations: 62\n"
     ]
    }
   ],
   "source": [
    "fit_3 = smf.logit(formula = 'y ~RI + Na + Mg + Al + Si + K + Ca + Ba + Fe - 1', data = glass)\n",
    "result_3 = fit_3.fit_regularized(method = 'l1', alpha = 0.5) "
   ]
  },
  {
   "cell_type": "code",
   "execution_count": 34,
   "metadata": {},
   "outputs": [
    {
     "data": {
      "text/plain": [
       "RI    0.000000\n",
       "Na   -0.666333\n",
       "Mg    1.331983\n",
       "Al   -2.653609\n",
       "Si    0.102244\n",
       "K     0.000000\n",
       "Ca   -0.842203\n",
       "Ba    0.000000\n",
       "Fe   -0.781106\n",
       "dtype: float64"
      ]
     },
     "execution_count": 34,
     "metadata": {},
     "output_type": "execute_result"
    }
   ],
   "source": [
    "result_3.params"
   ]
  },
  {
   "cell_type": "markdown",
   "metadata": {},
   "source": [
    "### Ejemplo predicción"
   ]
  },
  {
   "cell_type": "markdown",
   "metadata": {},
   "source": [
    "Primero, vamos a separar conjunto de train y test, la clase pasada lo hicimos manual, pero existen funciones para hacer esto"
   ]
  },
  {
   "cell_type": "code",
   "execution_count": 35,
   "metadata": {},
   "outputs": [],
   "source": [
    "from sklearn.model_selection import train_test_split"
   ]
  },
  {
   "cell_type": "code",
   "execution_count": 36,
   "metadata": {},
   "outputs": [],
   "source": [
    "split = train_test_split(glass.index, test_size = 0.3)\n",
    "train = glass.loc[split[0]]\n",
    "test = glass.loc[split[1]]"
   ]
  },
  {
   "cell_type": "code",
   "execution_count": 37,
   "metadata": {},
   "outputs": [
    {
     "data": {
      "text/plain": [
       "(65, 11)"
      ]
     },
     "execution_count": 37,
     "metadata": {},
     "output_type": "execute_result"
    }
   ],
   "source": [
    "test.shape"
   ]
  },
  {
   "cell_type": "markdown",
   "metadata": {},
   "source": [
    "Ajustemos un modelo con todas las variables"
   ]
  },
  {
   "cell_type": "code",
   "execution_count": 38,
   "metadata": {},
   "outputs": [
    {
     "name": "stdout",
     "output_type": "stream",
     "text": [
      "Optimization terminated successfully.\n",
      "         Current function value: 0.424435\n",
      "         Iterations 12\n"
     ]
    }
   ],
   "source": [
    "fit_4 = smf.logit(formula = 'y ~RI + Na + Mg + Al + Si + K + Fe + Ba + C(Ca)', data = train)\n",
    "results = fit_4.fit()"
   ]
  },
  {
   "cell_type": "code",
   "execution_count": 40,
   "metadata": {},
   "outputs": [
    {
     "data": {
      "text/html": [
       "<table class=\"simpletable\">\n",
       "<caption>Logit Regression Results</caption>\n",
       "<tr>\n",
       "  <th>Dep. Variable:</th>         <td>y</td>        <th>  No. Observations:  </th>  <td>   149</td>  \n",
       "</tr>\n",
       "<tr>\n",
       "  <th>Model:</th>               <td>Logit</td>      <th>  Df Residuals:      </th>  <td>   139</td>  \n",
       "</tr>\n",
       "<tr>\n",
       "  <th>Method:</th>               <td>MLE</td>       <th>  Df Model:          </th>  <td>     9</td>  \n",
       "</tr>\n",
       "<tr>\n",
       "  <th>Date:</th>          <td>Mon, 27 Apr 2020</td> <th>  Pseudo R-squ.:     </th>  <td>0.3394</td>  \n",
       "</tr>\n",
       "<tr>\n",
       "  <th>Time:</th>              <td>20:01:41</td>     <th>  Log-Likelihood:    </th> <td> -63.241</td> \n",
       "</tr>\n",
       "<tr>\n",
       "  <th>converged:</th>           <td>True</td>       <th>  LL-Null:           </th> <td> -95.738</td> \n",
       "</tr>\n",
       "<tr>\n",
       "  <th> </th>                      <td> </td>        <th>  LLR p-value:       </th> <td>1.446e-10</td>\n",
       "</tr>\n",
       "</table>\n",
       "<table class=\"simpletable\">\n",
       "<tr>\n",
       "       <td></td>         <th>coef</th>     <th>std err</th>      <th>z</th>      <th>P>|z|</th>  <th>[0.025</th>    <th>0.975]</th>  \n",
       "</tr>\n",
       "<tr>\n",
       "  <th>Intercept</th>  <td> -879.9083</td> <td>  466.497</td> <td>   -1.886</td> <td> 0.059</td> <td>-1794.226</td> <td>   34.409</td>\n",
       "</tr>\n",
       "<tr>\n",
       "  <th>C(Ca)[T.1]</th> <td>   -1.9854</td> <td>    1.172</td> <td>   -1.694</td> <td> 0.090</td> <td>   -4.283</td> <td>    0.312</td>\n",
       "</tr>\n",
       "<tr>\n",
       "  <th>RI</th>         <td>  463.6776</td> <td>  262.334</td> <td>    1.768</td> <td> 0.077</td> <td>  -50.487</td> <td>  977.842</td>\n",
       "</tr>\n",
       "<tr>\n",
       "  <th>Na</th>         <td>    0.6182</td> <td>    0.753</td> <td>    0.821</td> <td> 0.412</td> <td>   -0.858</td> <td>    2.094</td>\n",
       "</tr>\n",
       "<tr>\n",
       "  <th>Mg</th>         <td>    2.2043</td> <td>    0.659</td> <td>    3.345</td> <td> 0.001</td> <td>    0.913</td> <td>    3.496</td>\n",
       "</tr>\n",
       "<tr>\n",
       "  <th>Al</th>         <td>   -0.9657</td> <td>    1.296</td> <td>   -0.745</td> <td> 0.456</td> <td>   -3.507</td> <td>    1.575</td>\n",
       "</tr>\n",
       "<tr>\n",
       "  <th>Si</th>         <td>    2.2167</td> <td>    0.969</td> <td>    2.288</td> <td> 0.022</td> <td>    0.318</td> <td>    4.115</td>\n",
       "</tr>\n",
       "<tr>\n",
       "  <th>K</th>          <td>    0.9077</td> <td>    1.125</td> <td>    0.807</td> <td> 0.420</td> <td>   -1.298</td> <td>    3.113</td>\n",
       "</tr>\n",
       "<tr>\n",
       "  <th>Fe</th>         <td>   -1.9167</td> <td>    2.463</td> <td>   -0.778</td> <td> 0.436</td> <td>   -6.743</td> <td>    2.910</td>\n",
       "</tr>\n",
       "<tr>\n",
       "  <th>Ba</th>         <td>   -2.9068</td> <td>    8.456</td> <td>   -0.344</td> <td> 0.731</td> <td>  -19.481</td> <td>   13.667</td>\n",
       "</tr>\n",
       "</table><br/><br/>Possibly complete quasi-separation: A fraction 0.10 of observations can be<br/>perfectly predicted. This might indicate that there is complete<br/>quasi-separation. In this case some parameters will not be identified."
      ],
      "text/plain": [
       "<class 'statsmodels.iolib.summary.Summary'>\n",
       "\"\"\"\n",
       "                           Logit Regression Results                           \n",
       "==============================================================================\n",
       "Dep. Variable:                      y   No. Observations:                  149\n",
       "Model:                          Logit   Df Residuals:                      139\n",
       "Method:                           MLE   Df Model:                            9\n",
       "Date:                Mon, 27 Apr 2020   Pseudo R-squ.:                  0.3394\n",
       "Time:                        20:01:41   Log-Likelihood:                -63.241\n",
       "converged:                       True   LL-Null:                       -95.738\n",
       "                                        LLR p-value:                 1.446e-10\n",
       "==============================================================================\n",
       "                 coef    std err          z      P>|z|      [0.025      0.975]\n",
       "------------------------------------------------------------------------------\n",
       "Intercept   -879.9083    466.497     -1.886      0.059   -1794.226      34.409\n",
       "C(Ca)[T.1]    -1.9854      1.172     -1.694      0.090      -4.283       0.312\n",
       "RI           463.6776    262.334      1.768      0.077     -50.487     977.842\n",
       "Na             0.6182      0.753      0.821      0.412      -0.858       2.094\n",
       "Mg             2.2043      0.659      3.345      0.001       0.913       3.496\n",
       "Al            -0.9657      1.296     -0.745      0.456      -3.507       1.575\n",
       "Si             2.2167      0.969      2.288      0.022       0.318       4.115\n",
       "K              0.9077      1.125      0.807      0.420      -1.298       3.113\n",
       "Fe            -1.9167      2.463     -0.778      0.436      -6.743       2.910\n",
       "Ba            -2.9068      8.456     -0.344      0.731     -19.481      13.667\n",
       "==============================================================================\n",
       "\n",
       "Possibly complete quasi-separation: A fraction 0.10 of observations can be\n",
       "perfectly predicted. This might indicate that there is complete\n",
       "quasi-separation. In this case some parameters will not be identified.\n",
       "\"\"\""
      ]
     },
     "execution_count": 40,
     "metadata": {},
     "output_type": "execute_result"
    }
   ],
   "source": [
    "results.summary()"
   ]
  },
  {
   "cell_type": "markdown",
   "metadata": {},
   "source": [
    "Calculemos las probabilidades predichas"
   ]
  },
  {
   "cell_type": "code",
   "execution_count": 41,
   "metadata": {},
   "outputs": [],
   "source": [
    "preds_test = results.predict(test)"
   ]
  },
  {
   "cell_type": "code",
   "execution_count": 42,
   "metadata": {},
   "outputs": [
    {
     "data": {
      "text/plain": [
       "183    0.019466\n",
       "22     0.545015\n",
       "78     0.107096\n",
       "159    0.111807\n",
       "29     0.616784\n",
       "166    0.117494\n",
       "7      0.844369\n",
       "162    0.442399\n",
       "190    0.001822\n",
       "189    0.000085\n",
       "182    0.000533\n",
       "100    0.147876\n",
       "56     0.081836\n",
       "194    0.000008\n",
       "157    0.746564\n",
       "65     0.557406\n",
       "71     0.332559\n",
       "209    0.000002\n",
       "205    0.000009\n",
       "185    0.000398\n",
       "147    0.353529\n",
       "141    0.666185\n",
       "110    0.027736\n",
       "143    0.328771\n",
       "62     0.695122\n",
       "43     0.791944\n",
       "2      0.116885\n",
       "125    0.467937\n",
       "137    0.563957\n",
       "213    0.000007\n",
       "         ...   \n",
       "94     0.491883\n",
       "83     0.338226\n",
       "87     0.310849\n",
       "132    0.762266\n",
       "44     0.466573\n",
       "49     0.335195\n",
       "73     0.106154\n",
       "61     0.048039\n",
       "170    0.001937\n",
       "6      0.784347\n",
       "16     0.786597\n",
       "127    0.053126\n",
       "47     0.928806\n",
       "204    0.000091\n",
       "178    0.040909\n",
       "14     0.771087\n",
       "171    0.000002\n",
       "69     0.774096\n",
       "123    0.057756\n",
       "122    0.488835\n",
       "186    0.000080\n",
       "30     0.622291\n",
       "60     0.711767\n",
       "109    0.047938\n",
       "139    0.157538\n",
       "86     0.514814\n",
       "142    0.356438\n",
       "40     0.716681\n",
       "144    0.264233\n",
       "206    0.000013\n",
       "Length: 65, dtype: float64"
      ]
     },
     "execution_count": 42,
     "metadata": {},
     "output_type": "execute_result"
    }
   ],
   "source": [
    "preds_test"
   ]
  },
  {
   "cell_type": "markdown",
   "metadata": {},
   "source": [
    "Para evaluar es útil el módulo metrics de Sklearn"
   ]
  },
  {
   "cell_type": "code",
   "execution_count": 43,
   "metadata": {},
   "outputs": [],
   "source": [
    "from sklearn import metrics"
   ]
  },
  {
   "cell_type": "markdown",
   "metadata": {},
   "source": [
    "Calculemos la curva de ROC, esta nos retorna 3 listas, una con el FPR, otra con el TPR y otra con el umbral utilizado."
   ]
  },
  {
   "cell_type": "code",
   "execution_count": 44,
   "metadata": {},
   "outputs": [],
   "source": [
    "roc = metrics.roc_curve(test['y'], preds_test)"
   ]
  },
  {
   "cell_type": "code",
   "execution_count": 45,
   "metadata": {},
   "outputs": [
    {
     "data": {
      "text/plain": [
       "(array([0.        , 0.        , 0.        , 0.02173913, 0.02173913,\n",
       "        0.08695652, 0.08695652, 0.10869565, 0.10869565, 0.13043478,\n",
       "        0.13043478, 0.2173913 , 0.2173913 , 0.32608696, 0.32608696,\n",
       "        0.5       , 0.5       , 0.56521739, 0.56521739, 0.60869565,\n",
       "        0.60869565, 1.        ]),\n",
       " array([0.        , 0.05263158, 0.15789474, 0.15789474, 0.36842105,\n",
       "        0.36842105, 0.52631579, 0.52631579, 0.63157895, 0.63157895,\n",
       "        0.73684211, 0.73684211, 0.78947368, 0.78947368, 0.84210526,\n",
       "        0.84210526, 0.89473684, 0.89473684, 0.94736842, 0.94736842,\n",
       "        1.        , 1.        ]),\n",
       " array([1.92880573e+00, 9.28805733e-01, 7.91944408e-01, 7.90552691e-01,\n",
       "        7.71087045e-01, 7.29954686e-01, 6.95121869e-01, 6.66185116e-01,\n",
       "        6.16784218e-01, 5.63956961e-01, 5.45014537e-01, 4.67936934e-01,\n",
       "        4.66572783e-01, 3.38226120e-01, 3.35195331e-01, 1.17493818e-01,\n",
       "        1.16885408e-01, 1.06153908e-01, 8.18358112e-02, 5.31258826e-02,\n",
       "        4.80387144e-02, 1.68631537e-06]))"
      ]
     },
     "execution_count": 45,
     "metadata": {},
     "output_type": "execute_result"
    }
   ],
   "source": [
    "roc"
   ]
  },
  {
   "cell_type": "markdown",
   "metadata": {},
   "source": [
    "Si calculamos la matriz de confusión con uno de los umbrales, los resultados debieran ser equivalentes."
   ]
  },
  {
   "cell_type": "code",
   "execution_count": 46,
   "metadata": {},
   "outputs": [],
   "source": [
    "umbral = roc[2][10]\n",
    "preds_val = (preds_test >= umbral) * 1\n",
    "M = metrics.confusion_matrix(test['y'], preds_val)"
   ]
  },
  {
   "cell_type": "code",
   "execution_count": 47,
   "metadata": {},
   "outputs": [
    {
     "data": {
      "text/plain": [
       "0.5450145373149182"
      ]
     },
     "execution_count": 47,
     "metadata": {},
     "output_type": "execute_result"
    }
   ],
   "source": [
    "umbral"
   ]
  },
  {
   "cell_type": "code",
   "execution_count": 48,
   "metadata": {},
   "outputs": [
    {
     "data": {
      "text/plain": [
       "array([[40,  6],\n",
       "       [ 5, 14]], dtype=int64)"
      ]
     },
     "execution_count": 48,
     "metadata": {},
     "output_type": "execute_result"
    }
   ],
   "source": [
    "M"
   ]
  },
  {
   "cell_type": "code",
   "execution_count": 49,
   "metadata": {},
   "outputs": [],
   "source": [
    "tn, fp, fn, tp = M.ravel()"
   ]
  },
  {
   "cell_type": "code",
   "execution_count": 50,
   "metadata": {},
   "outputs": [],
   "source": [
    "tpr = tp/(tp + fn)\n",
    "fpr = fp/(fp + tn)"
   ]
  },
  {
   "cell_type": "code",
   "execution_count": 53,
   "metadata": {},
   "outputs": [
    {
     "data": {
      "text/plain": [
       "array([40,  6,  5, 14], dtype=int64)"
      ]
     },
     "execution_count": 53,
     "metadata": {},
     "output_type": "execute_result"
    }
   ],
   "source": [
    "M.ravel()"
   ]
  },
  {
   "cell_type": "code",
   "execution_count": 52,
   "metadata": {},
   "outputs": [
    {
     "data": {
      "text/plain": [
       "0.13043478260869565"
      ]
     },
     "execution_count": 52,
     "metadata": {},
     "output_type": "execute_result"
    }
   ],
   "source": [
    "roc[0][10]"
   ]
  },
  {
   "cell_type": "markdown",
   "metadata": {},
   "source": [
    "Se ve que los valores cuadran. Podemos obtener el AUC de la siguiente forma"
   ]
  },
  {
   "cell_type": "code",
   "execution_count": 54,
   "metadata": {},
   "outputs": [
    {
     "data": {
      "text/plain": [
       "0.839816933638444"
      ]
     },
     "execution_count": 54,
     "metadata": {},
     "output_type": "execute_result"
    }
   ],
   "source": [
    "metrics.auc(roc[0], roc[1])"
   ]
  },
  {
   "cell_type": "markdown",
   "metadata": {},
   "source": [
    "0.82, nada mal. Veamos el gráfico de la curva bien rápido."
   ]
  },
  {
   "cell_type": "code",
   "execution_count": 55,
   "metadata": {},
   "outputs": [
    {
     "data": {
      "image/png": "[encoded data removed]",
      "text/plain": [
       "<Figure size 432x288 with 1 Axes>"
      ]
     },
     "metadata": {
      "needs_background": "light"
     },
     "output_type": "display_data"
    }
   ],
   "source": [
    "import matplotlib.pyplot as plt\n",
    "\n",
    "plt.plot(roc[0], roc[1])\n",
    "plt.plot([0,1], [0,1])\n",
    "plt.show()"
   ]
  },
  {
   "cell_type": "markdown",
   "metadata": {},
   "source": [
    "Es importante comparar el ajuste del train vs el test, esto nos da una idea de cuanto cambia el modelo frente a alteraciones del conjunto de datos original."
   ]
  },
  {
   "cell_type": "code",
   "execution_count": 56,
   "metadata": {},
   "outputs": [
    {
     "data": {
      "text/plain": [
       "0.8581432573029211"
      ]
     },
     "execution_count": 56,
     "metadata": {},
     "output_type": "execute_result"
    }
   ],
   "source": [
    "preds_train = results.predict(train)\n",
    "roc_train = metrics.roc_curve(train['y'], preds_train)\n",
    "metrics.auc(roc_train[0], roc_train[1])"
   ]
  },
  {
   "cell_type": "code",
   "execution_count": 57,
   "metadata": {},
   "outputs": [
    {
     "data": {
      "image/png": "[encoded data removed]",
      "text/plain": [
       "<Figure size 432x288 with 1 Axes>"
      ]
     },
     "metadata": {
      "needs_background": "light"
     },
     "output_type": "display_data"
    }
   ],
   "source": [
    "plt.plot(roc[0], roc[1])\n",
    "plt.plot(roc_train[0], roc_train[1])\n",
    "plt.plot([0,1], [0,1])\n",
    "plt.show()"
   ]
  },
  {
   "cell_type": "markdown",
   "metadata": {},
   "source": [
    "Se puede ver un problema grande, el modelo no tiene buena capacidad de predecir un nuevo conjunto de datos. Motivos de esto puede ser falta de información para predecir casos más generales o bien lo contrario que es sobreajuste. Probemos incorporando más variables."
   ]
  },
  {
   "cell_type": "code",
   "execution_count": 58,
   "metadata": {},
   "outputs": [
    {
     "name": "stdout",
     "output_type": "stream",
     "text": [
      "Optimization terminated successfully.\n",
      "         Current function value: 0.422593\n",
      "         Iterations 12\n"
     ]
    }
   ],
   "source": [
    "fit_5 = smf.logit(formula = 'y ~RI + Na + Mg + Al + Si + K + Fe + Ba + RI**2 + Na**2 + Na*Mg + K*Ca + Ba**2 + Al*K', data = train)\n",
    "results_5 = fit_5.fit()"
   ]
  },
  {
   "cell_type": "code",
   "execution_count": 59,
   "metadata": {},
   "outputs": [
    {
     "data": {
      "text/plain": [
       "0.8512585812356979"
      ]
     },
     "execution_count": 59,
     "metadata": {},
     "output_type": "execute_result"
    }
   ],
   "source": [
    "preds_test5 = results_5.predict(test)\n",
    "roc_5 = metrics.roc_curve(test['y'], preds_test5)\n",
    "metrics.auc(roc_5[0], roc_5[1])"
   ]
  },
  {
   "cell_type": "code",
   "execution_count": 60,
   "metadata": {},
   "outputs": [
    {
     "data": {
      "text/plain": [
       "0.862545018007203"
      ]
     },
     "execution_count": 60,
     "metadata": {},
     "output_type": "execute_result"
    }
   ],
   "source": [
    "preds_train5 = results_5.predict(train)\n",
    "roc_train_5 = metrics.roc_curve(train['y'], preds_train5)\n",
    "metrics.auc(roc_train_5[0], roc_train_5[1])"
   ]
  },
  {
   "cell_type": "markdown",
   "metadata": {},
   "source": [
    "Notar que este último caso se pierde mucho en interpretación y probablemente no sirva para eso. Por último, un pequeño tip, con patsy se puede obtener las matrices a partir de una formula."
   ]
  },
  {
   "cell_type": "code",
   "execution_count": 61,
   "metadata": {},
   "outputs": [],
   "source": [
    "import patsy\n",
    "y, X = patsy.dmatrices('y ~ RI + Na + Mg + Al + Si + K + Ca + Ba + Al + RI**2 + Na**2 + Na*Mg + K*Ca + Ba**2 + Al*K - 1', data = train, return_type='dataframe')"
   ]
  },
  {
   "cell_type": "code",
   "execution_count": 62,
   "metadata": {},
   "outputs": [
    {
     "data": {
      "text/html": [
       "<div>\n",
       "<style scoped>\n",
       "    .dataframe tbody tr th:only-of-type {\n",
       "        vertical-align: middle;\n",
       "    }\n",
       "\n",
       "    .dataframe tbody tr th {\n",
       "        vertical-align: top;\n",
       "    }\n",
       "\n",
       "    .dataframe thead th {\n",
       "        text-align: right;\n",
       "    }\n",
       "</style>\n",
       "<table border=\"1\" class=\"dataframe\">\n",
       "  <thead>\n",
       "    <tr style=\"text-align: right;\">\n",
       "      <th></th>\n",
       "      <th>RI</th>\n",
       "      <th>Na</th>\n",
       "      <th>Mg</th>\n",
       "      <th>Al</th>\n",
       "      <th>Si</th>\n",
       "      <th>K</th>\n",
       "      <th>Ca</th>\n",
       "      <th>Ba</th>\n",
       "      <th>Na:Mg</th>\n",
       "      <th>K:Ca</th>\n",
       "      <th>Al:K</th>\n",
       "    </tr>\n",
       "  </thead>\n",
       "  <tbody>\n",
       "    <tr>\n",
       "      <th>188</th>\n",
       "      <td>1.52247</td>\n",
       "      <td>14.86</td>\n",
       "      <td>2.20</td>\n",
       "      <td>2.06</td>\n",
       "      <td>70.26</td>\n",
       "      <td>0.76</td>\n",
       "      <td>0.0</td>\n",
       "      <td>0.00</td>\n",
       "      <td>32.6920</td>\n",
       "      <td>0.00</td>\n",
       "      <td>1.5656</td>\n",
       "    </tr>\n",
       "    <tr>\n",
       "      <th>184</th>\n",
       "      <td>1.51115</td>\n",
       "      <td>17.38</td>\n",
       "      <td>0.00</td>\n",
       "      <td>0.34</td>\n",
       "      <td>75.41</td>\n",
       "      <td>0.00</td>\n",
       "      <td>1.0</td>\n",
       "      <td>0.00</td>\n",
       "      <td>0.0000</td>\n",
       "      <td>0.00</td>\n",
       "      <td>0.0000</td>\n",
       "    </tr>\n",
       "    <tr>\n",
       "      <th>39</th>\n",
       "      <td>1.52213</td>\n",
       "      <td>14.21</td>\n",
       "      <td>3.82</td>\n",
       "      <td>0.47</td>\n",
       "      <td>71.77</td>\n",
       "      <td>0.11</td>\n",
       "      <td>0.0</td>\n",
       "      <td>0.00</td>\n",
       "      <td>54.2822</td>\n",
       "      <td>0.00</td>\n",
       "      <td>0.0517</td>\n",
       "    </tr>\n",
       "    <tr>\n",
       "      <th>153</th>\n",
       "      <td>1.51610</td>\n",
       "      <td>13.42</td>\n",
       "      <td>3.40</td>\n",
       "      <td>1.22</td>\n",
       "      <td>72.69</td>\n",
       "      <td>0.59</td>\n",
       "      <td>0.0</td>\n",
       "      <td>0.00</td>\n",
       "      <td>45.6280</td>\n",
       "      <td>0.00</td>\n",
       "      <td>0.7198</td>\n",
       "    </tr>\n",
       "    <tr>\n",
       "      <th>64</th>\n",
       "      <td>1.52172</td>\n",
       "      <td>13.48</td>\n",
       "      <td>3.74</td>\n",
       "      <td>0.90</td>\n",
       "      <td>72.01</td>\n",
       "      <td>0.18</td>\n",
       "      <td>0.0</td>\n",
       "      <td>0.00</td>\n",
       "      <td>50.4152</td>\n",
       "      <td>0.00</td>\n",
       "      <td>0.1620</td>\n",
       "    </tr>\n",
       "    <tr>\n",
       "      <th>41</th>\n",
       "      <td>1.51755</td>\n",
       "      <td>12.71</td>\n",
       "      <td>3.42</td>\n",
       "      <td>1.20</td>\n",
       "      <td>73.20</td>\n",
       "      <td>0.59</td>\n",
       "      <td>0.0</td>\n",
       "      <td>0.00</td>\n",
       "      <td>43.4682</td>\n",
       "      <td>0.00</td>\n",
       "      <td>0.7080</td>\n",
       "    </tr>\n",
       "    <tr>\n",
       "      <th>48</th>\n",
       "      <td>1.52223</td>\n",
       "      <td>13.21</td>\n",
       "      <td>3.77</td>\n",
       "      <td>0.79</td>\n",
       "      <td>71.99</td>\n",
       "      <td>0.13</td>\n",
       "      <td>0.0</td>\n",
       "      <td>0.00</td>\n",
       "      <td>49.8017</td>\n",
       "      <td>0.00</td>\n",
       "      <td>0.1027</td>\n",
       "    </tr>\n",
       "    <tr>\n",
       "      <th>164</th>\n",
       "      <td>1.51915</td>\n",
       "      <td>12.73</td>\n",
       "      <td>1.85</td>\n",
       "      <td>1.86</td>\n",
       "      <td>72.69</td>\n",
       "      <td>0.60</td>\n",
       "      <td>0.0</td>\n",
       "      <td>0.00</td>\n",
       "      <td>23.5505</td>\n",
       "      <td>0.00</td>\n",
       "      <td>1.1160</td>\n",
       "    </tr>\n",
       "    <tr>\n",
       "      <th>160</th>\n",
       "      <td>1.51832</td>\n",
       "      <td>13.33</td>\n",
       "      <td>3.34</td>\n",
       "      <td>1.54</td>\n",
       "      <td>72.14</td>\n",
       "      <td>0.56</td>\n",
       "      <td>0.0</td>\n",
       "      <td>0.00</td>\n",
       "      <td>44.5222</td>\n",
       "      <td>0.00</td>\n",
       "      <td>0.8624</td>\n",
       "    </tr>\n",
       "    <tr>\n",
       "      <th>31</th>\n",
       "      <td>1.51747</td>\n",
       "      <td>12.84</td>\n",
       "      <td>3.50</td>\n",
       "      <td>1.14</td>\n",
       "      <td>73.27</td>\n",
       "      <td>0.56</td>\n",
       "      <td>0.0</td>\n",
       "      <td>0.00</td>\n",
       "      <td>44.9400</td>\n",
       "      <td>0.00</td>\n",
       "      <td>0.6384</td>\n",
       "    </tr>\n",
       "    <tr>\n",
       "      <th>15</th>\n",
       "      <td>1.51761</td>\n",
       "      <td>12.81</td>\n",
       "      <td>3.54</td>\n",
       "      <td>1.23</td>\n",
       "      <td>73.24</td>\n",
       "      <td>0.58</td>\n",
       "      <td>0.0</td>\n",
       "      <td>0.00</td>\n",
       "      <td>45.3474</td>\n",
       "      <td>0.00</td>\n",
       "      <td>0.7134</td>\n",
       "    </tr>\n",
       "    <tr>\n",
       "      <th>193</th>\n",
       "      <td>1.51719</td>\n",
       "      <td>14.75</td>\n",
       "      <td>0.00</td>\n",
       "      <td>2.00</td>\n",
       "      <td>73.02</td>\n",
       "      <td>0.00</td>\n",
       "      <td>0.0</td>\n",
       "      <td>1.59</td>\n",
       "      <td>0.0000</td>\n",
       "      <td>0.00</td>\n",
       "      <td>0.0000</td>\n",
       "    </tr>\n",
       "    <tr>\n",
       "      <th>99</th>\n",
       "      <td>1.51811</td>\n",
       "      <td>12.96</td>\n",
       "      <td>2.96</td>\n",
       "      <td>1.43</td>\n",
       "      <td>72.92</td>\n",
       "      <td>0.60</td>\n",
       "      <td>0.0</td>\n",
       "      <td>0.14</td>\n",
       "      <td>38.3616</td>\n",
       "      <td>0.00</td>\n",
       "      <td>0.8580</td>\n",
       "    </tr>\n",
       "    <tr>\n",
       "      <th>169</th>\n",
       "      <td>1.51994</td>\n",
       "      <td>13.27</td>\n",
       "      <td>0.00</td>\n",
       "      <td>1.76</td>\n",
       "      <td>73.03</td>\n",
       "      <td>0.47</td>\n",
       "      <td>0.0</td>\n",
       "      <td>0.00</td>\n",
       "      <td>0.0000</td>\n",
       "      <td>0.00</td>\n",
       "      <td>0.8272</td>\n",
       "    </tr>\n",
       "    <tr>\n",
       "      <th>97</th>\n",
       "      <td>1.51743</td>\n",
       "      <td>12.20</td>\n",
       "      <td>3.25</td>\n",
       "      <td>1.16</td>\n",
       "      <td>73.55</td>\n",
       "      <td>0.62</td>\n",
       "      <td>0.0</td>\n",
       "      <td>0.00</td>\n",
       "      <td>39.6500</td>\n",
       "      <td>0.00</td>\n",
       "      <td>0.7192</td>\n",
       "    </tr>\n",
       "    <tr>\n",
       "      <th>80</th>\n",
       "      <td>1.51592</td>\n",
       "      <td>12.86</td>\n",
       "      <td>3.52</td>\n",
       "      <td>2.12</td>\n",
       "      <td>72.66</td>\n",
       "      <td>0.69</td>\n",
       "      <td>1.0</td>\n",
       "      <td>0.00</td>\n",
       "      <td>45.2672</td>\n",
       "      <td>0.69</td>\n",
       "      <td>1.4628</td>\n",
       "    </tr>\n",
       "    <tr>\n",
       "      <th>163</th>\n",
       "      <td>1.51514</td>\n",
       "      <td>14.01</td>\n",
       "      <td>2.68</td>\n",
       "      <td>3.50</td>\n",
       "      <td>69.89</td>\n",
       "      <td>1.68</td>\n",
       "      <td>1.0</td>\n",
       "      <td>2.20</td>\n",
       "      <td>37.5468</td>\n",
       "      <td>1.68</td>\n",
       "      <td>5.8800</td>\n",
       "    </tr>\n",
       "    <tr>\n",
       "      <th>19</th>\n",
       "      <td>1.51735</td>\n",
       "      <td>13.02</td>\n",
       "      <td>3.54</td>\n",
       "      <td>1.69</td>\n",
       "      <td>72.73</td>\n",
       "      <td>0.54</td>\n",
       "      <td>0.0</td>\n",
       "      <td>0.00</td>\n",
       "      <td>46.0908</td>\n",
       "      <td>0.00</td>\n",
       "      <td>0.9126</td>\n",
       "    </tr>\n",
       "    <tr>\n",
       "      <th>55</th>\n",
       "      <td>1.51769</td>\n",
       "      <td>12.45</td>\n",
       "      <td>2.71</td>\n",
       "      <td>1.29</td>\n",
       "      <td>73.70</td>\n",
       "      <td>0.56</td>\n",
       "      <td>0.0</td>\n",
       "      <td>0.00</td>\n",
       "      <td>33.7395</td>\n",
       "      <td>0.00</td>\n",
       "      <td>0.7224</td>\n",
       "    </tr>\n",
       "    <tr>\n",
       "      <th>106</th>\n",
       "      <td>1.53125</td>\n",
       "      <td>10.73</td>\n",
       "      <td>0.00</td>\n",
       "      <td>2.10</td>\n",
       "      <td>69.81</td>\n",
       "      <td>0.58</td>\n",
       "      <td>0.0</td>\n",
       "      <td>3.15</td>\n",
       "      <td>0.0000</td>\n",
       "      <td>0.00</td>\n",
       "      <td>1.2180</td>\n",
       "    </tr>\n",
       "    <tr>\n",
       "      <th>37</th>\n",
       "      <td>1.51797</td>\n",
       "      <td>12.74</td>\n",
       "      <td>3.48</td>\n",
       "      <td>1.35</td>\n",
       "      <td>72.96</td>\n",
       "      <td>0.64</td>\n",
       "      <td>0.0</td>\n",
       "      <td>0.00</td>\n",
       "      <td>44.3352</td>\n",
       "      <td>0.00</td>\n",
       "      <td>0.8640</td>\n",
       "    </tr>\n",
       "    <tr>\n",
       "      <th>36</th>\n",
       "      <td>1.51909</td>\n",
       "      <td>13.89</td>\n",
       "      <td>3.53</td>\n",
       "      <td>1.32</td>\n",
       "      <td>71.81</td>\n",
       "      <td>0.51</td>\n",
       "      <td>0.0</td>\n",
       "      <td>0.11</td>\n",
       "      <td>49.0317</td>\n",
       "      <td>0.00</td>\n",
       "      <td>0.6732</td>\n",
       "    </tr>\n",
       "    <tr>\n",
       "      <th>27</th>\n",
       "      <td>1.51721</td>\n",
       "      <td>12.87</td>\n",
       "      <td>3.48</td>\n",
       "      <td>1.33</td>\n",
       "      <td>73.04</td>\n",
       "      <td>0.56</td>\n",
       "      <td>0.0</td>\n",
       "      <td>0.00</td>\n",
       "      <td>44.7876</td>\n",
       "      <td>0.00</td>\n",
       "      <td>0.7448</td>\n",
       "    </tr>\n",
       "    <tr>\n",
       "      <th>3</th>\n",
       "      <td>1.51766</td>\n",
       "      <td>13.21</td>\n",
       "      <td>3.69</td>\n",
       "      <td>1.29</td>\n",
       "      <td>72.61</td>\n",
       "      <td>0.57</td>\n",
       "      <td>0.0</td>\n",
       "      <td>0.00</td>\n",
       "      <td>48.7449</td>\n",
       "      <td>0.00</td>\n",
       "      <td>0.7353</td>\n",
       "    </tr>\n",
       "    <tr>\n",
       "      <th>105</th>\n",
       "      <td>1.52475</td>\n",
       "      <td>11.45</td>\n",
       "      <td>0.00</td>\n",
       "      <td>1.88</td>\n",
       "      <td>72.19</td>\n",
       "      <td>0.81</td>\n",
       "      <td>0.0</td>\n",
       "      <td>0.00</td>\n",
       "      <td>0.0000</td>\n",
       "      <td>0.00</td>\n",
       "      <td>1.5228</td>\n",
       "    </tr>\n",
       "    <tr>\n",
       "      <th>211</th>\n",
       "      <td>1.52065</td>\n",
       "      <td>14.36</td>\n",
       "      <td>0.00</td>\n",
       "      <td>2.02</td>\n",
       "      <td>73.42</td>\n",
       "      <td>0.00</td>\n",
       "      <td>0.0</td>\n",
       "      <td>1.64</td>\n",
       "      <td>0.0000</td>\n",
       "      <td>0.00</td>\n",
       "      <td>0.0000</td>\n",
       "    </tr>\n",
       "    <tr>\n",
       "      <th>150</th>\n",
       "      <td>1.51665</td>\n",
       "      <td>13.14</td>\n",
       "      <td>3.45</td>\n",
       "      <td>1.76</td>\n",
       "      <td>72.48</td>\n",
       "      <td>0.60</td>\n",
       "      <td>0.0</td>\n",
       "      <td>0.00</td>\n",
       "      <td>45.3330</td>\n",
       "      <td>0.00</td>\n",
       "      <td>1.0560</td>\n",
       "    </tr>\n",
       "    <tr>\n",
       "      <th>212</th>\n",
       "      <td>1.51651</td>\n",
       "      <td>14.38</td>\n",
       "      <td>0.00</td>\n",
       "      <td>1.94</td>\n",
       "      <td>73.61</td>\n",
       "      <td>0.00</td>\n",
       "      <td>0.0</td>\n",
       "      <td>1.57</td>\n",
       "      <td>0.0000</td>\n",
       "      <td>0.00</td>\n",
       "      <td>0.0000</td>\n",
       "    </tr>\n",
       "    <tr>\n",
       "      <th>90</th>\n",
       "      <td>1.51841</td>\n",
       "      <td>12.93</td>\n",
       "      <td>3.74</td>\n",
       "      <td>1.11</td>\n",
       "      <td>72.28</td>\n",
       "      <td>0.64</td>\n",
       "      <td>0.0</td>\n",
       "      <td>0.00</td>\n",
       "      <td>48.3582</td>\n",
       "      <td>0.00</td>\n",
       "      <td>0.7104</td>\n",
       "    </tr>\n",
       "    <tr>\n",
       "      <th>129</th>\n",
       "      <td>1.52020</td>\n",
       "      <td>13.98</td>\n",
       "      <td>1.35</td>\n",
       "      <td>1.63</td>\n",
       "      <td>71.76</td>\n",
       "      <td>0.39</td>\n",
       "      <td>0.0</td>\n",
       "      <td>0.00</td>\n",
       "      <td>18.8730</td>\n",
       "      <td>0.00</td>\n",
       "      <td>0.6357</td>\n",
       "    </tr>\n",
       "    <tr>\n",
       "      <th>...</th>\n",
       "      <td>...</td>\n",
       "      <td>...</td>\n",
       "      <td>...</td>\n",
       "      <td>...</td>\n",
       "      <td>...</td>\n",
       "      <td>...</td>\n",
       "      <td>...</td>\n",
       "      <td>...</td>\n",
       "      <td>...</td>\n",
       "      <td>...</td>\n",
       "      <td>...</td>\n",
       "    </tr>\n",
       "    <tr>\n",
       "      <th>191</th>\n",
       "      <td>1.51602</td>\n",
       "      <td>14.85</td>\n",
       "      <td>0.00</td>\n",
       "      <td>2.38</td>\n",
       "      <td>73.28</td>\n",
       "      <td>0.00</td>\n",
       "      <td>0.0</td>\n",
       "      <td>0.64</td>\n",
       "      <td>0.0000</td>\n",
       "      <td>0.00</td>\n",
       "      <td>0.0000</td>\n",
       "    </tr>\n",
       "    <tr>\n",
       "      <th>176</th>\n",
       "      <td>1.51905</td>\n",
       "      <td>14.00</td>\n",
       "      <td>2.39</td>\n",
       "      <td>1.56</td>\n",
       "      <td>72.37</td>\n",
       "      <td>0.00</td>\n",
       "      <td>0.0</td>\n",
       "      <td>0.00</td>\n",
       "      <td>33.4600</td>\n",
       "      <td>0.00</td>\n",
       "      <td>0.0000</td>\n",
       "    </tr>\n",
       "    <tr>\n",
       "      <th>76</th>\n",
       "      <td>1.51645</td>\n",
       "      <td>13.44</td>\n",
       "      <td>3.61</td>\n",
       "      <td>1.54</td>\n",
       "      <td>72.39</td>\n",
       "      <td>0.66</td>\n",
       "      <td>0.0</td>\n",
       "      <td>0.00</td>\n",
       "      <td>48.5184</td>\n",
       "      <td>0.00</td>\n",
       "      <td>1.0164</td>\n",
       "    </tr>\n",
       "    <tr>\n",
       "      <th>103</th>\n",
       "      <td>1.52725</td>\n",
       "      <td>13.80</td>\n",
       "      <td>3.15</td>\n",
       "      <td>0.66</td>\n",
       "      <td>70.57</td>\n",
       "      <td>0.08</td>\n",
       "      <td>0.0</td>\n",
       "      <td>0.00</td>\n",
       "      <td>43.4700</td>\n",
       "      <td>0.00</td>\n",
       "      <td>0.0528</td>\n",
       "    </tr>\n",
       "    <tr>\n",
       "      <th>13</th>\n",
       "      <td>1.51748</td>\n",
       "      <td>12.86</td>\n",
       "      <td>3.56</td>\n",
       "      <td>1.27</td>\n",
       "      <td>73.21</td>\n",
       "      <td>0.54</td>\n",
       "      <td>0.0</td>\n",
       "      <td>0.00</td>\n",
       "      <td>45.7816</td>\n",
       "      <td>0.00</td>\n",
       "      <td>0.6858</td>\n",
       "    </tr>\n",
       "    <tr>\n",
       "      <th>107</th>\n",
       "      <td>1.53393</td>\n",
       "      <td>12.30</td>\n",
       "      <td>0.00</td>\n",
       "      <td>1.00</td>\n",
       "      <td>70.16</td>\n",
       "      <td>0.12</td>\n",
       "      <td>0.0</td>\n",
       "      <td>0.00</td>\n",
       "      <td>0.0000</td>\n",
       "      <td>0.00</td>\n",
       "      <td>0.1200</td>\n",
       "    </tr>\n",
       "    <tr>\n",
       "      <th>192</th>\n",
       "      <td>1.51623</td>\n",
       "      <td>14.20</td>\n",
       "      <td>0.00</td>\n",
       "      <td>2.79</td>\n",
       "      <td>73.46</td>\n",
       "      <td>0.04</td>\n",
       "      <td>0.0</td>\n",
       "      <td>0.40</td>\n",
       "      <td>0.0000</td>\n",
       "      <td>0.00</td>\n",
       "      <td>0.1116</td>\n",
       "    </tr>\n",
       "    <tr>\n",
       "      <th>155</th>\n",
       "      <td>1.51646</td>\n",
       "      <td>13.04</td>\n",
       "      <td>3.40</td>\n",
       "      <td>1.26</td>\n",
       "      <td>73.01</td>\n",
       "      <td>0.52</td>\n",
       "      <td>0.0</td>\n",
       "      <td>0.00</td>\n",
       "      <td>44.3360</td>\n",
       "      <td>0.00</td>\n",
       "      <td>0.6552</td>\n",
       "    </tr>\n",
       "    <tr>\n",
       "      <th>20</th>\n",
       "      <td>1.51750</td>\n",
       "      <td>12.82</td>\n",
       "      <td>3.55</td>\n",
       "      <td>1.49</td>\n",
       "      <td>72.75</td>\n",
       "      <td>0.54</td>\n",
       "      <td>0.0</td>\n",
       "      <td>0.00</td>\n",
       "      <td>45.5110</td>\n",
       "      <td>0.00</td>\n",
       "      <td>0.8046</td>\n",
       "    </tr>\n",
       "    <tr>\n",
       "      <th>119</th>\n",
       "      <td>1.51652</td>\n",
       "      <td>13.56</td>\n",
       "      <td>3.57</td>\n",
       "      <td>1.47</td>\n",
       "      <td>72.45</td>\n",
       "      <td>0.64</td>\n",
       "      <td>1.0</td>\n",
       "      <td>0.00</td>\n",
       "      <td>48.4092</td>\n",
       "      <td>0.64</td>\n",
       "      <td>0.9408</td>\n",
       "    </tr>\n",
       "    <tr>\n",
       "      <th>59</th>\n",
       "      <td>1.51754</td>\n",
       "      <td>13.39</td>\n",
       "      <td>3.66</td>\n",
       "      <td>1.19</td>\n",
       "      <td>72.79</td>\n",
       "      <td>0.57</td>\n",
       "      <td>0.0</td>\n",
       "      <td>0.00</td>\n",
       "      <td>49.0074</td>\n",
       "      <td>0.00</td>\n",
       "      <td>0.6783</td>\n",
       "    </tr>\n",
       "    <tr>\n",
       "      <th>101</th>\n",
       "      <td>1.51730</td>\n",
       "      <td>12.35</td>\n",
       "      <td>2.72</td>\n",
       "      <td>1.63</td>\n",
       "      <td>72.87</td>\n",
       "      <td>0.70</td>\n",
       "      <td>0.0</td>\n",
       "      <td>0.00</td>\n",
       "      <td>33.5920</td>\n",
       "      <td>0.00</td>\n",
       "      <td>1.1410</td>\n",
       "    </tr>\n",
       "    <tr>\n",
       "      <th>95</th>\n",
       "      <td>1.51860</td>\n",
       "      <td>13.36</td>\n",
       "      <td>3.43</td>\n",
       "      <td>1.43</td>\n",
       "      <td>72.26</td>\n",
       "      <td>0.51</td>\n",
       "      <td>0.0</td>\n",
       "      <td>0.00</td>\n",
       "      <td>45.8248</td>\n",
       "      <td>0.00</td>\n",
       "      <td>0.7293</td>\n",
       "    </tr>\n",
       "    <tr>\n",
       "      <th>117</th>\n",
       "      <td>1.51708</td>\n",
       "      <td>13.72</td>\n",
       "      <td>3.68</td>\n",
       "      <td>1.81</td>\n",
       "      <td>72.06</td>\n",
       "      <td>0.64</td>\n",
       "      <td>1.0</td>\n",
       "      <td>0.00</td>\n",
       "      <td>50.4896</td>\n",
       "      <td>0.64</td>\n",
       "      <td>1.1584</td>\n",
       "    </tr>\n",
       "    <tr>\n",
       "      <th>75</th>\n",
       "      <td>1.51590</td>\n",
       "      <td>13.02</td>\n",
       "      <td>3.58</td>\n",
       "      <td>1.51</td>\n",
       "      <td>73.12</td>\n",
       "      <td>0.69</td>\n",
       "      <td>1.0</td>\n",
       "      <td>0.00</td>\n",
       "      <td>46.6116</td>\n",
       "      <td>0.69</td>\n",
       "      <td>1.0419</td>\n",
       "    </tr>\n",
       "    <tr>\n",
       "      <th>57</th>\n",
       "      <td>1.51824</td>\n",
       "      <td>12.87</td>\n",
       "      <td>3.48</td>\n",
       "      <td>1.29</td>\n",
       "      <td>72.95</td>\n",
       "      <td>0.60</td>\n",
       "      <td>0.0</td>\n",
       "      <td>0.00</td>\n",
       "      <td>44.7876</td>\n",
       "      <td>0.00</td>\n",
       "      <td>0.7740</td>\n",
       "    </tr>\n",
       "    <tr>\n",
       "      <th>88</th>\n",
       "      <td>1.51618</td>\n",
       "      <td>13.01</td>\n",
       "      <td>3.50</td>\n",
       "      <td>1.48</td>\n",
       "      <td>72.89</td>\n",
       "      <td>0.60</td>\n",
       "      <td>0.0</td>\n",
       "      <td>0.00</td>\n",
       "      <td>45.5350</td>\n",
       "      <td>0.00</td>\n",
       "      <td>0.8880</td>\n",
       "    </tr>\n",
       "    <tr>\n",
       "      <th>136</th>\n",
       "      <td>1.51806</td>\n",
       "      <td>13.00</td>\n",
       "      <td>3.80</td>\n",
       "      <td>1.08</td>\n",
       "      <td>73.07</td>\n",
       "      <td>0.56</td>\n",
       "      <td>0.0</td>\n",
       "      <td>0.00</td>\n",
       "      <td>49.4000</td>\n",
       "      <td>0.00</td>\n",
       "      <td>0.6048</td>\n",
       "    </tr>\n",
       "    <tr>\n",
       "      <th>121</th>\n",
       "      <td>1.51663</td>\n",
       "      <td>12.93</td>\n",
       "      <td>3.54</td>\n",
       "      <td>1.62</td>\n",
       "      <td>72.96</td>\n",
       "      <td>0.64</td>\n",
       "      <td>0.0</td>\n",
       "      <td>0.00</td>\n",
       "      <td>45.7722</td>\n",
       "      <td>0.00</td>\n",
       "      <td>1.0368</td>\n",
       "    </tr>\n",
       "    <tr>\n",
       "      <th>74</th>\n",
       "      <td>1.51596</td>\n",
       "      <td>13.02</td>\n",
       "      <td>3.56</td>\n",
       "      <td>1.54</td>\n",
       "      <td>73.11</td>\n",
       "      <td>0.72</td>\n",
       "      <td>1.0</td>\n",
       "      <td>0.00</td>\n",
       "      <td>46.3512</td>\n",
       "      <td>0.72</td>\n",
       "      <td>1.1088</td>\n",
       "    </tr>\n",
       "    <tr>\n",
       "      <th>68</th>\n",
       "      <td>1.52152</td>\n",
       "      <td>13.12</td>\n",
       "      <td>3.58</td>\n",
       "      <td>0.90</td>\n",
       "      <td>72.20</td>\n",
       "      <td>0.23</td>\n",
       "      <td>0.0</td>\n",
       "      <td>0.00</td>\n",
       "      <td>46.9696</td>\n",
       "      <td>0.00</td>\n",
       "      <td>0.2070</td>\n",
       "    </tr>\n",
       "    <tr>\n",
       "      <th>179</th>\n",
       "      <td>1.51852</td>\n",
       "      <td>14.09</td>\n",
       "      <td>2.19</td>\n",
       "      <td>1.66</td>\n",
       "      <td>72.67</td>\n",
       "      <td>0.00</td>\n",
       "      <td>0.0</td>\n",
       "      <td>0.00</td>\n",
       "      <td>30.8571</td>\n",
       "      <td>0.00</td>\n",
       "      <td>0.0000</td>\n",
       "    </tr>\n",
       "    <tr>\n",
       "      <th>92</th>\n",
       "      <td>1.51588</td>\n",
       "      <td>13.12</td>\n",
       "      <td>3.41</td>\n",
       "      <td>1.58</td>\n",
       "      <td>73.26</td>\n",
       "      <td>0.07</td>\n",
       "      <td>0.0</td>\n",
       "      <td>0.00</td>\n",
       "      <td>44.7392</td>\n",
       "      <td>0.00</td>\n",
       "      <td>0.1106</td>\n",
       "    </tr>\n",
       "    <tr>\n",
       "      <th>168</th>\n",
       "      <td>1.51666</td>\n",
       "      <td>12.86</td>\n",
       "      <td>0.00</td>\n",
       "      <td>1.83</td>\n",
       "      <td>73.88</td>\n",
       "      <td>0.97</td>\n",
       "      <td>0.0</td>\n",
       "      <td>0.00</td>\n",
       "      <td>0.0000</td>\n",
       "      <td>0.00</td>\n",
       "      <td>1.7751</td>\n",
       "    </tr>\n",
       "    <tr>\n",
       "      <th>32</th>\n",
       "      <td>1.51775</td>\n",
       "      <td>12.85</td>\n",
       "      <td>3.48</td>\n",
       "      <td>1.23</td>\n",
       "      <td>72.97</td>\n",
       "      <td>0.61</td>\n",
       "      <td>0.0</td>\n",
       "      <td>0.09</td>\n",
       "      <td>44.7180</td>\n",
       "      <td>0.00</td>\n",
       "      <td>0.7503</td>\n",
       "    </tr>\n",
       "    <tr>\n",
       "      <th>54</th>\n",
       "      <td>1.51778</td>\n",
       "      <td>13.21</td>\n",
       "      <td>2.81</td>\n",
       "      <td>1.29</td>\n",
       "      <td>72.98</td>\n",
       "      <td>0.51</td>\n",
       "      <td>0.0</td>\n",
       "      <td>0.00</td>\n",
       "      <td>37.1201</td>\n",
       "      <td>0.00</td>\n",
       "      <td>0.6579</td>\n",
       "    </tr>\n",
       "    <tr>\n",
       "      <th>167</th>\n",
       "      <td>1.51969</td>\n",
       "      <td>12.64</td>\n",
       "      <td>0.00</td>\n",
       "      <td>1.65</td>\n",
       "      <td>73.75</td>\n",
       "      <td>0.38</td>\n",
       "      <td>0.0</td>\n",
       "      <td>0.00</td>\n",
       "      <td>0.0000</td>\n",
       "      <td>0.00</td>\n",
       "      <td>0.6270</td>\n",
       "    </tr>\n",
       "    <tr>\n",
       "      <th>165</th>\n",
       "      <td>1.52171</td>\n",
       "      <td>11.56</td>\n",
       "      <td>1.88</td>\n",
       "      <td>1.56</td>\n",
       "      <td>72.86</td>\n",
       "      <td>0.47</td>\n",
       "      <td>0.0</td>\n",
       "      <td>0.00</td>\n",
       "      <td>21.7328</td>\n",
       "      <td>0.00</td>\n",
       "      <td>0.7332</td>\n",
       "    </tr>\n",
       "    <tr>\n",
       "      <th>151</th>\n",
       "      <td>1.52127</td>\n",
       "      <td>14.32</td>\n",
       "      <td>3.90</td>\n",
       "      <td>0.83</td>\n",
       "      <td>71.50</td>\n",
       "      <td>0.00</td>\n",
       "      <td>0.0</td>\n",
       "      <td>0.00</td>\n",
       "      <td>55.8480</td>\n",
       "      <td>0.00</td>\n",
       "      <td>0.0000</td>\n",
       "    </tr>\n",
       "    <tr>\n",
       "      <th>70</th>\n",
       "      <td>1.51574</td>\n",
       "      <td>14.86</td>\n",
       "      <td>3.67</td>\n",
       "      <td>1.74</td>\n",
       "      <td>71.87</td>\n",
       "      <td>0.16</td>\n",
       "      <td>1.0</td>\n",
       "      <td>0.00</td>\n",
       "      <td>54.5362</td>\n",
       "      <td>0.16</td>\n",
       "      <td>0.2784</td>\n",
       "    </tr>\n",
       "  </tbody>\n",
       "</table>\n",
       "<p>149 rows × 11 columns</p>\n",
       "</div>"
      ],
      "text/plain": [
       "          RI     Na    Mg    Al     Si     K   Ca    Ba    Na:Mg  K:Ca    Al:K\n",
       "188  1.52247  14.86  2.20  2.06  70.26  0.76  0.0  0.00  32.6920  0.00  1.5656\n",
       "184  1.51115  17.38  0.00  0.34  75.41  0.00  1.0  0.00   0.0000  0.00  0.0000\n",
       "39   1.52213  14.21  3.82  0.47  71.77  0.11  0.0  0.00  54.2822  0.00  0.0517\n",
       "153  1.51610  13.42  3.40  1.22  72.69  0.59  0.0  0.00  45.6280  0.00  0.7198\n",
       "64   1.52172  13.48  3.74  0.90  72.01  0.18  0.0  0.00  50.4152  0.00  0.1620\n",
       "41   1.51755  12.71  3.42  1.20  73.20  0.59  0.0  0.00  43.4682  0.00  0.7080\n",
       "48   1.52223  13.21  3.77  0.79  71.99  0.13  0.0  0.00  49.8017  0.00  0.1027\n",
       "164  1.51915  12.73  1.85  1.86  72.69  0.60  0.0  0.00  23.5505  0.00  1.1160\n",
       "160  1.51832  13.33  3.34  1.54  72.14  0.56  0.0  0.00  44.5222  0.00  0.8624\n",
       "31   1.51747  12.84  3.50  1.14  73.27  0.56  0.0  0.00  44.9400  0.00  0.6384\n",
       "15   1.51761  12.81  3.54  1.23  73.24  0.58  0.0  0.00  45.3474  0.00  0.7134\n",
       "193  1.51719  14.75  0.00  2.00  73.02  0.00  0.0  1.59   0.0000  0.00  0.0000\n",
       "99   1.51811  12.96  2.96  1.43  72.92  0.60  0.0  0.14  38.3616  0.00  0.8580\n",
       "169  1.51994  13.27  0.00  1.76  73.03  0.47  0.0  0.00   0.0000  0.00  0.8272\n",
       "97   1.51743  12.20  3.25  1.16  73.55  0.62  0.0  0.00  39.6500  0.00  0.7192\n",
       "80   1.51592  12.86  3.52  2.12  72.66  0.69  1.0  0.00  45.2672  0.69  1.4628\n",
       "163  1.51514  14.01  2.68  3.50  69.89  1.68  1.0  2.20  37.5468  1.68  5.8800\n",
       "19   1.51735  13.02  3.54  1.69  72.73  0.54  0.0  0.00  46.0908  0.00  0.9126\n",
       "55   1.51769  12.45  2.71  1.29  73.70  0.56  0.0  0.00  33.7395  0.00  0.7224\n",
       "106  1.53125  10.73  0.00  2.10  69.81  0.58  0.0  3.15   0.0000  0.00  1.2180\n",
       "37   1.51797  12.74  3.48  1.35  72.96  0.64  0.0  0.00  44.3352  0.00  0.8640\n",
       "36   1.51909  13.89  3.53  1.32  71.81  0.51  0.0  0.11  49.0317  0.00  0.6732\n",
       "27   1.51721  12.87  3.48  1.33  73.04  0.56  0.0  0.00  44.7876  0.00  0.7448\n",
       "3    1.51766  13.21  3.69  1.29  72.61  0.57  0.0  0.00  48.7449  0.00  0.7353\n",
       "105  1.52475  11.45  0.00  1.88  72.19  0.81  0.0  0.00   0.0000  0.00  1.5228\n",
       "211  1.52065  14.36  0.00  2.02  73.42  0.00  0.0  1.64   0.0000  0.00  0.0000\n",
       "150  1.51665  13.14  3.45  1.76  72.48  0.60  0.0  0.00  45.3330  0.00  1.0560\n",
       "212  1.51651  14.38  0.00  1.94  73.61  0.00  0.0  1.57   0.0000  0.00  0.0000\n",
       "90   1.51841  12.93  3.74  1.11  72.28  0.64  0.0  0.00  48.3582  0.00  0.7104\n",
       "129  1.52020  13.98  1.35  1.63  71.76  0.39  0.0  0.00  18.8730  0.00  0.6357\n",
       "..       ...    ...   ...   ...    ...   ...  ...   ...      ...   ...     ...\n",
       "191  1.51602  14.85  0.00  2.38  73.28  0.00  0.0  0.64   0.0000  0.00  0.0000\n",
       "176  1.51905  14.00  2.39  1.56  72.37  0.00  0.0  0.00  33.4600  0.00  0.0000\n",
       "76   1.51645  13.44  3.61  1.54  72.39  0.66  0.0  0.00  48.5184  0.00  1.0164\n",
       "103  1.52725  13.80  3.15  0.66  70.57  0.08  0.0  0.00  43.4700  0.00  0.0528\n",
       "13   1.51748  12.86  3.56  1.27  73.21  0.54  0.0  0.00  45.7816  0.00  0.6858\n",
       "107  1.53393  12.30  0.00  1.00  70.16  0.12  0.0  0.00   0.0000  0.00  0.1200\n",
       "192  1.51623  14.20  0.00  2.79  73.46  0.04  0.0  0.40   0.0000  0.00  0.1116\n",
       "155  1.51646  13.04  3.40  1.26  73.01  0.52  0.0  0.00  44.3360  0.00  0.6552\n",
       "20   1.51750  12.82  3.55  1.49  72.75  0.54  0.0  0.00  45.5110  0.00  0.8046\n",
       "119  1.51652  13.56  3.57  1.47  72.45  0.64  1.0  0.00  48.4092  0.64  0.9408\n",
       "59   1.51754  13.39  3.66  1.19  72.79  0.57  0.0  0.00  49.0074  0.00  0.6783\n",
       "101  1.51730  12.35  2.72  1.63  72.87  0.70  0.0  0.00  33.5920  0.00  1.1410\n",
       "95   1.51860  13.36  3.43  1.43  72.26  0.51  0.0  0.00  45.8248  0.00  0.7293\n",
       "117  1.51708  13.72  3.68  1.81  72.06  0.64  1.0  0.00  50.4896  0.64  1.1584\n",
       "75   1.51590  13.02  3.58  1.51  73.12  0.69  1.0  0.00  46.6116  0.69  1.0419\n",
       "57   1.51824  12.87  3.48  1.29  72.95  0.60  0.0  0.00  44.7876  0.00  0.7740\n",
       "88   1.51618  13.01  3.50  1.48  72.89  0.60  0.0  0.00  45.5350  0.00  0.8880\n",
       "136  1.51806  13.00  3.80  1.08  73.07  0.56  0.0  0.00  49.4000  0.00  0.6048\n",
       "121  1.51663  12.93  3.54  1.62  72.96  0.64  0.0  0.00  45.7722  0.00  1.0368\n",
       "74   1.51596  13.02  3.56  1.54  73.11  0.72  1.0  0.00  46.3512  0.72  1.1088\n",
       "68   1.52152  13.12  3.58  0.90  72.20  0.23  0.0  0.00  46.9696  0.00  0.2070\n",
       "179  1.51852  14.09  2.19  1.66  72.67  0.00  0.0  0.00  30.8571  0.00  0.0000\n",
       "92   1.51588  13.12  3.41  1.58  73.26  0.07  0.0  0.00  44.7392  0.00  0.1106\n",
       "168  1.51666  12.86  0.00  1.83  73.88  0.97  0.0  0.00   0.0000  0.00  1.7751\n",
       "32   1.51775  12.85  3.48  1.23  72.97  0.61  0.0  0.09  44.7180  0.00  0.7503\n",
       "54   1.51778  13.21  2.81  1.29  72.98  0.51  0.0  0.00  37.1201  0.00  0.6579\n",
       "167  1.51969  12.64  0.00  1.65  73.75  0.38  0.0  0.00   0.0000  0.00  0.6270\n",
       "165  1.52171  11.56  1.88  1.56  72.86  0.47  0.0  0.00  21.7328  0.00  0.7332\n",
       "151  1.52127  14.32  3.90  0.83  71.50  0.00  0.0  0.00  55.8480  0.00  0.0000\n",
       "70   1.51574  14.86  3.67  1.74  71.87  0.16  1.0  0.00  54.5362  0.16  0.2784\n",
       "\n",
       "[149 rows x 11 columns]"
      ]
     },
     "execution_count": 62,
     "metadata": {},
     "output_type": "execute_result"
    }
   ],
   "source": [
    "X"
   ]
  }
 ],
 "metadata": {
  "kernelspec": {
   "display_name": "Python 3",
   "language": "python",
   "name": "python3"
  },
  "language_info": {
   "codemirror_mode": {
    "name": "ipython",
    "version": 3
   },
   "file_extension": ".py",
   "mimetype": "text/x-python",
   "name": "python",
   "nbconvert_exporter": "python",
   "pygments_lexer": "ipython3",
   "version": "3.7.1"
  }
 },
 "nbformat": 4,
 "nbformat_minor": 2
}
