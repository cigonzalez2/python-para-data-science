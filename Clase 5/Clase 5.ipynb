{
 "cells": [
  {
   "cell_type": "markdown",
   "metadata": {},
   "source": [
    "## Clase 5: Preparación de modelos y Árboles de Decisión"
   ]
  },
  {
   "cell_type": "code",
   "execution_count": 1,
   "metadata": {},
   "outputs": [],
   "source": [
    "import numpy as np\n",
    "import pandas as pd\n",
    "from sklearn import preprocessing\n",
    "from sklearn import tree"
   ]
  },
  {
   "cell_type": "code",
   "execution_count": 2,
   "metadata": {},
   "outputs": [],
   "source": [
    "def read_data(archivo):\n",
    "    df = pd.read_csv(archivo)\n",
    "    df = df[['class',\n",
    "            'cap-shape',\n",
    "             'cap-surface',\n",
    "             'cap-color',\n",
    "             'bruises',\n",
    "             'gill-attachment',\n",
    "             'gill-spacing',\n",
    "             'gill-size',\n",
    "             'gill-color',\n",
    "             'stalk-shape',\n",
    "             'stalk-root',\n",
    "             'stalk-surface-above-ring',\n",
    "             'stalk-surface-below-ring',\n",
    "             'stalk-color-above-ring',\n",
    "             'stalk-color-below-ring',\n",
    "             'veil-type',\n",
    "             'veil-color',\n",
    "             'ring-number',\n",
    "             'ring-type',\n",
    "             'spore-print-color']]\n",
    "    return df"
   ]
  },
  {
   "cell_type": "code",
   "execution_count": 3,
   "metadata": {},
   "outputs": [],
   "source": [
    "df = read_data(\"Data/hongos.csv\")"
   ]
  },
  {
   "cell_type": "code",
   "execution_count": 4,
   "metadata": {},
   "outputs": [
    {
     "data": {
      "text/html": [
       "<div>\n",
       "<style scoped>\n",
       "    .dataframe tbody tr th:only-of-type {\n",
       "        vertical-align: middle;\n",
       "    }\n",
       "\n",
       "    .dataframe tbody tr th {\n",
       "        vertical-align: top;\n",
       "    }\n",
       "\n",
       "    .dataframe thead th {\n",
       "        text-align: right;\n",
       "    }\n",
       "</style>\n",
       "<table border=\"1\" class=\"dataframe\">\n",
       "  <thead>\n",
       "    <tr style=\"text-align: right;\">\n",
       "      <th></th>\n",
       "      <th>class</th>\n",
       "      <th>cap-shape</th>\n",
       "      <th>cap-surface</th>\n",
       "      <th>cap-color</th>\n",
       "      <th>bruises</th>\n",
       "      <th>gill-attachment</th>\n",
       "      <th>gill-spacing</th>\n",
       "      <th>gill-size</th>\n",
       "      <th>gill-color</th>\n",
       "      <th>stalk-shape</th>\n",
       "      <th>stalk-root</th>\n",
       "      <th>stalk-surface-above-ring</th>\n",
       "      <th>stalk-surface-below-ring</th>\n",
       "      <th>stalk-color-above-ring</th>\n",
       "      <th>stalk-color-below-ring</th>\n",
       "      <th>veil-type</th>\n",
       "      <th>veil-color</th>\n",
       "      <th>ring-number</th>\n",
       "      <th>ring-type</th>\n",
       "      <th>spore-print-color</th>\n",
       "    </tr>\n",
       "  </thead>\n",
       "  <tbody>\n",
       "    <tr>\n",
       "      <th>0</th>\n",
       "      <td>p</td>\n",
       "      <td>x</td>\n",
       "      <td>s</td>\n",
       "      <td>n</td>\n",
       "      <td>t</td>\n",
       "      <td>f</td>\n",
       "      <td>c</td>\n",
       "      <td>n</td>\n",
       "      <td>k</td>\n",
       "      <td>e</td>\n",
       "      <td>e</td>\n",
       "      <td>s</td>\n",
       "      <td>s</td>\n",
       "      <td>w</td>\n",
       "      <td>w</td>\n",
       "      <td>p</td>\n",
       "      <td>w</td>\n",
       "      <td>o</td>\n",
       "      <td>p</td>\n",
       "      <td>k</td>\n",
       "    </tr>\n",
       "    <tr>\n",
       "      <th>1</th>\n",
       "      <td>e</td>\n",
       "      <td>x</td>\n",
       "      <td>s</td>\n",
       "      <td>y</td>\n",
       "      <td>t</td>\n",
       "      <td>f</td>\n",
       "      <td>c</td>\n",
       "      <td>b</td>\n",
       "      <td>k</td>\n",
       "      <td>e</td>\n",
       "      <td>c</td>\n",
       "      <td>s</td>\n",
       "      <td>s</td>\n",
       "      <td>w</td>\n",
       "      <td>w</td>\n",
       "      <td>p</td>\n",
       "      <td>w</td>\n",
       "      <td>o</td>\n",
       "      <td>p</td>\n",
       "      <td>n</td>\n",
       "    </tr>\n",
       "    <tr>\n",
       "      <th>2</th>\n",
       "      <td>e</td>\n",
       "      <td>b</td>\n",
       "      <td>s</td>\n",
       "      <td>w</td>\n",
       "      <td>t</td>\n",
       "      <td>f</td>\n",
       "      <td>c</td>\n",
       "      <td>b</td>\n",
       "      <td>n</td>\n",
       "      <td>e</td>\n",
       "      <td>c</td>\n",
       "      <td>s</td>\n",
       "      <td>s</td>\n",
       "      <td>w</td>\n",
       "      <td>w</td>\n",
       "      <td>p</td>\n",
       "      <td>w</td>\n",
       "      <td>o</td>\n",
       "      <td>p</td>\n",
       "      <td>n</td>\n",
       "    </tr>\n",
       "    <tr>\n",
       "      <th>3</th>\n",
       "      <td>p</td>\n",
       "      <td>x</td>\n",
       "      <td>y</td>\n",
       "      <td>w</td>\n",
       "      <td>t</td>\n",
       "      <td>f</td>\n",
       "      <td>c</td>\n",
       "      <td>n</td>\n",
       "      <td>n</td>\n",
       "      <td>e</td>\n",
       "      <td>e</td>\n",
       "      <td>s</td>\n",
       "      <td>s</td>\n",
       "      <td>w</td>\n",
       "      <td>w</td>\n",
       "      <td>p</td>\n",
       "      <td>w</td>\n",
       "      <td>o</td>\n",
       "      <td>p</td>\n",
       "      <td>k</td>\n",
       "    </tr>\n",
       "    <tr>\n",
       "      <th>4</th>\n",
       "      <td>e</td>\n",
       "      <td>x</td>\n",
       "      <td>s</td>\n",
       "      <td>g</td>\n",
       "      <td>f</td>\n",
       "      <td>f</td>\n",
       "      <td>w</td>\n",
       "      <td>b</td>\n",
       "      <td>k</td>\n",
       "      <td>t</td>\n",
       "      <td>e</td>\n",
       "      <td>s</td>\n",
       "      <td>s</td>\n",
       "      <td>w</td>\n",
       "      <td>w</td>\n",
       "      <td>p</td>\n",
       "      <td>w</td>\n",
       "      <td>o</td>\n",
       "      <td>e</td>\n",
       "      <td>n</td>\n",
       "    </tr>\n",
       "  </tbody>\n",
       "</table>\n",
       "</div>"
      ],
      "text/plain": [
       "  class cap-shape cap-surface cap-color bruises gill-attachment gill-spacing  \\\n",
       "0     p         x           s         n       t               f            c   \n",
       "1     e         x           s         y       t               f            c   \n",
       "2     e         b           s         w       t               f            c   \n",
       "3     p         x           y         w       t               f            c   \n",
       "4     e         x           s         g       f               f            w   \n",
       "\n",
       "  gill-size gill-color stalk-shape stalk-root stalk-surface-above-ring  \\\n",
       "0         n          k           e          e                        s   \n",
       "1         b          k           e          c                        s   \n",
       "2         b          n           e          c                        s   \n",
       "3         n          n           e          e                        s   \n",
       "4         b          k           t          e                        s   \n",
       "\n",
       "  stalk-surface-below-ring stalk-color-above-ring stalk-color-below-ring  \\\n",
       "0                        s                      w                      w   \n",
       "1                        s                      w                      w   \n",
       "2                        s                      w                      w   \n",
       "3                        s                      w                      w   \n",
       "4                        s                      w                      w   \n",
       "\n",
       "  veil-type veil-color ring-number ring-type spore-print-color  \n",
       "0         p          w           o         p                 k  \n",
       "1         p          w           o         p                 n  \n",
       "2         p          w           o         p                 n  \n",
       "3         p          w           o         p                 k  \n",
       "4         p          w           o         e                 n  "
      ]
     },
     "execution_count": 4,
     "metadata": {},
     "output_type": "execute_result"
    }
   ],
   "source": [
    "df.head()"
   ]
  },
  {
   "cell_type": "code",
   "execution_count": 5,
   "metadata": {},
   "outputs": [],
   "source": [
    "def clean_data(df):\n",
    "    n_nulls = df.isnull().sum() / df.shape[0]\n",
    "    new_df = df[n_nulls[n_nulls < 0.5].index]  \n",
    "    new_df = new_df.dropna()\n",
    "    return new_df"
   ]
  },
  {
   "cell_type": "code",
   "execution_count": 6,
   "metadata": {},
   "outputs": [],
   "source": [
    "def transform_data(df):\n",
    "    df = df.apply(preprocessing.LabelEncoder().fit_transform)\n",
    "    return df"
   ]
  },
  {
   "cell_type": "code",
   "execution_count": 7,
   "metadata": {},
   "outputs": [],
   "source": [
    "def split_data(df, train, test):\n",
    "    n = df.shape[0]\n",
    "    n_train = int(np.round(n * train, 0))\n",
    "    train = df.sample(n_train)\n",
    "    test = df.loc[~df.index.isin(train.index)]\n",
    "    return {'train': train, 'test': test}\n",
    "    "
   ]
  },
  {
   "cell_type": "code",
   "execution_count": 9,
   "metadata": {},
   "outputs": [],
   "source": [
    "data_raw = read_data('Data\\hongos.csv')\n",
    "cleaned_data = clean_data(data_raw)\n",
    "trans_data = transform_data(cleaned_data)\n",
    "split = split_data(trans_data, 0.7, 0.3)"
   ]
  },
  {
   "cell_type": "code",
   "execution_count": 10,
   "metadata": {},
   "outputs": [
    {
     "data": {
      "text/plain": [
       "(5687, 20)"
      ]
     },
     "execution_count": 10,
     "metadata": {},
     "output_type": "execute_result"
    }
   ],
   "source": [
    "split['train'].shape"
   ]
  },
  {
   "cell_type": "markdown",
   "metadata": {},
   "source": [
    "### Árboles de Decisión"
   ]
  },
  {
   "cell_type": "markdown",
   "metadata": {},
   "source": [
    "En la librería skit-learn, la función para el ajuste de árboles de decisión es ```DecisionTreeClassifier```, dentro del módulo ```tree```. Se puede usar simplemente entregando la matriz de features y el vector de labels.\n",
    "\n"
   ]
  },
  {
   "cell_type": "code",
   "execution_count": 11,
   "metadata": {},
   "outputs": [],
   "source": [
    "datos = split\n",
    "\n",
    "X = datos['train'][['cap-shape', 'cap-surface', 'cap-color']]\n",
    "Y = datos['train'][['class']]\n",
    "\n",
    "clf = tree.DecisionTreeClassifier(max_depth = 3)\n",
    "clf = clf.fit(X, Y)"
   ]
  },
  {
   "cell_type": "code",
   "execution_count": 12,
   "metadata": {},
   "outputs": [
    {
     "data": {
      "text/plain": [
       "DecisionTreeClassifier(class_weight=None, criterion='gini', max_depth=3,\n",
       "            max_features=None, max_leaf_nodes=None,\n",
       "            min_impurity_decrease=0.0, min_impurity_split=None,\n",
       "            min_samples_leaf=1, min_samples_split=2,\n",
       "            min_weight_fraction_leaf=0.0, presort=False, random_state=None,\n",
       "            splitter='best')"
      ]
     },
     "execution_count": 12,
     "metadata": {},
     "output_type": "execute_result"
    }
   ],
   "source": [
    "clf"
   ]
  },
  {
   "cell_type": "markdown",
   "metadata": {},
   "source": [
    "El modelo ya se encuentra ajustado, vamos a hacer una pequeña predicción"
   ]
  },
  {
   "cell_type": "code",
   "execution_count": 13,
   "metadata": {},
   "outputs": [
    {
     "data": {
      "text/plain": [
       "array([1, 0, 1, ..., 1, 1, 1])"
      ]
     },
     "execution_count": 13,
     "metadata": {},
     "output_type": "execute_result"
    }
   ],
   "source": [
    "clf.predict(datos['test'][['cap-shape', 'cap-surface', 'cap-color']])"
   ]
  },
  {
   "cell_type": "markdown",
   "metadata": {},
   "source": [
    "Una forma rápida de evaluar es mediante la importancia de las características (basados en el gini)"
   ]
  },
  {
   "cell_type": "code",
   "execution_count": 14,
   "metadata": {},
   "outputs": [
    {
     "data": {
      "text/plain": [
       "array([0.2196326, 0.2091049, 0.5712625])"
      ]
     },
     "execution_count": 14,
     "metadata": {},
     "output_type": "execute_result"
    }
   ],
   "source": [
    "clf.feature_importances_"
   ]
  },
  {
   "cell_type": "markdown",
   "metadata": {},
   "source": [
    "Más detalles del ajuste de árboles:\n",
    "\n",
    "```DecisionTreeClassifier(criterion=’gini’, max_depth=None, min_samples_split=2, min_samples_leaf=1)```\n",
    "\n",
    "Descripción de ellos\n",
    "\n",
    "- **criterion:** El criterio para el ajuste del árbol, puede ser por gine para el CART o entropy para ID3\n",
    "- **max_depth:** profundidad máxima del árbol, si es None sigue hasta que todas las hojas tienen una categoría o no quedan datos\n",
    "- **min_samples_split:** Mínima cantidad de muestras para hacer una división.\n",
    "- **min_samples_leaf:** Mínima cantidad de muestras para ser una hoja.\n",
    "- **max_leaf_nodes:** Máxima cantidad de hojas\n"
   ]
  },
  {
   "cell_type": "markdown",
   "metadata": {},
   "source": [
    "volvamos al árbol anterior."
   ]
  },
  {
   "cell_type": "code",
   "execution_count": 15,
   "metadata": {},
   "outputs": [],
   "source": [
    "X = datos['train'][['cap-shape', 'cap-surface', 'cap-color']]\n",
    "Y = datos['train'][['class']]\n",
    "\n",
    "clf = tree.DecisionTreeClassifier(max_depth = 3, criterion = 'entropy')\n",
    "clf = clf.fit(X, Y)\n"
   ]
  },
  {
   "cell_type": "code",
   "execution_count": 16,
   "metadata": {},
   "outputs": [],
   "source": [
    "from sklearn.metrics import confusion_matrix"
   ]
  },
  {
   "cell_type": "code",
   "execution_count": 17,
   "metadata": {},
   "outputs": [],
   "source": [
    "y_pred = clf.predict(datos['test'][['cap-shape', 'cap-surface', 'cap-color']])\n",
    "y_real = datos['test'][['class']]\n",
    "\n",
    "m = confusion_matrix(y_real, y_pred)"
   ]
  },
  {
   "cell_type": "code",
   "execution_count": 18,
   "metadata": {},
   "outputs": [
    {
     "data": {
      "text/plain": [
       "array([[ 573,  696],\n",
       "       [ 154, 1014]], dtype=int64)"
      ]
     },
     "execution_count": 18,
     "metadata": {},
     "output_type": "execute_result"
    }
   ],
   "source": [
    "m"
   ]
  },
  {
   "cell_type": "code",
   "execution_count": 19,
   "metadata": {},
   "outputs": [],
   "source": [
    "accuracy = (m[0, 0] + m[1,1]) / (m[0,0] + m[1,1] + m[0,1] + m[1,0])"
   ]
  },
  {
   "cell_type": "code",
   "execution_count": 20,
   "metadata": {},
   "outputs": [
    {
     "data": {
      "text/plain": [
       "0.6512105047189167"
      ]
     },
     "execution_count": 20,
     "metadata": {},
     "output_type": "execute_result"
    }
   ],
   "source": [
    "accuracy"
   ]
  },
  {
   "cell_type": "markdown",
   "metadata": {},
   "source": [
    "Nuestra precisión es de 65,9% nada mal, hagamos un árbol más complejo."
   ]
  },
  {
   "cell_type": "code",
   "execution_count": 21,
   "metadata": {},
   "outputs": [
    {
     "data": {
      "text/plain": [
       "0.7053754616331556"
      ]
     },
     "execution_count": 21,
     "metadata": {},
     "output_type": "execute_result"
    }
   ],
   "source": [
    "clf2 = tree.DecisionTreeClassifier(max_depth = 10)\n",
    "clf2 = clf2.fit(X, Y)\n",
    "\n",
    "y_pred = clf2.predict(datos['test'][['cap-shape', 'cap-surface', 'cap-color']])\n",
    "y_real = datos['test'][['class']]\n",
    "\n",
    "m = confusion_matrix(y_real, y_pred)\n",
    "accuracy = (m[0, 0] + m[1,1]) / (m[0,0] + m[1,1] + m[0,1] + m[1,0])\n",
    "accuracy\n"
   ]
  },
  {
   "cell_type": "code",
   "execution_count": 22,
   "metadata": {},
   "outputs": [
    {
     "data": {
      "text/plain": [
       "array([[926, 343],\n",
       "       [375, 793]], dtype=int64)"
      ]
     },
     "execution_count": 22,
     "metadata": {},
     "output_type": "execute_result"
    }
   ],
   "source": [
    "m"
   ]
  },
  {
   "cell_type": "markdown",
   "metadata": {},
   "source": [
    "Nuestro algoritmo ahora tiene aún más precisión, probemos agregando más variables."
   ]
  },
  {
   "cell_type": "code",
   "execution_count": 23,
   "metadata": {},
   "outputs": [
    {
     "data": {
      "text/plain": [
       "0.9076733688961839"
      ]
     },
     "execution_count": 23,
     "metadata": {},
     "output_type": "execute_result"
    }
   ],
   "source": [
    "X = datos['train'][[\n",
    "            'cap-shape',\n",
    "             'cap-surface',\n",
    "             'cap-color',\n",
    "             'bruises',\n",
    "             'gill-attachment']]\n",
    "\n",
    "clf3 = tree.DecisionTreeClassifier(max_depth = None)\n",
    "clf3 = clf3.fit(X, Y)\n",
    "\n",
    "y_pred = clf3.predict(datos['test'][[\n",
    "            'cap-shape',\n",
    "             'cap-surface',\n",
    "             'cap-color',\n",
    "             'bruises',\n",
    "             'gill-attachment'\n",
    "]])\n",
    "y_real = datos['test'][['class']]\n",
    "\n",
    "m = confusion_matrix(y_real, y_pred)\n",
    "accuracy = (m[0, 0] + m[1,1]) / (m[0,0] + m[1,1] + m[0,1] + m[1,0])\n",
    "accuracy\n"
   ]
  },
  {
   "cell_type": "markdown",
   "metadata": {},
   "source": [
    "Encontramos una precisión muy buena, veamos el árbol."
   ]
  },
  {
   "cell_type": "code",
   "execution_count": 24,
   "metadata": {},
   "outputs": [],
   "source": [
    "tree.export_graphviz(clf3,feature_names = ['cap-shape',\n",
    "             'cap-surface',\n",
    "             'cap-color',\n",
    "             'bruises',\n",
    "             'gill-attachment'], out_file = 'tree2.dot')   "
   ]
  },
  {
   "cell_type": "markdown",
   "metadata": {},
   "source": [
    "por último podemos un poco el árbol reduciendo el número de hojas"
   ]
  },
  {
   "cell_type": "code",
   "execution_count": 57,
   "metadata": {},
   "outputs": [
    {
     "data": {
      "text/plain": [
       "0.8091916290521133"
      ]
     },
     "execution_count": 57,
     "metadata": {},
     "output_type": "execute_result"
    }
   ],
   "source": [
    "X = datos['train'][[\n",
    "            'cap-shape',\n",
    "             'cap-surface',\n",
    "             'cap-color',\n",
    "             'bruises',\n",
    "             'gill-attachment']]\n",
    "\n",
    "clf4 = tree.DecisionTreeClassifier(max_depth = None, max_leaf_nodes = 10)\n",
    "clf4 = clf4.fit(X, Y)\n",
    "\n",
    "y_pred = clf4.predict(datos['test'][[\n",
    "            'cap-shape',\n",
    "             'cap-surface',\n",
    "             'cap-color',\n",
    "             'bruises',\n",
    "             'gill-attachment'\n",
    "]])\n",
    "y_real = datos['test'][['class']]\n",
    "\n",
    "m = confusion_matrix(y_real, y_pred)\n",
    "accuracy = (m[0, 0] + m[1,1]) / (m[0,0] + m[1,1] + m[0,1] + m[1,0])\n",
    "accuracy\n"
   ]
  },
  {
   "cell_type": "code",
   "execution_count": null,
   "metadata": {},
   "outputs": [],
   "source": [
    "tree.export_graphviz(clf4,feature_names = ['cap-shape',\n",
    "             'cap-surface',\n",
    "             'cap-color',\n",
    "             'bruises',\n",
    "             'gill-attachment'], out_file = 'tree3.dot') "
   ]
  },
  {
   "cell_type": "markdown",
   "metadata": {},
   "source": [
    "por mucho que haya bajado el accuracy, nos permite tener una mejor comprensión del proceso."
   ]
  }
 ],
 "metadata": {
  "kernelspec": {
   "display_name": "Python 3",
   "language": "python",
   "name": "python3"
  },
  "language_info": {
   "codemirror_mode": {
    "name": "ipython",
    "version": 3
   },
   "file_extension": ".py",
   "mimetype": "text/x-python",
   "name": "python",
   "nbconvert_exporter": "python",
   "pygments_lexer": "ipython3",
   "version": "3.7.1"
  }
 },
 "nbformat": 4,
 "nbformat_minor": 2
}
