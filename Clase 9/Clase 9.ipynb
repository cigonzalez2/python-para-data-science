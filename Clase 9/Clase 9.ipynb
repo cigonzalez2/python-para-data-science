{
 "cells": [
  {
   "cell_type": "markdown",
   "metadata": {},
   "source": [
    "# Clase 12: Redes neuronales artificiales"
   ]
  },
  {
   "cell_type": "code",
   "execution_count": 41,
   "metadata": {},
   "outputs": [],
   "source": [
    "import numpy as np\n",
    "import pandas as pd\n",
    "from matplotlib import pyplot as plt\n",
    "from sklearn.metrics import confusion_matrix\n",
    "from sklearn.metrics import classification_report\n",
    "from sklearn.metrics import accuracy_score"
   ]
  },
  {
   "cell_type": "code",
   "execution_count": 42,
   "metadata": {},
   "outputs": [],
   "source": [
    "class Perceptron(object):\n",
    "\n",
    "    def __init__(self, n_signals, n_epoch = 100, t_aprendizaje = 0.01):\n",
    "        self.n_epoch = n_epoch\n",
    "        # Tasa de aprendizaje, que tan rápido queremos actualizar nuestros pesos\n",
    "        self.t_aprendizaje = t_aprendizaje\n",
    "        # Definir pesos iniciales, las señales más un 1 que es el intercepto o sesgo\n",
    "        self.weights = np.zeros(n_signals + 1)\n",
    "\n",
    "    def predict(self, inputs):\n",
    "        # se define la suma de todo el predictor lineal para una fila\n",
    "        summation = np.dot(inputs, self.weights[1:]) + self.weights[0]\n",
    "        # Función de activación, la más simple el hardlimit, si mayor a cero, uno; en otro caso cero\n",
    "        if summation > 0:\n",
    "          activation = 1\n",
    "        else:\n",
    "          activation = 0            \n",
    "        return activation\n",
    "\n",
    "    def train(self, inputs, labels):\n",
    "        for _ in range(self.n_epoch):\n",
    "            # Esto es solo para indicar al usuario en que estado va\n",
    "            if(_ % 10 == 0):\n",
    "                print(\"Trainning.. Epoch: \" + str(_))\n",
    "            # Recorrer uno a uno cada input y label\n",
    "            for i, l in zip(inputs, labels):\n",
    "                # Predecimos con los pesos iniciales\n",
    "                prediction = self.predict(i)\n",
    "                # Actualizamos los pesos de acuerdo a una función de perdida (predicción menos label).\n",
    "                # En caso de estar correcto, se queda el peso actual, caso contrario se va cambiando\n",
    "                self.weights[1:] = self.weights[1:] + self.t_aprendizaje * (l - prediction) * i\n",
    "                self.weights[0] = self.weights[0] + self.t_aprendizaje * (l - prediction)        \n",
    "        \n",
    "    def scoring(self, new_inputs):\n",
    "        self.preds = []\n",
    "        for i in zip(new_inputs):\n",
    "            self.preds.append(self.predict(i))"
   ]
  },
  {
   "cell_type": "markdown",
   "metadata": {},
   "source": [
    "Vamos a cargar datos de imágenes de ropa para validar esto. Estas son imágenes en escala de grises de 28$\\times$28 pixeles, en las que aparecen distintos tipo de prendas, en particular\n",
    "\n",
    "0. Poleras\n",
    "1. Pantalones\n",
    "2. Sudadera\n",
    "3. Vestido\n",
    "4. Chaqueta\n",
    "5. Sandalia\n",
    "6. Camisa\n",
    "7. Sneaker\n",
    "8. Bolsa\n",
    "9. Bota \n",
    "\n",
    "Aquí el problema es a partir de una imagen simple, distinguir que es por ejemplo una polera.\n",
    "https://www.kaggle.com/zalando-research/fashionmnist"
   ]
  },
  {
   "cell_type": "code",
   "execution_count": 43,
   "metadata": {},
   "outputs": [],
   "source": [
    "train = pd.read_csv('fashion-mnist_train.csv')\n",
    "test = pd.read_csv('fashion-mnist_test.csv')"
   ]
  },
  {
   "cell_type": "code",
   "execution_count": 44,
   "metadata": {},
   "outputs": [
    {
     "data": {
      "text/html": [
       "<div>\n",
       "<style scoped>\n",
       "    .dataframe tbody tr th:only-of-type {\n",
       "        vertical-align: middle;\n",
       "    }\n",
       "\n",
       "    .dataframe tbody tr th {\n",
       "        vertical-align: top;\n",
       "    }\n",
       "\n",
       "    .dataframe thead th {\n",
       "        text-align: right;\n",
       "    }\n",
       "</style>\n",
       "<table border=\"1\" class=\"dataframe\">\n",
       "  <thead>\n",
       "    <tr style=\"text-align: right;\">\n",
       "      <th></th>\n",
       "      <th>label</th>\n",
       "      <th>pixel1</th>\n",
       "      <th>pixel2</th>\n",
       "      <th>pixel3</th>\n",
       "      <th>pixel4</th>\n",
       "      <th>pixel5</th>\n",
       "      <th>pixel6</th>\n",
       "      <th>pixel7</th>\n",
       "      <th>pixel8</th>\n",
       "      <th>pixel9</th>\n",
       "      <th>...</th>\n",
       "      <th>pixel775</th>\n",
       "      <th>pixel776</th>\n",
       "      <th>pixel777</th>\n",
       "      <th>pixel778</th>\n",
       "      <th>pixel779</th>\n",
       "      <th>pixel780</th>\n",
       "      <th>pixel781</th>\n",
       "      <th>pixel782</th>\n",
       "      <th>pixel783</th>\n",
       "      <th>pixel784</th>\n",
       "    </tr>\n",
       "  </thead>\n",
       "  <tbody>\n",
       "    <tr>\n",
       "      <th>0</th>\n",
       "      <td>2</td>\n",
       "      <td>0</td>\n",
       "      <td>0</td>\n",
       "      <td>0</td>\n",
       "      <td>0</td>\n",
       "      <td>0</td>\n",
       "      <td>0</td>\n",
       "      <td>0</td>\n",
       "      <td>0</td>\n",
       "      <td>0</td>\n",
       "      <td>...</td>\n",
       "      <td>0</td>\n",
       "      <td>0</td>\n",
       "      <td>0</td>\n",
       "      <td>0</td>\n",
       "      <td>0</td>\n",
       "      <td>0</td>\n",
       "      <td>0</td>\n",
       "      <td>0</td>\n",
       "      <td>0</td>\n",
       "      <td>0</td>\n",
       "    </tr>\n",
       "    <tr>\n",
       "      <th>1</th>\n",
       "      <td>9</td>\n",
       "      <td>0</td>\n",
       "      <td>0</td>\n",
       "      <td>0</td>\n",
       "      <td>0</td>\n",
       "      <td>0</td>\n",
       "      <td>0</td>\n",
       "      <td>0</td>\n",
       "      <td>0</td>\n",
       "      <td>0</td>\n",
       "      <td>...</td>\n",
       "      <td>0</td>\n",
       "      <td>0</td>\n",
       "      <td>0</td>\n",
       "      <td>0</td>\n",
       "      <td>0</td>\n",
       "      <td>0</td>\n",
       "      <td>0</td>\n",
       "      <td>0</td>\n",
       "      <td>0</td>\n",
       "      <td>0</td>\n",
       "    </tr>\n",
       "    <tr>\n",
       "      <th>2</th>\n",
       "      <td>6</td>\n",
       "      <td>0</td>\n",
       "      <td>0</td>\n",
       "      <td>0</td>\n",
       "      <td>0</td>\n",
       "      <td>0</td>\n",
       "      <td>0</td>\n",
       "      <td>0</td>\n",
       "      <td>5</td>\n",
       "      <td>0</td>\n",
       "      <td>...</td>\n",
       "      <td>0</td>\n",
       "      <td>0</td>\n",
       "      <td>0</td>\n",
       "      <td>30</td>\n",
       "      <td>43</td>\n",
       "      <td>0</td>\n",
       "      <td>0</td>\n",
       "      <td>0</td>\n",
       "      <td>0</td>\n",
       "      <td>0</td>\n",
       "    </tr>\n",
       "    <tr>\n",
       "      <th>3</th>\n",
       "      <td>0</td>\n",
       "      <td>0</td>\n",
       "      <td>0</td>\n",
       "      <td>0</td>\n",
       "      <td>1</td>\n",
       "      <td>2</td>\n",
       "      <td>0</td>\n",
       "      <td>0</td>\n",
       "      <td>0</td>\n",
       "      <td>0</td>\n",
       "      <td>...</td>\n",
       "      <td>3</td>\n",
       "      <td>0</td>\n",
       "      <td>0</td>\n",
       "      <td>0</td>\n",
       "      <td>0</td>\n",
       "      <td>1</td>\n",
       "      <td>0</td>\n",
       "      <td>0</td>\n",
       "      <td>0</td>\n",
       "      <td>0</td>\n",
       "    </tr>\n",
       "    <tr>\n",
       "      <th>4</th>\n",
       "      <td>3</td>\n",
       "      <td>0</td>\n",
       "      <td>0</td>\n",
       "      <td>0</td>\n",
       "      <td>0</td>\n",
       "      <td>0</td>\n",
       "      <td>0</td>\n",
       "      <td>0</td>\n",
       "      <td>0</td>\n",
       "      <td>0</td>\n",
       "      <td>...</td>\n",
       "      <td>0</td>\n",
       "      <td>0</td>\n",
       "      <td>0</td>\n",
       "      <td>0</td>\n",
       "      <td>0</td>\n",
       "      <td>0</td>\n",
       "      <td>0</td>\n",
       "      <td>0</td>\n",
       "      <td>0</td>\n",
       "      <td>0</td>\n",
       "    </tr>\n",
       "  </tbody>\n",
       "</table>\n",
       "<p>5 rows × 785 columns</p>\n",
       "</div>"
      ],
      "text/plain": [
       "   label  pixel1  pixel2  pixel3  pixel4  pixel5  pixel6  pixel7  pixel8  \\\n",
       "0      2       0       0       0       0       0       0       0       0   \n",
       "1      9       0       0       0       0       0       0       0       0   \n",
       "2      6       0       0       0       0       0       0       0       5   \n",
       "3      0       0       0       0       1       2       0       0       0   \n",
       "4      3       0       0       0       0       0       0       0       0   \n",
       "\n",
       "   pixel9    ...     pixel775  pixel776  pixel777  pixel778  pixel779  \\\n",
       "0       0    ...            0         0         0         0         0   \n",
       "1       0    ...            0         0         0         0         0   \n",
       "2       0    ...            0         0         0        30        43   \n",
       "3       0    ...            3         0         0         0         0   \n",
       "4       0    ...            0         0         0         0         0   \n",
       "\n",
       "   pixel780  pixel781  pixel782  pixel783  pixel784  \n",
       "0         0         0         0         0         0  \n",
       "1         0         0         0         0         0  \n",
       "2         0         0         0         0         0  \n",
       "3         1         0         0         0         0  \n",
       "4         0         0         0         0         0  \n",
       "\n",
       "[5 rows x 785 columns]"
      ]
     },
     "execution_count": 44,
     "metadata": {},
     "output_type": "execute_result"
    }
   ],
   "source": [
    "train.head()"
   ]
  },
  {
   "cell_type": "markdown",
   "metadata": {},
   "source": [
    "para que se entienda, vamos a colorear la fila 3 como imagen"
   ]
  },
  {
   "cell_type": "code",
   "execution_count": 45,
   "metadata": {},
   "outputs": [
    {
     "data": {
      "text/plain": [
       "<matplotlib.image.AxesImage at 0x227d0122c18>"
      ]
     },
     "execution_count": 45,
     "metadata": {},
     "output_type": "execute_result"
    },
    {
     "data": {
      "image/png": "[encoded data removed]",
      "text/plain": [
       "<Figure size 432x288 with 1 Axes>"
      ]
     },
     "metadata": {
      "needs_background": "light"
     },
     "output_type": "display_data"
    }
   ],
   "source": [
    "polera = np.matrix(train.loc[200, ][1:]).reshape(28,28)\n",
    "plt.imshow(polera)"
   ]
  },
  {
   "cell_type": "markdown",
   "metadata": {},
   "source": [
    "En problemas como estos, metodologías poco interpretables hacen sentido, buscamos encontrar el pratrón de un conjunto de variables que no nos dicen nada. La data ya está balanceada, pero tomaremos todas las poleras contra una muestra del mismo tamaño de cualquier otra cosa\n"
   ]
  },
  {
   "cell_type": "code",
   "execution_count": 47,
   "metadata": {},
   "outputs": [],
   "source": [
    "train_p = train[train.label == 0]\n",
    "train_np = train[train.label != 0].sample(train_p.shape[0])\n",
    "train_n = (pd.concat([train_p, train_np]).\n",
    "          assign(label = lambda x: (x.label == 0) * 1))"
   ]
  },
  {
   "cell_type": "code",
   "execution_count": 16,
   "metadata": {},
   "outputs": [
    {
     "name": "stdout",
     "output_type": "stream",
     "text": [
      "Trainning.. Epoch: 0\n",
      "Trainning.. Epoch: 10\n",
      "Trainning.. Epoch: 20\n",
      "Trainning.. Epoch: 30\n",
      "Trainning.. Epoch: 40\n",
      "Trainning.. Epoch: 50\n",
      "Trainning.. Epoch: 60\n",
      "Trainning.. Epoch: 70\n",
      "Trainning.. Epoch: 80\n",
      "Trainning.. Epoch: 90\n",
      "Trainning.. Epoch: 100\n",
      "Trainning.. Epoch: 110\n",
      "Trainning.. Epoch: 120\n",
      "Trainning.. Epoch: 130\n",
      "Trainning.. Epoch: 140\n",
      "Trainning.. Epoch: 150\n",
      "Trainning.. Epoch: 160\n",
      "Trainning.. Epoch: 170\n",
      "Trainning.. Epoch: 180\n",
      "Trainning.. Epoch: 190\n"
     ]
    }
   ],
   "source": [
    "X = np.matrix(train_n.iloc[:,1:785])\n",
    "y = np.matrix(train_n['label'])\n",
    "\n",
    "perc = Perceptron(n_signals = 784, n_epoch = 200, t_aprendizaje = 0.5)\n",
    "fit = perc.train(X, np.ravel(y))"
   ]
  },
  {
   "cell_type": "code",
   "execution_count": null,
   "metadata": {},
   "outputs": [],
   "source": []
  },
  {
   "cell_type": "markdown",
   "metadata": {},
   "source": [
    "Dado que tenemos los pesos, podemos scorear la nueva data"
   ]
  },
  {
   "cell_type": "code",
   "execution_count": 48,
   "metadata": {},
   "outputs": [],
   "source": [
    "test_p = test[test.label == 0]\n",
    "test_np = test[test.label != 0].sample(1000)\n",
    "test_n = (pd.concat([test_p, test_np]).\n",
    "          assign(label = lambda x: (x.label == 0) * 1))"
   ]
  },
  {
   "cell_type": "code",
   "execution_count": 49,
   "metadata": {},
   "outputs": [
    {
     "name": "stdout",
     "output_type": "stream",
     "text": [
      "[[997   3]\n",
      " [989  11]]\n",
      "0.504\n"
     ]
    }
   ],
   "source": [
    "X_te = np.matrix(test_n.iloc[:,1:785])\n",
    "y_te = np.matrix(test_n['label'])\n",
    "perc.scoring(X_te)\n",
    "preds = np.array(perc.preds)\n",
    "print(confusion_matrix(y_te.T, preds))\n",
    "print(accuracy_score(y_te.T, preds))"
   ]
  },
  {
   "cell_type": "markdown",
   "metadata": {},
   "source": [
    "## Uso de pytorch\n",
    "\n",
    "Pytorch para las computaciones hace uso de una estructura llamada tensor, en escencia un tensor es un arreglo como los de numpy, pero tiene ventajas como la capacidad de ser distribuido de forma más sencilla; tienen la capacidad de ser distribuidos en una GPU lo cual permite acelerar los cómputos. Hoy usaremos CPU la cual puede ser un poco más lenta."
   ]
  },
  {
   "cell_type": "code",
   "execution_count": 28,
   "metadata": {},
   "outputs": [],
   "source": [
    "import torch\n",
    "\n",
    "dtype = torch.float\n",
    "device = torch.device(\"cpu\")"
   ]
  },
  {
   "cell_type": "markdown",
   "metadata": {},
   "source": [
    "Un tensor se puede construir especificando las dimensiones del mismo"
   ]
  },
  {
   "cell_type": "code",
   "execution_count": 29,
   "metadata": {},
   "outputs": [
    {
     "data": {
      "text/plain": [
       "tensor([[1.0102e-38, 5.9694e-39, 8.9082e-39, 1.0194e-38, 9.1837e-39],\n",
       "        [4.6837e-39, 9.9184e-39, 9.0000e-39, 1.0561e-38, 1.0653e-38],\n",
       "        [4.1327e-39, 8.9082e-39, 9.8265e-39, 9.4592e-39, 1.0561e-38],\n",
       "        [1.0653e-38, 1.0469e-38, 9.5510e-39, 8.7245e-39, 1.0286e-38],\n",
       "        [9.0919e-39, 9.0919e-39, 9.2755e-39, 8.7245e-39, 8.7245e-39]])"
      ]
     },
     "execution_count": 29,
     "metadata": {},
     "output_type": "execute_result"
    }
   ],
   "source": [
    "torch.empty(5, 5)"
   ]
  },
  {
   "cell_type": "code",
   "execution_count": 30,
   "metadata": {},
   "outputs": [
    {
     "data": {
      "text/plain": [
       "tensor([[[[0., 0.],\n",
       "          [0., 0.]],\n",
       "\n",
       "         [[0., 0.],\n",
       "          [0., 0.]]],\n",
       "\n",
       "\n",
       "        [[[0., 0.],\n",
       "          [0., 0.]],\n",
       "\n",
       "         [[0., 0.],\n",
       "          [0., 0.]]]])"
      ]
     },
     "execution_count": 30,
     "metadata": {},
     "output_type": "execute_result"
    }
   ],
   "source": [
    "torch.empty(2, 2, 2, 2)"
   ]
  },
  {
   "cell_type": "markdown",
   "metadata": {},
   "source": [
    "O bien si se desea con ceros"
   ]
  },
  {
   "cell_type": "code",
   "execution_count": 31,
   "metadata": {},
   "outputs": [
    {
     "data": {
      "text/plain": [
       "tensor([[0., 0., 0., 0., 0.],\n",
       "        [0., 0., 0., 0., 0.],\n",
       "        [0., 0., 0., 0., 0.],\n",
       "        [0., 0., 0., 0., 0.],\n",
       "        [0., 0., 0., 0., 0.]])"
      ]
     },
     "execution_count": 31,
     "metadata": {},
     "output_type": "execute_result"
    }
   ],
   "source": [
    "torch.zeros(5, 5)"
   ]
  },
  {
   "cell_type": "markdown",
   "metadata": {},
   "source": [
    "También puedes construirlos a partir de otro tensor, esto resulta útil para \"reciclar\" las propiedades del tensor anterior"
   ]
  },
  {
   "cell_type": "code",
   "execution_count": 32,
   "metadata": {},
   "outputs": [
    {
     "data": {
      "text/plain": [
       "tensor([[0.4269, 0.0801, 0.5533, 0.7474, 0.7992],\n",
       "        [0.7795, 0.4499, 0.3900, 0.9425, 0.0812],\n",
       "        [0.5940, 0.7518, 0.2709, 0.7906, 0.7945],\n",
       "        [0.4585, 0.1638, 0.5845, 0.5289, 0.8291],\n",
       "        [0.5642, 0.6720, 0.4618, 0.0550, 0.2076]])"
      ]
     },
     "execution_count": 32,
     "metadata": {},
     "output_type": "execute_result"
    }
   ],
   "source": [
    "t = torch.zeros(5, 5)\n",
    "torch.rand_like(t)"
   ]
  },
  {
   "cell_type": "markdown",
   "metadata": {},
   "source": [
    "Las operaciones son similares a las de numpy"
   ]
  },
  {
   "cell_type": "code",
   "execution_count": 33,
   "metadata": {},
   "outputs": [],
   "source": [
    "s = torch.empty(5, 5)"
   ]
  },
  {
   "cell_type": "code",
   "execution_count": 34,
   "metadata": {},
   "outputs": [
    {
     "name": "stdout",
     "output_type": "stream",
     "text": [
      "tensor([[-6.8695e-22,  7.7212e-43,  1.4013e-45,  0.0000e+00,  0.0000e+00],\n",
      "        [ 0.0000e+00,  2.1019e-44,  0.0000e+00, -2.7867e-17,  7.7212e-43],\n",
      "        [ 1.4013e-45,  0.0000e+00,  0.0000e+00,  0.0000e+00,  2.1019e-44],\n",
      "        [ 0.0000e+00, -3.1646e-27,  7.7212e-43,  1.4013e-45,  0.0000e+00],\n",
      "        [ 0.0000e+00,  0.0000e+00,  2.1019e-44,  0.0000e+00, -1.8157e-19]])\n",
      "tensor([[-0., 0., 0., 0., 0.],\n",
      "        [0., 0., 0., -0., 0.],\n",
      "        [0., 0., 0., 0., 0.],\n",
      "        [0., -0., 0., 0., 0.],\n",
      "        [0., 0., 0., 0., -0.]])\n",
      "torch.Size([5, 5])\n"
     ]
    }
   ],
   "source": [
    "print(s + t)\n",
    "print(s * t)\n",
    "print(t.size())"
   ]
  },
  {
   "cell_type": "markdown",
   "metadata": {},
   "source": [
    "Los tensores pueden ser convertidos a arreglos de numpy y viceversa de forma bien directa."
   ]
  },
  {
   "cell_type": "code",
   "execution_count": 35,
   "metadata": {},
   "outputs": [
    {
     "name": "stdout",
     "output_type": "stream",
     "text": [
      "[[0. 0. 0. 0. 0.]\n",
      " [0. 0. 0. 0. 0.]\n",
      " [0. 0. 0. 0. 0.]\n",
      " [0. 0. 0. 0. 0.]\n",
      " [0. 0. 0. 0. 0.]]\n",
      "tensor([[0., 0., 0., 0., 0.],\n",
      "        [0., 0., 0., 0., 0.],\n",
      "        [0., 0., 0., 0., 0.],\n",
      "        [0., 0., 0., 0., 0.],\n",
      "        [0., 0., 0., 0., 0.]])\n"
     ]
    }
   ],
   "source": [
    "s = t.numpy()\n",
    "print(s)\n",
    "s = torch.from_numpy(s)\n",
    "print(s)"
   ]
  },
  {
   "cell_type": "markdown",
   "metadata": {},
   "source": [
    "Los tensores se les puede definir en que hardware correr, por defecto es la CPU pero se les puede definir que corran en GPU con la opción ```device```. \n",
    "\n",
    "Pytorch funciona sobre un grafo computacional, es decir un registro de todas las historias de las operaciones que va recibiendo los tensores, para y haciendo este seguimiento se aplica si se usa la especificación ```requieres_grad```"
   ]
  },
  {
   "cell_type": "code",
   "execution_count": 36,
   "metadata": {},
   "outputs": [
    {
     "name": "stdout",
     "output_type": "stream",
     "text": [
      "tensor([[2., 2., 2.],\n",
      "        [2., 2., 2.],\n",
      "        [2., 2., 2.]], grad_fn=<AddBackward0>)\n"
     ]
    }
   ],
   "source": [
    "x = torch.ones(3, 3, requires_grad=True)\n",
    "x2 = x + 1\n",
    "print(x2)"
   ]
  },
  {
   "cell_type": "code",
   "execution_count": 37,
   "metadata": {},
   "outputs": [
    {
     "data": {
      "text/plain": [
       "<AddBackward0 at 0x22797af87f0>"
      ]
     },
     "execution_count": 37,
     "metadata": {},
     "output_type": "execute_result"
    }
   ],
   "source": [
    "x2.grad_fn"
   ]
  },
  {
   "cell_type": "markdown",
   "metadata": {},
   "source": [
    "Dado que existe un seguimiento, pytorch tiene la capacidad de obtener los gradientes, por ejemplo acá se hace una función mátemática a los tensores. "
   ]
  },
  {
   "cell_type": "code",
   "execution_count": 38,
   "metadata": {},
   "outputs": [
    {
     "name": "stdout",
     "output_type": "stream",
     "text": [
      "tensor(8., grad_fn=<MeanBackward0>)\n"
     ]
    }
   ],
   "source": [
    "z = x2 * x2 * 2\n",
    "out = z.mean()\n",
    "\n",
    "print(out)"
   ]
  },
  {
   "cell_type": "markdown",
   "metadata": {},
   "source": [
    "Para calcular derivadas, se requiere hacer la operación backward primero, esto es para aplicar una metodología llamada **retropropagación** para el cálculo de gradientes"
   ]
  },
  {
   "cell_type": "code",
   "execution_count": 39,
   "metadata": {},
   "outputs": [],
   "source": [
    "out.backward()"
   ]
  },
  {
   "cell_type": "code",
   "execution_count": 40,
   "metadata": {},
   "outputs": [
    {
     "name": "stdout",
     "output_type": "stream",
     "text": [
      "tensor([[0.8889, 0.8889, 0.8889],\n",
      "        [0.8889, 0.8889, 0.8889],\n",
      "        [0.8889, 0.8889, 0.8889]])\n"
     ]
    }
   ],
   "source": [
    "print(x.grad)"
   ]
  },
  {
   "cell_type": "markdown",
   "metadata": {},
   "source": [
    "Para ir entendiendo el resultado, se hicieron tres operaciones, a $x$ se sumo 1, luego se elevó al cuadrado y se multiplicó por dos, por último se obtuvo el promedio, es decir\n",
    "\n",
    "$$out = \\frac{1}{9}\\sum_{i = 1}^{9} 2(x_i + 1)^2$$\n",
    "\n",
    "Si esto se deriva con respecto a $x_{ij}$ se obtiene que para cada elemento de la matriz es\n",
    "\n",
    "$$\\dfrac{\\partial~ out}{\\partial x_i} = \\frac{4}{9} (x_i + 1) $$\n",
    "\n",
    "Si se evalúa en $x_i$, los cuales eran todos unos, da $8/9$, es decir el resultado que nos muestra. Esto es bastante poderoso pues nos permite definir todo el flujo de operaciones y obtener un gradiente en un momento específico.\n",
    "\n",
    "En términos más generales, si nuestro out es un vector lo que se obteniene es el jacobiano diferenciando con respecto a los elementos de x\n",
    "\n",
    "\n",
    "$$\\begin{split}J=\\left(\\begin{array}{ccc}\n",
    " \\frac{\\partial y_{1}}{\\partial x_{1}} & \\cdots & \\frac{\\partial y_{1}}{\\partial x_{n}}\\\\\n",
    " \\vdots & \\ddots & \\vdots\\\\\n",
    " \\frac{\\partial y_{m}}{\\partial x_{1}} & \\cdots & \\frac{\\partial y_{m}}{\\partial x_{n}}\n",
    " \\end{array}\\right)\\end{split}$$\n"
   ]
  },
  {
   "cell_type": "markdown",
   "metadata": {},
   "source": [
    "El proceso típico para construir una red neuronal es\n",
    "\n",
    "- Definir la red con parámetros aprendibles (pesos)\n",
    "- Iterar sobre la data de input\n",
    "- Procesar el input por la red\n",
    "- Calcular la pérdida\n",
    "- Obtener los gradientes\n",
    "- Actualizar los pesos de la red por gradiente descendente\n",
    "\n",
    "En pytorch una red se define como una clase, esta tiene como constructor la estructura de la red (capas ocultas, capas especiales, etc), aquí se deben especificar también la cantidad de neuronas. Por ejemplo vamos a definir una red con dos capas ocultas."
   ]
  },
  {
   "cell_type": "code",
   "execution_count": 21,
   "metadata": {},
   "outputs": [],
   "source": [
    "import torch\n",
    "import torch.nn as nn\n",
    "import torch.nn.functional as F\n",
    "\n",
    "class my_primera_red(nn.Module):\n",
    "    def __init__(self):\n",
    "        super().__init__()\n",
    "        self.lin1 = nn.Linear(784, 50, bias=True) \n",
    "        self.lin2 = nn.Linear(50, 20, bias=True)\n",
    "        self.lin3 = nn.Linear(20, 8, bias=True)"
   ]
  },
  {
   "cell_type": "markdown",
   "metadata": {},
   "source": [
    "Se define dentro de la misma clase la función ```forward```, la cual indica las operaciones para pasar de capa en capa, es decir las funciones de activación, además se le debe entregar la data de input."
   ]
  },
  {
   "cell_type": "code",
   "execution_count": 22,
   "metadata": {},
   "outputs": [],
   "source": [
    "class mi_primera_red(nn.Module):\n",
    "    def __init__(self):\n",
    "        super().__init__()\n",
    "        self.lin1 = nn.Linear(784, 128, bias=True) \n",
    "        self.lin2 = nn.Linear(128, 64, bias=True)\n",
    "        self.lin3 = nn.Linear(64, 2, bias=True)\n",
    "\n",
    "    def forward(self, xb):\n",
    "        # Adaptar la forma para que entre en el input layer\n",
    "        x = xb.view(-1,784) \n",
    "        # Se aplica relu como función de activación\n",
    "        x = F.relu(self.lin1(x))\n",
    "        x = F.relu(self.lin2(x))\n",
    "        return self.lin3(x)"
   ]
  },
  {
   "cell_type": "markdown",
   "metadata": {},
   "source": [
    "Definamos la función de pérdida y el mecanismo de optimización. La función de pérdida es la entropía cruzada y vamos a optimizar por gradiente descendente estocástico (SGD)"
   ]
  },
  {
   "cell_type": "code",
   "execution_count": 24,
   "metadata": {},
   "outputs": [],
   "source": [
    "import torch.optim as optim\n",
    "\n",
    "mi_red = mi_primera_red()\n",
    "criterion = nn.CrossEntropyLoss()\n",
    "optimizer = optim.SGD(mi_red.parameters(), lr=0.001)"
   ]
  },
  {
   "cell_type": "markdown",
   "metadata": {},
   "source": [
    "Ahora queda cargar la data"
   ]
  },
  {
   "cell_type": "code",
   "execution_count": 28,
   "metadata": {},
   "outputs": [],
   "source": [
    "from torch.autograd import Variable\n",
    "\n",
    "train_X = Variable(torch.Tensor(X).float())\n",
    "test_X = Variable(torch.Tensor(X_te).float())\n",
    "train_y = Variable(torch.Tensor(np.array(y)[0].astype('int8')).long())\n",
    "test_y = Variable(torch.Tensor(np.array(y_te)[0].astype('int8')).long())"
   ]
  },
  {
   "cell_type": "code",
   "execution_count": 29,
   "metadata": {},
   "outputs": [
    {
     "name": "stdout",
     "output_type": "stream",
     "text": [
      "Epoch actual: 0 , Pérdida: 3.9542239\n",
      "Epoch actual: 10 , Pérdida: 0.32088122\n",
      "Epoch actual: 20 , Pérdida: 0.27094322\n",
      "Epoch actual: 30 , Pérdida: 0.25015005\n",
      "Epoch actual: 40 , Pérdida: 0.23835354\n",
      "Epoch actual: 50 , Pérdida: 0.22985666\n",
      "Epoch actual: 60 , Pérdida: 0.2232973\n",
      "Epoch actual: 70 , Pérdida: 0.2177188\n",
      "Epoch actual: 80 , Pérdida: 0.21294057\n",
      "Epoch actual: 90 , Pérdida: 0.20884198\n",
      "Epoch actual: 100 , Pérdida: 0.20523071\n",
      "Epoch actual: 110 , Pérdida: 0.20199792\n",
      "Epoch actual: 120 , Pérdida: 0.19910014\n",
      "Epoch actual: 130 , Pérdida: 0.19644055\n",
      "Epoch actual: 140 , Pérdida: 0.19402616\n",
      "Epoch actual: 150 , Pérdida: 0.19180036\n",
      "Epoch actual: 160 , Pérdida: 0.18967219\n",
      "Epoch actual: 170 , Pérdida: 0.1876939\n",
      "Epoch actual: 180 , Pérdida: 0.1858324\n",
      "Epoch actual: 190 , Pérdida: 0.18400374\n"
     ]
    }
   ],
   "source": [
    "for epoch in range(200):\n",
    "    optimizer.zero_grad()\n",
    "    out = mi_red(train_X)\n",
    "    loss = criterion(out, train_y)\n",
    "    loss.backward()\n",
    "    optimizer.step()\n",
    "    \n",
    "    if epoch % 10 == 0:\n",
    "        print('Epoch actual: ' + str(epoch) + ' , Pérdida: ' + str(np.array(loss.data)))"
   ]
  },
  {
   "cell_type": "code",
   "execution_count": 30,
   "metadata": {},
   "outputs": [
    {
     "data": {
      "text/plain": [
       "0.9335"
      ]
     },
     "execution_count": 30,
     "metadata": {},
     "output_type": "execute_result"
    }
   ],
   "source": [
    "predict_out = mi_red(test_X) \n",
    "_, predict_y = torch.max(predict_out, 1)\n",
    "accuracy_score(test_y.data, predict_y.data)"
   ]
  },
  {
   "cell_type": "markdown",
   "metadata": {},
   "source": [
    "Veamos que tal el train"
   ]
  },
  {
   "cell_type": "code",
   "execution_count": 33,
   "metadata": {},
   "outputs": [
    {
     "data": {
      "text/plain": [
       "0.9335"
      ]
     },
     "execution_count": 33,
     "metadata": {},
     "output_type": "execute_result"
    }
   ],
   "source": [
    "predict_out = mi_red(train_X) \n",
    "_, predict_y = torch.max(predict_out, 1)\n",
    "accuracy_score(train_y.data, predict_y.data)"
   ]
  },
  {
   "cell_type": "markdown",
   "metadata": {},
   "source": [
    "El sobreajuste se puede controlar reduciendo la complejidad de la arquitectura de redes, o bien aplicando una operación llamada dropout, la cual consiste en eliminar neuronas al azar."
   ]
  },
  {
   "cell_type": "markdown",
   "metadata": {},
   "source": [
    "## Redes convolucionales\n",
    "\n",
    "Pytorch facilita la creación de estas redes, pues ya tiene capas definidas que hacen este trabajo."
   ]
  },
  {
   "cell_type": "code",
   "execution_count": 34,
   "metadata": {},
   "outputs": [],
   "source": [
    "class mi_segunda_red(nn.Module):\n",
    "    def __init__(self):\n",
    "        super().__init__()\n",
    "        self.conv1 = nn.Conv2d(in_channels = 1, out_channels = 20, kernel_size = 4, stride = 1)\n",
    "#        self.conv2 = nn.Conv2d(in_channels = 16, out_channels = 6, kernel_size = 4)\n",
    "        self.lin1 = nn.Linear(720, 600, bias = True) \n",
    "        self.lin2 = nn.Linear(600, 256, bias = True)\n",
    "        self.lin3 = nn.Linear(256, 2, bias = True)\n",
    "\n",
    "    def num_flat_features(self, x):\n",
    "        size = x.size()[1:]\n",
    "        num_features = 1\n",
    "        for s in size:\n",
    "            num_features *= s\n",
    "        return num_features        \n",
    "    \n",
    "    def forward(self, x):\n",
    "        # Se especifica la operación de pooling, en este caso el máximo, se hará sobre una ventana de 4 por 4\n",
    "        x = F.max_pool2d(F.relu(self.conv1(x)), (4, 4))\n",
    "#        x = F.max_pool2d(F.relu(self.conv2(x)), (3, 3))\n",
    "        # Definir algo más variable en caso que las arquitecturas vayan variando\n",
    "        x = x.view(-1, self.num_flat_features(x)) \n",
    "        x = F.relu(self.lin1(x))\n",
    "        x = F.relu(self.lin2(x))\n",
    "        return self.lin3(x)"
   ]
  },
  {
   "cell_type": "code",
   "execution_count": 35,
   "metadata": {},
   "outputs": [],
   "source": [
    "mi_red2 = mi_segunda_red()\n",
    "criterion = nn.CrossEntropyLoss()\n",
    "optimizer = optim.SGD(mi_red2.parameters(), lr = 0.15)\n",
    "# Dar formato de grilla a la data de entrenamiento\n",
    "X_grid_train = torch.reshape(train_X, (12000, 1, 28, 28))"
   ]
  },
  {
   "cell_type": "code",
   "execution_count": 36,
   "metadata": {},
   "outputs": [
    {
     "name": "stdout",
     "output_type": "stream",
     "text": [
      "Epoch actual: 0 , Pérdida: 0.69408983\n",
      "Epoch actual: 10 , Pérdida: 0.6350261\n",
      "Epoch actual: 20 , Pérdida: 0.47324303\n",
      "Epoch actual: 30 , Pérdida: 0.29712325\n",
      "Epoch actual: 40 , Pérdida: 0.28414226\n",
      "Epoch actual: 50 , Pérdida: 0.23176147\n",
      "Epoch actual: 60 , Pérdida: 0.30280262\n",
      "Epoch actual: 70 , Pérdida: 0.22752509\n",
      "Epoch actual: 80 , Pérdida: 0.21075657\n",
      "Epoch actual: 90 , Pérdida: 0.20413359\n",
      "Epoch actual: 100 , Pérdida: 0.19930078\n",
      "Epoch actual: 110 , Pérdida: 0.19534326\n",
      "Epoch actual: 120 , Pérdida: 0.19199033\n",
      "Epoch actual: 130 , Pérdida: 0.1924883\n",
      "Epoch actual: 140 , Pérdida: 0.24191272\n",
      "Epoch actual: 150 , Pérdida: 0.18680601\n",
      "Epoch actual: 160 , Pérdida: 0.18396086\n",
      "Epoch actual: 170 , Pérdida: 0.18183936\n",
      "Epoch actual: 180 , Pérdida: 0.18099752\n",
      "Epoch actual: 190 , Pérdida: 0.2035322\n"
     ]
    }
   ],
   "source": [
    "for epoch in range(200):\n",
    "    optimizer.zero_grad()\n",
    "    out = mi_red2((X_grid_train - 128) / 255)\n",
    "    loss = criterion(out, train_y)\n",
    "    loss.backward()\n",
    "    optimizer.step()\n",
    "    \n",
    "    if epoch % 10 == 0:\n",
    "        print('Epoch actual: ' + str(epoch) + ' , Pérdida: ' + str(np.array(loss.data)))"
   ]
  },
  {
   "cell_type": "code",
   "execution_count": 37,
   "metadata": {},
   "outputs": [
    {
     "data": {
      "text/plain": [
       "0.9293333333333333"
      ]
     },
     "execution_count": 37,
     "metadata": {},
     "output_type": "execute_result"
    }
   ],
   "source": [
    "predict_out = mi_red2((X_grid_train - 128) / 255) \n",
    "_, predict_y = torch.max(predict_out, 1)\n",
    "accuracy_score(train_y.data, predict_y.data)"
   ]
  },
  {
   "cell_type": "code",
   "execution_count": 41,
   "metadata": {},
   "outputs": [
    {
     "data": {
      "text/plain": [
       "0.927"
      ]
     },
     "execution_count": 41,
     "metadata": {},
     "output_type": "execute_result"
    }
   ],
   "source": [
    "# Dar formato de grilla a la data de test\n",
    "X_grid_test = torch.reshape(test_X, (2000, 1, 28, 28))\n",
    "predict_out = mi_red2((X_grid_test - 128) / 255) \n",
    "_, predict_y = torch.max(predict_out, 1)\n",
    "accuracy_score(test_y.data, predict_y.data)"
   ]
  },
  {
   "cell_type": "code",
   "execution_count": 42,
   "metadata": {},
   "outputs": [],
   "source": [
    "preds = np.array(predict_y.data)"
   ]
  },
  {
   "cell_type": "code",
   "execution_count": 52,
   "metadata": {},
   "outputs": [
    {
     "name": "stdout",
     "output_type": "stream",
     "text": [
      "[0 0 0 0 0 0 0 0 1 0 0 0 0 0 0 0 0 0 0 0]\n",
      "0\n",
      "0\n",
      "0\n"
     ]
    }
   ],
   "source": [
    "# Reales\n",
    "print(preds[1000:1020])\n",
    "# Falsos positivo\n",
    "print(preds[1205])\n",
    "print(preds[1204])\n",
    "# Falsos negativos\n",
    "print(preds[9])"
   ]
  },
  {
   "cell_type": "code",
   "execution_count": 53,
   "metadata": {},
   "outputs": [
    {
     "data": {
      "text/plain": [
       "<matplotlib.image.AxesImage at 0x2e08a128828>"
      ]
     },
     "execution_count": 53,
     "metadata": {},
     "output_type": "execute_result"
    },
    {
     "data": {
      "image/png": "[encoded data removed]",
      "text/plain": [
       "<Figure size 432x288 with 1 Axes>"
      ]
     },
     "metadata": {
      "needs_background": "light"
     },
     "output_type": "display_data"
    }
   ],
   "source": [
    "plt.imshow(np.matrix(np.array(X_grid_test.data)[1008]).reshape(28,28))"
   ]
  },
  {
   "cell_type": "code",
   "execution_count": 47,
   "metadata": {},
   "outputs": [
    {
     "data": {
      "text/plain": [
       "<matplotlib.image.AxesImage at 0x2e088bd97b8>"
      ]
     },
     "execution_count": 47,
     "metadata": {},
     "output_type": "execute_result"
    },
    {
     "data": {
      "image/png": "[encoded data removed]",
      "text/plain": [
       "<Figure size 432x288 with 1 Axes>"
      ]
     },
     "metadata": {
      "needs_background": "light"
     },
     "output_type": "display_data"
    }
   ],
   "source": [
    "plt.imshow(np.matrix(np.array(X_grid_test.data)[1204]).reshape(28,28))"
   ]
  },
  {
   "cell_type": "code",
   "execution_count": 53,
   "metadata": {},
   "outputs": [
    {
     "data": {
      "text/plain": [
       "<matplotlib.image.AxesImage at 0x1639ae3c668>"
      ]
     },
     "execution_count": 53,
     "metadata": {},
     "output_type": "execute_result"
    },
    {
     "data": {
      "image/png": "[encoded data removed]",
      "text/plain": [
       "<Figure size 432x288 with 1 Axes>"
      ]
     },
     "metadata": {
      "needs_background": "light"
     },
     "output_type": "display_data"
    }
   ],
   "source": [
    "plt.imshow(np.matrix(np.array(X_grid_test.data)[1205]).reshape(28,28))"
   ]
  },
  {
   "cell_type": "code",
   "execution_count": 56,
   "metadata": {},
   "outputs": [
    {
     "data": {
      "text/plain": [
       "<matplotlib.image.AxesImage at 0x1639ae98390>"
      ]
     },
     "execution_count": 56,
     "metadata": {},
     "output_type": "execute_result"
    },
    {
     "data": {
      "image/png": "[encoded data removed]",
      "text/plain": [
       "<Figure size 432x288 with 1 Axes>"
      ]
     },
     "metadata": {
      "needs_background": "light"
     },
     "output_type": "display_data"
    }
   ],
   "source": [
    "plt.imshow(np.matrix(np.array(X_grid_test.data)[9]).reshape(28,28))"
   ]
  },
  {
   "cell_type": "code",
   "execution_count": null,
   "metadata": {},
   "outputs": [],
   "source": []
  },
  {
   "cell_type": "code",
   "execution_count": null,
   "metadata": {},
   "outputs": [],
   "source": []
  }
 ],
 "metadata": {
  "kernelspec": {
   "display_name": "Python 3",
   "language": "python",
   "name": "python3"
  },
  "language_info": {
   "codemirror_mode": {
    "name": "ipython",
    "version": 3
   },
   "file_extension": ".py",
   "mimetype": "text/x-python",
   "name": "python",
   "nbconvert_exporter": "python",
   "pygments_lexer": "ipython3",
   "version": "3.7.1"
  }
 },
 "nbformat": 4,
 "nbformat_minor": 2
}
