{
 "cells": [
  {
   "cell_type": "markdown",
   "metadata": {},
   "source": [
    "## Clase 0: Programación Básica en Python\n",
    "Hola, antes de comenzar de lleno en Python, vamos a presentar un notebook de jupyter. \n",
    "Jupyter es una herramienta que está pensada para la experimentación y documentación de código, por lo cual es idónea para los objetivos de este curso.\n",
    "\n",
    "Si hacen doble click en este texto podrán ver la sintaxis editable del mismo. Con la abreviatura Ctrl + Enter se ejecuta un bloque de código o texto."
   ]
  },
  {
   "cell_type": "markdown",
   "metadata": {},
   "source": [
    "Jupyter tiene tres tipos de bloques: texto plano, código o Markdown. Este último es un lenguaje de escritura simplificado, como un $\\LaTeX$ minimalista. Por cierto acepta ecuaciones de $\\LaTeX$"
   ]
  },
  {
   "cell_type": "markdown",
   "metadata": {},
   "source": [
    "## Tamaño de texto\n",
    "\n",
    "# un gato es para texto muy grande\n",
    "## Dos gatos es para texto grande\n",
    "### tres gatos es para texto intermedio\n",
    "#### cuatro gatos es para texto pequeño, como de texto de cuerpo en negrita.\n",
    "\n",
    "## Formato de texto\n",
    "\n",
    "* *El texto entre encerrado por un asterisco se escribe en cursiva*\n",
    "* **Usando texto entre dos asteriscos se escribe en negrita**\n",
    "* ~~El texto entre dos tildes se tacha~~\n",
    "* `Si lo ponen entre dos acentos invertidos se vé como formato courier new`\n",
    "* Por cierto, ¿notaron que un asterisco seguido de un espacio lista?\n",
    "\n",
    "## Tablas\n",
    "\n",
    "Es intuitivo pero algo lentas de hacer, las líneas de la tabla van todas separadas por pipes (|) y por guiones(-)\n",
    "\n",
    "| Campo filas | Columna 1 | Columna 2 |\n",
    "| --- | --- | --- |\n",
    "| Fila 1 | valor 11 | valor 12 |\n",
    "| Fila 2 | valor 21 | valor 22 |\n",
    "\n",
    "## Ecuaciones\n",
    "\n",
    "Todos los códigos mátematicos van encerrados por $, tal como en latex. Por ejemplo la regla de Bayes se escribiría como:\n",
    "\n",
    "$$P(A | B) = \\frac{P(B|A) \\cdot P(A)}{P(B)}$$\n",
    "\n",
    "Para más detalles en los símbolos de $\\LaTeX$, pueden consultar en [este link](https://en.wikibooks.org/wiki/LaTeX/Mathematics) o bien si no saben como se llama el simbolo en [este otro link](http://detexify.kirelabs.org/classify.html) pueden dibujar el signo a mano y lo reconocerá.\n",
    "\n",
    "## Imagenes\n",
    "\n",
    "En markdown también se pueden insertar imagenes refenciando la ruta del archivo local o bien la url de la imagen.\n",
    "\n",
    "![alt text](https://bournetocode.com/projects/AQA_AS_Theory/pages/img/markdown.jpg)\n"
   ]
  },
  {
   "cell_type": "markdown",
   "metadata": {},
   "source": [
    "## De vuelta a Python\n",
    "\n",
    "De vuelta a lo nuestro, un primer programa en Python sería el \"Hola Mundo!\""
   ]
  },
  {
   "cell_type": "code",
   "execution_count": 1,
   "metadata": {},
   "outputs": [
    {
     "name": "stdout",
     "output_type": "stream",
     "text": [
      "hola mundo!\n"
     ]
    }
   ],
   "source": [
    "print('hola mundo!')"
   ]
  },
  {
   "cell_type": "markdown",
   "metadata": {},
   "source": [
    "Python no pide que primero se le asignen los tipos de variable, son detectados automáticamente, al igual que en el caso de R. Por ejemplo. "
   ]
  },
  {
   "cell_type": "code",
   "execution_count": 2,
   "metadata": {},
   "outputs": [
    {
     "name": "stdout",
     "output_type": "stream",
     "text": [
      "<class 'int'>\n",
      "<class 'float'>\n",
      "<class 'str'>\n"
     ]
    }
   ],
   "source": [
    "a = 3\n",
    "b = 3.2\n",
    "c = \"hola!\"\n",
    "print(type(a))\n",
    "print(type(b))\n",
    "print(type(c))"
   ]
  },
  {
   "cell_type": "markdown",
   "metadata": {},
   "source": [
    "Ya quedó claro que las variables son asignadas con el operador \"=\", el operador \"+\" por otra parte suma dos valores sumables"
   ]
  },
  {
   "cell_type": "code",
   "execution_count": 3,
   "metadata": {},
   "outputs": [
    {
     "name": "stdout",
     "output_type": "stream",
     "text": [
      "6.2\n"
     ]
    }
   ],
   "source": [
    "print(a + b)"
   ]
  },
  {
   "cell_type": "markdown",
   "metadata": {},
   "source": [
    "ETambién acepta texto; concatenando ambos, sin embargo no puede sumar texto y números."
   ]
  },
  {
   "cell_type": "code",
   "execution_count": 4,
   "metadata": {},
   "outputs": [
    {
     "data": {
      "text/plain": [
       "'holachao'"
      ]
     },
     "execution_count": 4,
     "metadata": {},
     "output_type": "execute_result"
    }
   ],
   "source": [
    "'hola' + 'chao'"
   ]
  },
  {
   "cell_type": "markdown",
   "metadata": {},
   "source": [
    "Por otra parte está el operador de multiplicación que multiplica dos números, en texto no es permitido, pero si entre un entero y un string, repitiendo la cadena por la cantidad de veces que se multiplica."
   ]
  },
  {
   "cell_type": "code",
   "execution_count": 5,
   "metadata": {},
   "outputs": [
    {
     "data": {
      "text/plain": [
       "'Repite Repite Repite Repite Repite Repite Repite Repite Repite Repite '"
      ]
     },
     "execution_count": 5,
     "metadata": {},
     "output_type": "execute_result"
    }
   ],
   "source": [
    "'Repite ' * 10"
   ]
  },
  {
   "cell_type": "markdown",
   "metadata": {},
   "source": [
    "Un número se puede convertir en cadena de texto usando la función ```str```"
   ]
  },
  {
   "cell_type": "code",
   "execution_count": 8,
   "metadata": {},
   "outputs": [
    {
     "name": "stdout",
     "output_type": "stream",
     "text": [
      "la variable a tiene el valor 2 por tanto es un <class 'int'>\n",
      "la variable b tiene el valor 4 por tanto es un <class 'int'>\n",
      "la variable c tiene el valor 0.5 por tanto es un <class 'float'>\n"
     ]
    }
   ],
   "source": [
    "a = 2\n",
    "b = 4\n",
    "c = a / b\n",
    "\n",
    "print('la variable a tiene el valor ' + str(a) + ' por tanto es un ' + str(type(a)))\n",
    "print('la variable b tiene el valor ' + str(b) + ' por tanto es un ' + str(type(b)))\n",
    "print('la variable c tiene el valor ' + str(c) + ' por tanto es un ' + str(type(c)))"
   ]
  },
  {
   "cell_type": "markdown",
   "metadata": {},
   "source": [
    "También está el operador resto o módulo entre dos números."
   ]
  },
  {
   "cell_type": "code",
   "execution_count": 9,
   "metadata": {},
   "outputs": [
    {
     "data": {
      "text/plain": [
       "1"
      ]
     },
     "execution_count": 9,
     "metadata": {},
     "output_type": "execute_result"
    }
   ],
   "source": [
    "4 % 3"
   ]
  },
  {
   "cell_type": "markdown",
   "metadata": {},
   "source": [
    "### Tuplas"
   ]
  },
  {
   "cell_type": "markdown",
   "metadata": {},
   "source": [
    "Una tupla es un arreglo de valores el cual es inmutable, si suele escribir con parentesis, pero también es legal escribirla sin ellos. No es posible modificar sus valores, sólo leerlos"
   ]
  },
  {
   "cell_type": "code",
   "execution_count": 8,
   "metadata": {},
   "outputs": [
    {
     "name": "stdout",
     "output_type": "stream",
     "text": [
      "(1, 2, 3, 4, 5)\n",
      "(1, 2, 3, 4, 5)\n"
     ]
    }
   ],
   "source": [
    "mi_tupla = (1, 2, 3, 4, 5)\n",
    "mi_otra_tupla = 1, 2, 3, 4, 5\n",
    "\n",
    "print(mi_tupla)\n",
    "print(mi_otra_tupla)"
   ]
  },
  {
   "cell_type": "code",
   "execution_count": 9,
   "metadata": {},
   "outputs": [
    {
     "data": {
      "text/plain": [
       "5"
      ]
     },
     "execution_count": 9,
     "metadata": {},
     "output_type": "execute_result"
    }
   ],
   "source": [
    "mi_tupla[4]"
   ]
  },
  {
   "cell_type": "code",
   "execution_count": 10,
   "metadata": {},
   "outputs": [
    {
     "data": {
      "text/plain": [
       "(1, 2, 3, 4, 3, 4, 5, 6)"
      ]
     },
     "execution_count": 10,
     "metadata": {},
     "output_type": "execute_result"
    }
   ],
   "source": [
    "(1,2,3,4) + (3,4,5,6)"
   ]
  },
  {
   "cell_type": "code",
   "execution_count": 11,
   "metadata": {},
   "outputs": [
    {
     "ename": "TypeError",
     "evalue": "'tuple' object does not support item assignment",
     "output_type": "error",
     "traceback": [
      "\u001b[1;31m---------------------------------------------------------------------------\u001b[0m",
      "\u001b[1;31mTypeError\u001b[0m                                 Traceback (most recent call last)",
      "\u001b[1;32m<ipython-input-11-e27ddb5a6cb1>\u001b[0m in \u001b[0;36m<module>\u001b[1;34m\u001b[0m\n\u001b[1;32m----> 1\u001b[1;33m \u001b[0mmi_tupla\u001b[0m\u001b[1;33m[\u001b[0m\u001b[1;36m2\u001b[0m\u001b[1;33m]\u001b[0m \u001b[1;33m=\u001b[0m \u001b[1;36m9\u001b[0m\u001b[1;33m\u001b[0m\u001b[1;33m\u001b[0m\u001b[0m\n\u001b[0m",
      "\u001b[1;31mTypeError\u001b[0m: 'tuple' object does not support item assignment"
     ]
    }
   ],
   "source": [
    "mi_tupla[2] = 9"
   ]
  },
  {
   "cell_type": "markdown",
   "metadata": {},
   "source": [
    "Por otra parte, si bien es cierto una tupla es un tipo, los valores asignados dentro de la tupla pueden ser de otro tipo de clase"
   ]
  },
  {
   "cell_type": "code",
   "execution_count": 17,
   "metadata": {},
   "outputs": [
    {
     "name": "stdout",
     "output_type": "stream",
     "text": [
      "<class 'tuple'>\n",
      "<class 'int'>\n",
      "<class 'str'>\n",
      "<class 'bool'>\n",
      "<class 'float'>\n"
     ]
    }
   ],
   "source": [
    "mi_otra_tupla = (1, \"simon\", False, 1.0)\n",
    "\n",
    "print(type(mi_otra_tupla))\n",
    "print(type(mi_otra_tupla[0]))\n",
    "print(type(mi_otra_tupla[1]))\n",
    "print(type(mi_otra_tupla[2]))\n",
    "print(type(mi_otra_tupla[3]))"
   ]
  },
  {
   "cell_type": "markdown",
   "metadata": {},
   "source": [
    "La principal utilidad de las tuplas es el guardado de información, garantizando que esta no sea alterada en un futuro."
   ]
  },
  {
   "cell_type": "markdown",
   "metadata": {},
   "source": [
    "### Listas\n",
    "Una lista a diferencia de una tupla, si puede ser mutada. Se escriben como el arreglo entre parentesis cuadrados."
   ]
  },
  {
   "cell_type": "code",
   "execution_count": 21,
   "metadata": {},
   "outputs": [
    {
     "name": "stdout",
     "output_type": "stream",
     "text": [
      "[1, 2, 6, 4]\n"
     ]
    }
   ],
   "source": [
    "mi_lista = [1, 2, 3, 4]\n",
    "mi_lista[2] = 6\n",
    "\n",
    "print(mi_lista)"
   ]
  },
  {
   "cell_type": "markdown",
   "metadata": {},
   "source": [
    "como se puede ver, los valores pueden ser alterados. Algunos de los métodos que se le pueden aplicar a las listas son:\n",
    "\n",
    "- Concatenar \n",
    "- Appendar\n",
    "- Borrar\n",
    "- Cortar\n",
    "- Insertar\n",
    "- Reordenar\n",
    "- Repetir"
   ]
  },
  {
   "cell_type": "code",
   "execution_count": 22,
   "metadata": {},
   "outputs": [
    {
     "data": {
      "text/plain": [
       "[1, 2, 6, 4, 7, 4, 8, 7, 8, 9]"
      ]
     },
     "execution_count": 22,
     "metadata": {},
     "output_type": "execute_result"
    }
   ],
   "source": [
    "# Concatenar\n",
    "\n",
    "mi_lista + [7, 4, 8, 7, 8, 9]\n"
   ]
  },
  {
   "cell_type": "code",
   "execution_count": 23,
   "metadata": {},
   "outputs": [
    {
     "name": "stdout",
     "output_type": "stream",
     "text": [
      "[1, 2, 6, 4, 10]\n"
     ]
    }
   ],
   "source": [
    "# Apendar\n",
    "\n",
    "mi_lista.append(10)\n",
    "print(mi_lista)"
   ]
  },
  {
   "cell_type": "code",
   "execution_count": 24,
   "metadata": {},
   "outputs": [
    {
     "data": {
      "text/plain": [
       "[1,\n",
       " 2,\n",
       " 6,\n",
       " 4,\n",
       " 10,\n",
       " 1,\n",
       " 2,\n",
       " 6,\n",
       " 4,\n",
       " 10,\n",
       " 1,\n",
       " 2,\n",
       " 6,\n",
       " 4,\n",
       " 10,\n",
       " 1,\n",
       " 2,\n",
       " 6,\n",
       " 4,\n",
       " 10,\n",
       " 1,\n",
       " 2,\n",
       " 6,\n",
       " 4,\n",
       " 10]"
      ]
     },
     "execution_count": 24,
     "metadata": {},
     "output_type": "execute_result"
    }
   ],
   "source": [
    "# Repetir\n",
    "\n",
    "mi_lista * 5"
   ]
  },
  {
   "cell_type": "code",
   "execution_count": 25,
   "metadata": {},
   "outputs": [
    {
     "name": "stdout",
     "output_type": "stream",
     "text": [
      "[2, 6, 4, 10]\n",
      "[1]\n",
      "[2, 6]\n"
     ]
    }
   ],
   "source": [
    "# Cortar\n",
    "\n",
    "print(mi_lista[1:])\n",
    "print(mi_lista[:1])\n",
    "print(mi_lista[1:3])"
   ]
  },
  {
   "cell_type": "markdown",
   "metadata": {},
   "source": [
    "Notar que en python siempre se sigue una lógica de intervalo cerrado - abierto, es decir ´´´mi_lista[1:3]´´´ quiere decir $[1, 3[$, a diferencia de R por ejemplo que se toman como cerrado $[1, 3]$"
   ]
  },
  {
   "cell_type": "code",
   "execution_count": 23,
   "metadata": {},
   "outputs": [
    {
     "name": "stdout",
     "output_type": "stream",
     "text": [
      "[1, 2, 6, 0, 4, 10]\n"
     ]
    }
   ],
   "source": [
    "# Insertar\n",
    "mi_lista.insert(3, 0)\n",
    "print(mi_lista)"
   ]
  },
  {
   "cell_type": "code",
   "execution_count": 25,
   "metadata": {},
   "outputs": [
    {
     "ename": "NameError",
     "evalue": "name 'mi_lista' is not defined",
     "output_type": "error",
     "traceback": [
      "\u001b[1;31m---------------------------------------------------------------------------\u001b[0m",
      "\u001b[1;31mNameError\u001b[0m                                 Traceback (most recent call last)",
      "\u001b[1;32m<ipython-input-25-a811ccd1a503>\u001b[0m in \u001b[0;36m<module>\u001b[1;34m\u001b[0m\n\u001b[0;32m      2\u001b[0m \u001b[1;33m\u001b[0m\u001b[0m\n\u001b[0;32m      3\u001b[0m \u001b[1;32mdel\u001b[0m \u001b[0mmi_lista\u001b[0m\u001b[1;33m\u001b[0m\u001b[1;33m\u001b[0m\u001b[0m\n\u001b[1;32m----> 4\u001b[1;33m \u001b[0mprint\u001b[0m\u001b[1;33m(\u001b[0m\u001b[0mmi_lista\u001b[0m\u001b[1;33m)\u001b[0m\u001b[1;33m\u001b[0m\u001b[1;33m\u001b[0m\u001b[0m\n\u001b[0m",
      "\u001b[1;31mNameError\u001b[0m: name 'mi_lista' is not defined"
     ]
    }
   ],
   "source": [
    "# Borrar\n",
    "\n",
    "del mi_lista\n",
    "print(mi_lista)"
   ]
  },
  {
   "cell_type": "code",
   "execution_count": 28,
   "metadata": {},
   "outputs": [
    {
     "name": "stdout",
     "output_type": "stream",
     "text": [
      "[4, 6, 2, 1]\n",
      "[1, 2, 4, 6]\n"
     ]
    }
   ],
   "source": [
    "#Reordenar\n",
    "\n",
    "mi_lista.reverse()\n",
    "print(mi_lista)\n",
    "\n",
    "mi_lista.sort()\n",
    "print(mi_lista)"
   ]
  },
  {
   "cell_type": "code",
   "execution_count": 29,
   "metadata": {},
   "outputs": [
    {
     "data": {
      "text/plain": [
       "5"
      ]
     },
     "execution_count": 29,
     "metadata": {},
     "output_type": "execute_result"
    }
   ],
   "source": [
    "#logitud\n",
    "mi_lista = [4, 5, 6, 7, 8]\n",
    "len(mi_lista)\n"
   ]
  },
  {
   "cell_type": "markdown",
   "metadata": {},
   "source": [
    "Para generar una arreglo ordenado, existe la función ```range(a, b)```. Si ```a``` no está presente, toma por defecto el valor 0"
   ]
  },
  {
   "cell_type": "code",
   "execution_count": 30,
   "metadata": {},
   "outputs": [
    {
     "data": {
      "text/plain": [
       "range(2, 10)"
      ]
     },
     "execution_count": 30,
     "metadata": {},
     "output_type": "execute_result"
    }
   ],
   "source": [
    "range(2, 10)"
   ]
  },
  {
   "cell_type": "markdown",
   "metadata": {},
   "source": [
    "range es un iterador (lo veremos más adelante), por lo cual para ver sus valores, se debe llamar con un la función ```list```"
   ]
  },
  {
   "cell_type": "code",
   "execution_count": 31,
   "metadata": {},
   "outputs": [
    {
     "data": {
      "text/plain": [
       "[2, 3, 4, 5, 6, 7, 8, 9]"
      ]
     },
     "execution_count": 31,
     "metadata": {},
     "output_type": "execute_result"
    }
   ],
   "source": [
    "list(range(2, 10))"
   ]
  },
  {
   "cell_type": "markdown",
   "metadata": {},
   "source": [
    "### Diccionarios"
   ]
  },
  {
   "cell_type": "markdown",
   "metadata": {},
   "source": [
    "Un dicionario es un tipo de arreglo que asocia una llave con un objeto. Se definen usando corchetes."
   ]
  },
  {
   "cell_type": "code",
   "execution_count": 32,
   "metadata": {},
   "outputs": [
    {
     "data": {
      "text/plain": [
       "[7.0, 7.0, 7.0, 6.9]"
      ]
     },
     "execution_count": 32,
     "metadata": {},
     "output_type": "execute_result"
    }
   ],
   "source": [
    "mi_diccionario = {'Nota T1': [2.0, 3.0, 6.0, 4.0],\n",
    "                  'T2': [7.0, 7.0, 7.0, 6.9]}\n",
    "mi_diccionario['T2']"
   ]
  },
  {
   "cell_type": "code",
   "execution_count": 26,
   "metadata": {},
   "outputs": [],
   "source": [
    "colores = {'Johana': 'Violeta',\n",
    "          'Jose': 'Azul',\n",
    "          'Victor': 'Rosado',\n",
    "          'Vanessa': ('turquesa', 'morado')}"
   ]
  },
  {
   "cell_type": "code",
   "execution_count": 37,
   "metadata": {},
   "outputs": [
    {
     "data": {
      "text/plain": [
       "('turquesa', 'morado')"
      ]
     },
     "execution_count": 37,
     "metadata": {},
     "output_type": "execute_result"
    }
   ],
   "source": [
    "colores['Vanessa']"
   ]
  },
  {
   "cell_type": "markdown",
   "metadata": {},
   "source": [
    "Existen métodod que nos permiten recuperar la llaves y los valores"
   ]
  },
  {
   "cell_type": "code",
   "execution_count": 38,
   "metadata": {},
   "outputs": [
    {
     "data": {
      "text/plain": [
       "dict_keys(['Johana', 'Jose', 'Victor', 'Vanessa'])"
      ]
     },
     "execution_count": 38,
     "metadata": {},
     "output_type": "execute_result"
    }
   ],
   "source": [
    "colores.keys()"
   ]
  },
  {
   "cell_type": "code",
   "execution_count": 39,
   "metadata": {},
   "outputs": [
    {
     "data": {
      "text/plain": [
       "dict_values(['Violeta', 'Azul', 'Rosado', ('turquesa', 'morado')])"
      ]
     },
     "execution_count": 39,
     "metadata": {},
     "output_type": "execute_result"
    }
   ],
   "source": [
    "colores.values()"
   ]
  },
  {
   "cell_type": "markdown",
   "metadata": {},
   "source": [
    "### Control de Flujo\n",
    "\n",
    "Python para odenar el control de flujo, no usa corchetes, sino más bien se guía por la indentación. Por ejemplo "
   ]
  },
  {
   "cell_type": "code",
   "execution_count": 2,
   "metadata": {},
   "outputs": [
    {
     "name": "stdout",
     "output_type": "stream",
     "text": [
      "8 es mayor que 6\n"
     ]
    }
   ],
   "source": [
    "b = 6\n",
    "a = 8\n",
    "if(a <= b):\n",
    "    print(str(a) + ' es menor o igual que ' + str(b))\n",
    "else:\n",
    "    print(str(a) + ' es mayor que ' + str(b))\n"
   ]
  },
  {
   "cell_type": "markdown",
   "metadata": {},
   "source": [
    "Como se puede ver, lo que está indentado es lo que está adentro del if o del else, esto fuerza la legibilidad del código. Esto es uno de los motivos de la popularidad de python, no puedes escribir \"código feo\". "
   ]
  },
  {
   "cell_type": "markdown",
   "metadata": {},
   "source": [
    "Si hay más de un posible else, esto se gestiona con un ```elif```"
   ]
  },
  {
   "cell_type": "code",
   "execution_count": 43,
   "metadata": {},
   "outputs": [
    {
     "name": "stdout",
     "output_type": "stream",
     "text": [
      "2.6 es menor que 3\n"
     ]
    }
   ],
   "source": [
    "a = 2\n",
    "b = 3 \n",
    "c = 2.6\n",
    "\n",
    "if(c < a):\n",
    "    print(str(c) + ' es menor que ' + str(a))\n",
    "elif(c < b):\n",
    "    print(str(c) + ' es menor que ' + str(b))\n",
    "else:\n",
    "    print(str(c) + ' es el número más grande')\n"
   ]
  },
  {
   "cell_type": "markdown",
   "metadata": {},
   "source": [
    "Un ciclo iterativo, se puede escribir con ls sentencia ```while``` de la siguiente forma"
   ]
  },
  {
   "cell_type": "code",
   "execution_count": 44,
   "metadata": {},
   "outputs": [
    {
     "name": "stdout",
     "output_type": "stream",
     "text": [
      "1\n",
      "2\n",
      "3\n",
      "4\n",
      "5\n"
     ]
    }
   ],
   "source": [
    "a = 1\n",
    "b = 5\n",
    "\n",
    "while(a <= b):\n",
    "    print(a)\n",
    "    a += 1"
   ]
  },
  {
   "cell_type": "code",
   "execution_count": 45,
   "metadata": {},
   "outputs": [
    {
     "data": {
      "text/plain": [
       "6"
      ]
     },
     "execution_count": 45,
     "metadata": {},
     "output_type": "execute_result"
    }
   ],
   "source": [
    "a"
   ]
  },
  {
   "cell_type": "markdown",
   "metadata": {},
   "source": [
    "Una alternativa es escribirlo con un for, se llaman como un índice recorriendo una lista. Por ejemplo"
   ]
  },
  {
   "cell_type": "code",
   "execution_count": 3,
   "metadata": {},
   "outputs": [
    {
     "name": "stdout",
     "output_type": "stream",
     "text": [
      "1\n",
      "2\n",
      "3\n",
      "10\n"
     ]
    }
   ],
   "source": [
    "for i in [1, 2, 3, 10]:\n",
    "    print(i)"
   ]
  },
  {
   "cell_type": "markdown",
   "metadata": {},
   "source": [
    "### Funciones\n",
    "\n",
    "Al igual que en la mayoría de lenguajes, Python permite la generación de funciones, para hacerlas se parte con la palabra ```def``` "
   ]
  },
  {
   "cell_type": "code",
   "execution_count": 27,
   "metadata": {},
   "outputs": [
    {
     "name": "stdout",
     "output_type": "stream",
     "text": [
      "11\n"
     ]
    }
   ],
   "source": [
    "def suma(a, b):\n",
    "    # Acá defino C\n",
    "    c = a + b\n",
    "    return c\n",
    "    \n",
    "print(suma(6, 5))    "
   ]
  },
  {
   "cell_type": "markdown",
   "metadata": {},
   "source": [
    "Además de las funciones normales, existen una categoría de funciones anónimas llamadas funciones Lambda,\n",
    "estas son funciones que no quedan guardadas y son usadas para obtener resultados rápidos. Por ejemplo una función que eleva al cuadrado sería la siguiente:"
   ]
  },
  {
   "cell_type": "code",
   "execution_count": 28,
   "metadata": {},
   "outputs": [
    {
     "data": {
      "text/plain": [
       "81"
      ]
     },
     "execution_count": 28,
     "metadata": {},
     "output_type": "execute_result"
    }
   ],
   "source": [
    "def cuadrado(x):\n",
    "    return x*x\n",
    "cuadrado(9)\n",
    "\n",
    "(lambda x: x*x)(9)"
   ]
  },
  {
   "cell_type": "markdown",
   "metadata": {},
   "source": [
    "## Ejercicios"
   ]
  },
  {
   "cell_type": "markdown",
   "metadata": {},
   "source": [
    "1. Escriba un programa en Python que encuentre todos los números entre 0 y n que sean divisibles por 7, pero no sean multiplos de 5.\n",
    "2. Escriba un programa en Python que calcule una productoria de una función f desde 1 hasta el número n."
   ]
  },
  {
   "cell_type": "markdown",
   "metadata": {},
   "source": [
    "## Soluciones\n",
    "\n",
    "### Problema 1\n",
    "Recordemos que un número es divisible por otro si su resto es cero, por ejemplo si queremos validar que el 10 es divisible por 5 basta hacer"
   ]
  },
  {
   "cell_type": "code",
   "execution_count": 10,
   "metadata": {},
   "outputs": [
    {
     "data": {
      "text/plain": [
       "True"
      ]
     },
     "execution_count": 10,
     "metadata": {},
     "output_type": "execute_result"
    }
   ],
   "source": [
    "10 % 5 == 0"
   ]
  },
  {
   "cell_type": "markdown",
   "metadata": {},
   "source": [
    "Ahora generamos una función que dado un número recorra todos ellos y valide sus condiciones, divisible por 7 y que no sea múltiplo de 5"
   ]
  },
  {
   "cell_type": "code",
   "execution_count": 11,
   "metadata": {},
   "outputs": [
    {
     "data": {
      "text/plain": [
       "[7, 14, 21, 28, 42, 49, 56, 63, 77, 84, 91, 98]"
      ]
     },
     "execution_count": 11,
     "metadata": {},
     "output_type": "execute_result"
    }
   ],
   "source": [
    "def num(n):\n",
    "    a = []\n",
    "    for i in range(n + 1):\n",
    "        if (i % 7 == 0) & (i % 5 != 0):\n",
    "            a.append(i)\n",
    "    return a\n",
    "\n",
    "num(100)"
   ]
  },
  {
   "cell_type": "markdown",
   "metadata": {},
   "source": [
    "### Problema 2\n",
    "Buscamos hacer esto\n",
    "\n",
    "$$g(n) = \\prod_{i = 1} ^ n f(i)$$\n",
    "\n",
    "Donde $f$ es una función definida por el usuario. Por ejemplo si $f(x) = x^2$, entonces la función debe calcular\n",
    "\n",
    "$$g(n) = \\prod_{i = 1} ^ n i^2$$\n"
   ]
  },
  {
   "cell_type": "code",
   "execution_count": 29,
   "metadata": {},
   "outputs": [],
   "source": [
    "def productoria(f, n):\n",
    "    if n == 1:\n",
    "        return f(n)\n",
    "    elif n > 1:\n",
    "        return f(n) * productoria(f, n - 1)"
   ]
  },
  {
   "cell_type": "code",
   "execution_count": 30,
   "metadata": {},
   "outputs": [
    {
     "data": {
      "text/plain": [
       "36"
      ]
     },
     "execution_count": 30,
     "metadata": {},
     "output_type": "execute_result"
    }
   ],
   "source": [
    "def cuadrado(x):\n",
    "    return x**2\n",
    "\n",
    "#productoria(lambda x: x**2, 3)\n",
    "productoria(cuadrado, 3)\n"
   ]
  },
  {
   "cell_type": "code",
   "execution_count": null,
   "metadata": {},
   "outputs": [],
   "source": []
  }
 ],
 "metadata": {
  "kernelspec": {
   "display_name": "Python 3",
   "language": "python",
   "name": "python3"
  },
  "language_info": {
   "codemirror_mode": {
    "name": "ipython",
    "version": 3
   },
   "file_extension": ".py",
   "mimetype": "text/x-python",
   "name": "python",
   "nbconvert_exporter": "python",
   "pygments_lexer": "ipython3",
   "version": "3.7.1"
  }
 },
 "nbformat": 4,
 "nbformat_minor": 2
}
